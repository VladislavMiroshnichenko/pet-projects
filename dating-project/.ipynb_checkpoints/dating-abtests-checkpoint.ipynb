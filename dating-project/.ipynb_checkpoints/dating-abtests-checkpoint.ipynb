{
 "cells": [
  {
   "cell_type": "markdown",
   "id": "fe3c9f0d",
   "metadata": {},
   "source": [
    "# A/A/B тестирование среди пользователей приложения для знакомств.\n",
    "\n",
    "**Описание проекта**\n",
    "\n",
    "Помимо базовых функций, в дейтинговом приложении также имеется премиум-подписка, которая дает доступ к ряду важных дополнительных возможностей. \n",
    "\n",
    "Был проведен A/B тест, в рамках которого для новых пользователей из нескольких стран была изменена стоимость премиум-подписки* при покупке через две новые платежные системы. При этом стоимость пробного периода оставалась прежней.\n",
    "\n",
    "*Деньги за подписку списываются ежемесячно до тех пор, пока пользователь её не отменит.*"
   ]
  },
  {
   "cell_type": "markdown",
   "id": "be368d47",
   "metadata": {},
   "source": [
    "---"
   ]
  },
  {
   "cell_type": "code",
   "execution_count": 1,
   "id": "5115d1f2",
   "metadata": {},
   "outputs": [],
   "source": [
    "import pandas as pd\n",
    "from IPython.display import display\n",
    "import scipy.stats as ss\n",
    "from scipy import stats\n",
    "from scipy.stats import ttest_ind\n",
    "from scipy.stats import norm\n",
    "import numpy as np\n",
    "import matplotlib.pyplot as plt\n",
    "import seaborn as sns\n",
    "from tqdm.auto import tqdm\n",
    "from io import BytesIO\n",
    "import requests\n",
    "from urllib.parse import urlencode\n",
    "import json\n",
    "\n",
    "import warnings\n",
    "warnings.filterwarnings(\"ignore\")"
   ]
  },
  {
   "cell_type": "markdown",
   "id": "6c0e68ea",
   "metadata": {},
   "source": [
    "---"
   ]
  },
  {
   "cell_type": "markdown",
   "id": "0a41ac3a",
   "metadata": {},
   "source": [
    "## Описание данных\n",
    "\n",
    "---\n",
    "\n",
    "### Колонки в данных users_*\n",
    "\n",
    "- *users_test* – информация о пользователях в тестовой группе. \n",
    "- *users_control_1* – информация о пользователях в первой контрольной группе. \n",
    "- *users_control_2* – информация о пользователях во второй контрольной группе.\n",
    "\n",
    "---\n",
    "\n",
    "- *uid* – идентификатор пользователя\n",
    "- *age* – возраст\n",
    "- *attraction_coeff* – коэффициент привлекательности\n",
    "- *coins* – число монеток (внутренняя валюта)\n",
    "- *country* – страна  \n",
    "- *visit_days* – в какие дни после регистрации пользователь посещал приложение (напр. в 1, затем в 7)\n",
    "- *gender* – пол\n",
    "- *age_filter_start* – фильтр поиска, мин. значение \n",
    "- *age_filter_end* – фильтр поиска, макс. значение \n",
    "- *views_count* – число полученных оценок \n",
    "- *was_premium* – был ли когда-либо премиум (либо пробный период премиум-статуса, либо купленный за деньги)\n",
    "- *is_premium* – является ли премиум\n",
    "- *total_revenue*– нормированная выручка\n",
    "\n",
    "--- \n",
    "\n",
    "### Колонки в данных transactions_*\n",
    "\n",
    "- *transactions_test* – информация о платежах пользователей в тестовой группе. \n",
    "- *transactions_control_1* – информация о платежах пользователей в первой контрольной группе. \n",
    "- *transactions_control_2* – информация о платежах пользователей во второй контрольной группе.\n",
    "\n",
    "---\n",
    "\n",
    "- *uid* – идентификатор пользователя\n",
    "- *country* – страна\n",
    "- *joined_at* – дата и время регистрации\n",
    "- *paid_at* – дата и время покупки\n",
    "- *revenue* – нормированная выручка\n",
    "- *payment_id* – идентификатор платежа\n",
    "- *from_page* – откуда пользователь перешел на страницу оплаты\n",
    "- *product_type* – тип продукта (*trial_premium* – пробная премиум-подписка, *premium_no_trial* – премиум-подписка без пробной, *coins* – подписка за внутреннюю валюту, *other_type* – другое)\n",
    "\n",
    "---"
   ]
  },
  {
   "cell_type": "markdown",
   "id": "26c650f8",
   "metadata": {},
   "source": [
    "\n",
    "## Предобработка данных"
   ]
  },
  {
   "cell_type": "markdown",
   "id": "1f92dc46",
   "metadata": {},
   "source": [
    "### 1. Выгрузка данных"
   ]
  },
  {
   "cell_type": "markdown",
   "id": "7cc87626",
   "metadata": {},
   "source": [
    "***users_test*** – информация о пользователях в тестовой группе. "
   ]
  },
  {
   "cell_type": "code",
   "execution_count": 2,
   "id": "022f964f",
   "metadata": {},
   "outputs": [],
   "source": [
    "base_url = 'https://cloud-api.yandex.net/v1/disk/public/resources/download?'\n",
    "public_key = 'https://disk.yandex.ru/d/r3vvhvwGBQ0fSw'\n",
    "\n",
    "final_url = base_url + urlencode(dict(public_key=public_key)) \n",
    "request = requests.get(final_url)\n",
    "download_link = json.loads(request.text)['href']\n",
    "\n",
    "users_test = pd.read_csv(download_link, on_bad_lines='skip', sep=';')"
   ]
  },
  {
   "cell_type": "code",
   "execution_count": 3,
   "id": "cc2faa94",
   "metadata": {},
   "outputs": [
    {
     "data": {
      "text/html": [
       "<div>\n",
       "<style scoped>\n",
       "    .dataframe tbody tr th:only-of-type {\n",
       "        vertical-align: middle;\n",
       "    }\n",
       "\n",
       "    .dataframe tbody tr th {\n",
       "        vertical-align: top;\n",
       "    }\n",
       "\n",
       "    .dataframe thead th {\n",
       "        text-align: right;\n",
       "    }\n",
       "</style>\n",
       "<table border=\"1\" class=\"dataframe\">\n",
       "  <thead>\n",
       "    <tr style=\"text-align: right;\">\n",
       "      <th></th>\n",
       "      <th>uid</th>\n",
       "      <th>age</th>\n",
       "      <th>attraction_coeff</th>\n",
       "      <th>coins</th>\n",
       "      <th>country</th>\n",
       "      <th>visit_days</th>\n",
       "      <th>gender</th>\n",
       "      <th>age_filter_start</th>\n",
       "      <th>age_filter_end</th>\n",
       "      <th>views_count</th>\n",
       "      <th>was_premium</th>\n",
       "      <th>is_premium</th>\n",
       "      <th>total_revenue</th>\n",
       "    </tr>\n",
       "  </thead>\n",
       "  <tbody>\n",
       "    <tr>\n",
       "      <th>0</th>\n",
       "      <td>892309896</td>\n",
       "      <td>27</td>\n",
       "      <td>685</td>\n",
       "      <td>NaN</td>\n",
       "      <td>United States of America</td>\n",
       "      <td>1,2,3,4,5,6,7,8,9,10,11,12,16,17</td>\n",
       "      <td>1</td>\n",
       "      <td>24</td>\n",
       "      <td>30</td>\n",
       "      <td>89</td>\n",
       "      <td>NaN</td>\n",
       "      <td>NaN</td>\n",
       "      <td>0</td>\n",
       "    </tr>\n",
       "    <tr>\n",
       "      <th>1</th>\n",
       "      <td>892044516</td>\n",
       "      <td>27</td>\n",
       "      <td>0</td>\n",
       "      <td>NaN</td>\n",
       "      <td>Germany</td>\n",
       "      <td>NaN</td>\n",
       "      <td>1</td>\n",
       "      <td>24</td>\n",
       "      <td>30</td>\n",
       "      <td>0</td>\n",
       "      <td>NaN</td>\n",
       "      <td>NaN</td>\n",
       "      <td>0</td>\n",
       "    </tr>\n",
       "    <tr>\n",
       "      <th>2</th>\n",
       "      <td>892185708</td>\n",
       "      <td>45</td>\n",
       "      <td>44</td>\n",
       "      <td>NaN</td>\n",
       "      <td>Israel</td>\n",
       "      <td>1,3,4,6,7,8,10,11,12,13,14,15,16,17,18,19,20,2...</td>\n",
       "      <td>1</td>\n",
       "      <td>42</td>\n",
       "      <td>48</td>\n",
       "      <td>68</td>\n",
       "      <td>NaN</td>\n",
       "      <td>NaN</td>\n",
       "      <td>0</td>\n",
       "    </tr>\n",
       "  </tbody>\n",
       "</table>\n",
       "</div>"
      ],
      "text/plain": [
       "         uid  age  attraction_coeff  coins                   country  \\\n",
       "0  892309896   27               685    NaN  United States of America   \n",
       "1  892044516   27                 0    NaN                   Germany   \n",
       "2  892185708   45                44    NaN                    Israel   \n",
       "\n",
       "                                          visit_days  gender  \\\n",
       "0                   1,2,3,4,5,6,7,8,9,10,11,12,16,17       1   \n",
       "1                                                NaN       1   \n",
       "2  1,3,4,6,7,8,10,11,12,13,14,15,16,17,18,19,20,2...       1   \n",
       "\n",
       "   age_filter_start  age_filter_end  views_count  was_premium  is_premium  \\\n",
       "0                24              30           89          NaN         NaN   \n",
       "1                24              30            0          NaN         NaN   \n",
       "2                42              48           68          NaN         NaN   \n",
       "\n",
       "   total_revenue  \n",
       "0              0  \n",
       "1              0  \n",
       "2              0  "
      ]
     },
     "execution_count": 3,
     "metadata": {},
     "output_type": "execute_result"
    }
   ],
   "source": [
    "users_test.head(3)"
   ]
  },
  {
   "cell_type": "markdown",
   "id": "e9ca7a66",
   "metadata": {},
   "source": [
    "---"
   ]
  },
  {
   "cell_type": "markdown",
   "id": "718f5e97",
   "metadata": {},
   "source": [
    "***users_control_1*** – информация о пользователях в первой контрольной группе."
   ]
  },
  {
   "cell_type": "code",
   "execution_count": 4,
   "id": "787424f8",
   "metadata": {},
   "outputs": [],
   "source": [
    "base_url = 'https://cloud-api.yandex.net/v1/disk/public/resources/download?'\n",
    "public_key = 'https://disk.yandex.ru/d/3YGNel-8BlTk9g'\n",
    "\n",
    "final_url = base_url + urlencode(dict(public_key=public_key)) \n",
    "request = requests.get(final_url)\n",
    "download_link = json.loads(request.text)['href']\n",
    "\n",
    "users_control_1 = pd.read_csv(download_link, on_bad_lines='skip', sep=';')"
   ]
  },
  {
   "cell_type": "code",
   "execution_count": 5,
   "id": "a91cf3a7",
   "metadata": {},
   "outputs": [
    {
     "data": {
      "text/html": [
       "<div>\n",
       "<style scoped>\n",
       "    .dataframe tbody tr th:only-of-type {\n",
       "        vertical-align: middle;\n",
       "    }\n",
       "\n",
       "    .dataframe tbody tr th {\n",
       "        vertical-align: top;\n",
       "    }\n",
       "\n",
       "    .dataframe thead th {\n",
       "        text-align: right;\n",
       "    }\n",
       "</style>\n",
       "<table border=\"1\" class=\"dataframe\">\n",
       "  <thead>\n",
       "    <tr style=\"text-align: right;\">\n",
       "      <th></th>\n",
       "      <th>uid</th>\n",
       "      <th>age</th>\n",
       "      <th>attraction_coeff</th>\n",
       "      <th>coins</th>\n",
       "      <th>country</th>\n",
       "      <th>visit_days</th>\n",
       "      <th>gender</th>\n",
       "      <th>age_filter_start</th>\n",
       "      <th>age_filter_end</th>\n",
       "      <th>views_count</th>\n",
       "      <th>was_premium</th>\n",
       "      <th>is_premium</th>\n",
       "      <th>total_revenue</th>\n",
       "    </tr>\n",
       "  </thead>\n",
       "  <tbody>\n",
       "    <tr>\n",
       "      <th>0</th>\n",
       "      <td>892319115</td>\n",
       "      <td>25</td>\n",
       "      <td>435</td>\n",
       "      <td>NaN</td>\n",
       "      <td>United States of America</td>\n",
       "      <td>1,2,3,4,5,6</td>\n",
       "      <td>0</td>\n",
       "      <td>22</td>\n",
       "      <td>32</td>\n",
       "      <td>982</td>\n",
       "      <td>NaN</td>\n",
       "      <td>NaN</td>\n",
       "      <td>0</td>\n",
       "    </tr>\n",
       "    <tr>\n",
       "      <th>1</th>\n",
       "      <td>891248523</td>\n",
       "      <td>29</td>\n",
       "      <td>500</td>\n",
       "      <td>NaN</td>\n",
       "      <td>United States of America</td>\n",
       "      <td>1,2</td>\n",
       "      <td>1</td>\n",
       "      <td>26</td>\n",
       "      <td>32</td>\n",
       "      <td>12</td>\n",
       "      <td>NaN</td>\n",
       "      <td>NaN</td>\n",
       "      <td>0</td>\n",
       "    </tr>\n",
       "    <tr>\n",
       "      <th>2</th>\n",
       "      <td>891670932</td>\n",
       "      <td>33</td>\n",
       "      <td>800</td>\n",
       "      <td>NaN</td>\n",
       "      <td>France</td>\n",
       "      <td>1,2,3,5,6,8,9,11,13,16</td>\n",
       "      <td>1</td>\n",
       "      <td>30</td>\n",
       "      <td>36</td>\n",
       "      <td>5</td>\n",
       "      <td>NaN</td>\n",
       "      <td>NaN</td>\n",
       "      <td>0</td>\n",
       "    </tr>\n",
       "  </tbody>\n",
       "</table>\n",
       "</div>"
      ],
      "text/plain": [
       "         uid  age  attraction_coeff  coins                   country  \\\n",
       "0  892319115   25               435    NaN  United States of America   \n",
       "1  891248523   29               500    NaN  United States of America   \n",
       "2  891670932   33               800    NaN                    France   \n",
       "\n",
       "               visit_days  gender  age_filter_start  age_filter_end  \\\n",
       "0             1,2,3,4,5,6       0                22              32   \n",
       "1                     1,2       1                26              32   \n",
       "2  1,2,3,5,6,8,9,11,13,16       1                30              36   \n",
       "\n",
       "   views_count  was_premium  is_premium  total_revenue  \n",
       "0          982          NaN         NaN              0  \n",
       "1           12          NaN         NaN              0  \n",
       "2            5          NaN         NaN              0  "
      ]
     },
     "execution_count": 5,
     "metadata": {},
     "output_type": "execute_result"
    }
   ],
   "source": [
    "users_control_1.head(3)"
   ]
  },
  {
   "cell_type": "markdown",
   "id": "e0090a93",
   "metadata": {},
   "source": [
    "---"
   ]
  },
  {
   "cell_type": "markdown",
   "id": "749b29eb",
   "metadata": {},
   "source": [
    "***users_control_2*** – информация о пользователях во второй контрольной группе . "
   ]
  },
  {
   "cell_type": "code",
   "execution_count": 6,
   "id": "76bda902",
   "metadata": {},
   "outputs": [],
   "source": [
    "base_url = 'https://cloud-api.yandex.net/v1/disk/public/resources/download?'\n",
    "public_key = 'https://disk.yandex.ru/d/I8xi0eW4u-shIw'\n",
    "\n",
    "final_url = base_url + urlencode(dict(public_key=public_key)) \n",
    "request = requests.get(final_url)\n",
    "download_link = json.loads(request.text)['href']\n",
    "\n",
    "users_control_2 = pd.read_csv(download_link, on_bad_lines='skip', sep=';')"
   ]
  },
  {
   "cell_type": "code",
   "execution_count": 7,
   "id": "a30b91a3",
   "metadata": {},
   "outputs": [
    {
     "data": {
      "text/html": [
       "<div>\n",
       "<style scoped>\n",
       "    .dataframe tbody tr th:only-of-type {\n",
       "        vertical-align: middle;\n",
       "    }\n",
       "\n",
       "    .dataframe tbody tr th {\n",
       "        vertical-align: top;\n",
       "    }\n",
       "\n",
       "    .dataframe thead th {\n",
       "        text-align: right;\n",
       "    }\n",
       "</style>\n",
       "<table border=\"1\" class=\"dataframe\">\n",
       "  <thead>\n",
       "    <tr style=\"text-align: right;\">\n",
       "      <th></th>\n",
       "      <th>uid</th>\n",
       "      <th>age</th>\n",
       "      <th>attraction_coeff</th>\n",
       "      <th>coins</th>\n",
       "      <th>country</th>\n",
       "      <th>visit_days</th>\n",
       "      <th>gender</th>\n",
       "      <th>age_filter_start</th>\n",
       "      <th>age_filter_end</th>\n",
       "      <th>views_count</th>\n",
       "      <th>was_premium</th>\n",
       "      <th>is_premium</th>\n",
       "      <th>total_revenue</th>\n",
       "    </tr>\n",
       "  </thead>\n",
       "  <tbody>\n",
       "    <tr>\n",
       "      <th>0</th>\n",
       "      <td>892035504</td>\n",
       "      <td>37</td>\n",
       "      <td>137</td>\n",
       "      <td>NaN</td>\n",
       "      <td>Israel</td>\n",
       "      <td>1,2,3,4,5,6,7,8,9,11,13</td>\n",
       "      <td>1</td>\n",
       "      <td>30</td>\n",
       "      <td>40</td>\n",
       "      <td>51</td>\n",
       "      <td>NaN</td>\n",
       "      <td>NaN</td>\n",
       "      <td>0</td>\n",
       "    </tr>\n",
       "    <tr>\n",
       "      <th>1</th>\n",
       "      <td>891782112</td>\n",
       "      <td>57</td>\n",
       "      <td>0</td>\n",
       "      <td>NaN</td>\n",
       "      <td>Italy</td>\n",
       "      <td>1</td>\n",
       "      <td>1</td>\n",
       "      <td>54</td>\n",
       "      <td>60</td>\n",
       "      <td>0</td>\n",
       "      <td>NaN</td>\n",
       "      <td>NaN</td>\n",
       "      <td>0</td>\n",
       "    </tr>\n",
       "    <tr>\n",
       "      <th>2</th>\n",
       "      <td>891110337</td>\n",
       "      <td>30</td>\n",
       "      <td>769</td>\n",
       "      <td>NaN</td>\n",
       "      <td>France</td>\n",
       "      <td>1,2,3,4,5</td>\n",
       "      <td>1</td>\n",
       "      <td>27</td>\n",
       "      <td>33</td>\n",
       "      <td>13</td>\n",
       "      <td>NaN</td>\n",
       "      <td>NaN</td>\n",
       "      <td>0</td>\n",
       "    </tr>\n",
       "  </tbody>\n",
       "</table>\n",
       "</div>"
      ],
      "text/plain": [
       "         uid  age  attraction_coeff  coins country               visit_days  \\\n",
       "0  892035504   37               137    NaN  Israel  1,2,3,4,5,6,7,8,9,11,13   \n",
       "1  891782112   57                 0    NaN   Italy                        1   \n",
       "2  891110337   30               769    NaN  France                1,2,3,4,5   \n",
       "\n",
       "   gender  age_filter_start  age_filter_end  views_count  was_premium  \\\n",
       "0       1                30              40           51          NaN   \n",
       "1       1                54              60            0          NaN   \n",
       "2       1                27              33           13          NaN   \n",
       "\n",
       "   is_premium  total_revenue  \n",
       "0         NaN              0  \n",
       "1         NaN              0  \n",
       "2         NaN              0  "
      ]
     },
     "execution_count": 7,
     "metadata": {},
     "output_type": "execute_result"
    }
   ],
   "source": [
    "users_control_2.head(3)"
   ]
  },
  {
   "cell_type": "markdown",
   "id": "0d6469d9",
   "metadata": {},
   "source": [
    "---"
   ]
  },
  {
   "cell_type": "markdown",
   "id": "402d90b5",
   "metadata": {},
   "source": [
    "***transactions_test*** – информация о платежах пользователей в тестовой группе. "
   ]
  },
  {
   "cell_type": "code",
   "execution_count": 8,
   "id": "eece4405",
   "metadata": {},
   "outputs": [],
   "source": [
    "base_url = 'https://cloud-api.yandex.net/v1/disk/public/resources/download?'\n",
    "public_key = 'https://disk.yandex.ru/d/Ej8cF3JROSkmvw'\n",
    "\n",
    "final_url = base_url + urlencode(dict(public_key=public_key)) \n",
    "request = requests.get(final_url)\n",
    "download_link = json.loads(request.text)['href']\n",
    "\n",
    "transactions_test = pd.read_csv(download_link, on_bad_lines='skip', sep=';')"
   ]
  },
  {
   "cell_type": "code",
   "execution_count": 9,
   "id": "d78e3799",
   "metadata": {},
   "outputs": [
    {
     "data": {
      "text/html": [
       "<div>\n",
       "<style scoped>\n",
       "    .dataframe tbody tr th:only-of-type {\n",
       "        vertical-align: middle;\n",
       "    }\n",
       "\n",
       "    .dataframe tbody tr th {\n",
       "        vertical-align: top;\n",
       "    }\n",
       "\n",
       "    .dataframe thead th {\n",
       "        text-align: right;\n",
       "    }\n",
       "</style>\n",
       "<table border=\"1\" class=\"dataframe\">\n",
       "  <thead>\n",
       "    <tr style=\"text-align: right;\">\n",
       "      <th></th>\n",
       "      <th>uid</th>\n",
       "      <th>country</th>\n",
       "      <th>joined_at</th>\n",
       "      <th>paid_at</th>\n",
       "      <th>revenue</th>\n",
       "      <th>payment_id</th>\n",
       "      <th>from_page</th>\n",
       "      <th>product_type</th>\n",
       "    </tr>\n",
       "  </thead>\n",
       "  <tbody>\n",
       "    <tr>\n",
       "      <th>0</th>\n",
       "      <td>891345942</td>\n",
       "      <td>Italy</td>\n",
       "      <td>2017-05-11 13:00:00</td>\n",
       "      <td>2017-11-13 15:04:00</td>\n",
       "      <td>12909</td>\n",
       "      <td>147</td>\n",
       "      <td>trial_vip_popup</td>\n",
       "      <td>trial_premium</td>\n",
       "    </tr>\n",
       "    <tr>\n",
       "      <th>1</th>\n",
       "      <td>892054251</td>\n",
       "      <td>United States of America</td>\n",
       "      <td>2017-10-22 00:33:00</td>\n",
       "      <td>2017-10-30 01:37:00</td>\n",
       "      <td>13923</td>\n",
       "      <td>147</td>\n",
       "      <td>trial_vip_popup</td>\n",
       "      <td>trial_premium</td>\n",
       "    </tr>\n",
       "    <tr>\n",
       "      <th>2</th>\n",
       "      <td>892236423</td>\n",
       "      <td>United States of America</td>\n",
       "      <td>2017-10-18 01:09:00</td>\n",
       "      <td>2017-10-23 00:15:00</td>\n",
       "      <td>3783</td>\n",
       "      <td>67</td>\n",
       "      <td>menu</td>\n",
       "      <td>other_type</td>\n",
       "    </tr>\n",
       "  </tbody>\n",
       "</table>\n",
       "</div>"
      ],
      "text/plain": [
       "         uid                   country            joined_at  \\\n",
       "0  891345942                     Italy  2017-05-11 13:00:00   \n",
       "1  892054251  United States of America  2017-10-22 00:33:00   \n",
       "2  892236423  United States of America  2017-10-18 01:09:00   \n",
       "\n",
       "               paid_at  revenue  payment_id        from_page   product_type  \n",
       "0  2017-11-13 15:04:00    12909         147  trial_vip_popup  trial_premium  \n",
       "1  2017-10-30 01:37:00    13923         147  trial_vip_popup  trial_premium  \n",
       "2  2017-10-23 00:15:00     3783          67             menu     other_type  "
      ]
     },
     "execution_count": 9,
     "metadata": {},
     "output_type": "execute_result"
    }
   ],
   "source": [
    "transactions_test.head(3)"
   ]
  },
  {
   "cell_type": "markdown",
   "id": "9e7fb183",
   "metadata": {},
   "source": [
    "---"
   ]
  },
  {
   "cell_type": "markdown",
   "id": "5277c95d",
   "metadata": {},
   "source": [
    "***transactions_control_1*** – информация о платежах пользователей в первой контрольной группе. "
   ]
  },
  {
   "cell_type": "code",
   "execution_count": 10,
   "id": "bf879975",
   "metadata": {},
   "outputs": [],
   "source": [
    "base_url = 'https://cloud-api.yandex.net/v1/disk/public/resources/download?'\n",
    "public_key = 'https://disk.yandex.ru/d/lKAOUu0-gjGCGQ'\n",
    "\n",
    "final_url = base_url + urlencode(dict(public_key=public_key)) \n",
    "request = requests.get(final_url)\n",
    "download_link = json.loads(request.text)['href']\n",
    "\n",
    "transactions_control_1 = pd.read_csv(download_link, on_bad_lines='skip', sep=';')"
   ]
  },
  {
   "cell_type": "code",
   "execution_count": 11,
   "id": "5dd289c5",
   "metadata": {
    "scrolled": false
   },
   "outputs": [
    {
     "data": {
      "text/html": [
       "<div>\n",
       "<style scoped>\n",
       "    .dataframe tbody tr th:only-of-type {\n",
       "        vertical-align: middle;\n",
       "    }\n",
       "\n",
       "    .dataframe tbody tr th {\n",
       "        vertical-align: top;\n",
       "    }\n",
       "\n",
       "    .dataframe thead th {\n",
       "        text-align: right;\n",
       "    }\n",
       "</style>\n",
       "<table border=\"1\" class=\"dataframe\">\n",
       "  <thead>\n",
       "    <tr style=\"text-align: right;\">\n",
       "      <th></th>\n",
       "      <th>uid</th>\n",
       "      <th>country</th>\n",
       "      <th>joined_at</th>\n",
       "      <th>paid_at</th>\n",
       "      <th>revenue</th>\n",
       "      <th>payment_id</th>\n",
       "      <th>from_page</th>\n",
       "      <th>product_type</th>\n",
       "    </tr>\n",
       "  </thead>\n",
       "  <tbody>\n",
       "    <tr>\n",
       "      <th>0</th>\n",
       "      <td>891319275.0</td>\n",
       "      <td>France</td>\n",
       "      <td>2017-05-11 19:57:00</td>\n",
       "      <td>2017-12-11 21:57:00</td>\n",
       "      <td>12727.0</td>\n",
       "      <td>147.0</td>\n",
       "      <td>trial_vip_popup</td>\n",
       "      <td>trial_premium</td>\n",
       "    </tr>\n",
       "    <tr>\n",
       "      <th>1</th>\n",
       "      <td>892421826.0</td>\n",
       "      <td>Israel</td>\n",
       "      <td>2017-10-14 12:46:00</td>\n",
       "      <td>2017-10-23 12:54:00</td>\n",
       "      <td>14586.0</td>\n",
       "      <td>147.0</td>\n",
       "      <td>trial_vip_popup</td>\n",
       "      <td>trial_premium</td>\n",
       "    </tr>\n",
       "    <tr>\n",
       "      <th>2</th>\n",
       "      <td>891822480.0</td>\n",
       "      <td>Italy</td>\n",
       "      <td>2017-10-26 22:27:00</td>\n",
       "      <td>2017-12-11 20:59:00</td>\n",
       "      <td>1911.0</td>\n",
       "      <td>19.0</td>\n",
       "      <td>none</td>\n",
       "      <td>coins</td>\n",
       "    </tr>\n",
       "  </tbody>\n",
       "</table>\n",
       "</div>"
      ],
      "text/plain": [
       "           uid country            joined_at              paid_at  revenue  \\\n",
       "0  891319275.0  France  2017-05-11 19:57:00  2017-12-11 21:57:00  12727.0   \n",
       "1  892421826.0  Israel  2017-10-14 12:46:00  2017-10-23 12:54:00  14586.0   \n",
       "2  891822480.0   Italy  2017-10-26 22:27:00  2017-12-11 20:59:00   1911.0   \n",
       "\n",
       "   payment_id        from_page   product_type  \n",
       "0       147.0  trial_vip_popup  trial_premium  \n",
       "1       147.0  trial_vip_popup  trial_premium  \n",
       "2        19.0             none          coins  "
      ]
     },
     "execution_count": 11,
     "metadata": {},
     "output_type": "execute_result"
    }
   ],
   "source": [
    "transactions_control_1.head(3)"
   ]
  },
  {
   "cell_type": "markdown",
   "id": "f45bd3db",
   "metadata": {},
   "source": [
    "---"
   ]
  },
  {
   "cell_type": "markdown",
   "id": "df46c86c",
   "metadata": {},
   "source": [
    "***transactions_control_2*** – информация о платежах пользователей во второй контрольной группе "
   ]
  },
  {
   "cell_type": "code",
   "execution_count": 12,
   "id": "e119f527",
   "metadata": {},
   "outputs": [],
   "source": [
    "base_url = 'https://cloud-api.yandex.net/v1/disk/public/resources/download?'\n",
    "public_key = 'https://disk.yandex.ru/d/7R0wQ647pi-GWg'\n",
    "\n",
    "final_url = base_url + urlencode(dict(public_key=public_key)) \n",
    "request = requests.get(final_url)\n",
    "download_link = json.loads(request.text)['href']\n",
    "\n",
    "transactions_control_2 = pd.read_csv(download_link, on_bad_lines='skip', sep=';')"
   ]
  },
  {
   "cell_type": "code",
   "execution_count": 13,
   "id": "da9cd08d",
   "metadata": {},
   "outputs": [
    {
     "data": {
      "text/html": [
       "<div>\n",
       "<style scoped>\n",
       "    .dataframe tbody tr th:only-of-type {\n",
       "        vertical-align: middle;\n",
       "    }\n",
       "\n",
       "    .dataframe tbody tr th {\n",
       "        vertical-align: top;\n",
       "    }\n",
       "\n",
       "    .dataframe thead th {\n",
       "        text-align: right;\n",
       "    }\n",
       "</style>\n",
       "<table border=\"1\" class=\"dataframe\">\n",
       "  <thead>\n",
       "    <tr style=\"text-align: right;\">\n",
       "      <th></th>\n",
       "      <th>uid</th>\n",
       "      <th>country</th>\n",
       "      <th>joined_at</th>\n",
       "      <th>paid_at</th>\n",
       "      <th>revenue</th>\n",
       "      <th>payment_id</th>\n",
       "      <th>from_page</th>\n",
       "      <th>product_type</th>\n",
       "    </tr>\n",
       "  </thead>\n",
       "  <tbody>\n",
       "    <tr>\n",
       "      <th>0</th>\n",
       "      <td>891266616</td>\n",
       "      <td>Argentina</td>\n",
       "      <td>2017-06-11 15:25:00</td>\n",
       "      <td>2017-10-11 17:35:00</td>\n",
       "      <td>6305</td>\n",
       "      <td>19</td>\n",
       "      <td>autorefill</td>\n",
       "      <td>coins</td>\n",
       "    </tr>\n",
       "    <tr>\n",
       "      <th>1</th>\n",
       "      <td>892186737</td>\n",
       "      <td>Chile</td>\n",
       "      <td>2017-10-19 06:03:00</td>\n",
       "      <td>2017-04-11 08:53:00</td>\n",
       "      <td>4732</td>\n",
       "      <td>147</td>\n",
       "      <td>promo_09</td>\n",
       "      <td>premium_no_trial</td>\n",
       "    </tr>\n",
       "    <tr>\n",
       "      <th>2</th>\n",
       "      <td>891959004</td>\n",
       "      <td>United States of America</td>\n",
       "      <td>2017-10-24 00:12:00</td>\n",
       "      <td>2017-10-31 02:12:00</td>\n",
       "      <td>10153</td>\n",
       "      <td>147</td>\n",
       "      <td>trial_vip_popup</td>\n",
       "      <td>trial_premium</td>\n",
       "    </tr>\n",
       "  </tbody>\n",
       "</table>\n",
       "</div>"
      ],
      "text/plain": [
       "         uid                   country            joined_at  \\\n",
       "0  891266616                 Argentina  2017-06-11 15:25:00   \n",
       "1  892186737                     Chile  2017-10-19 06:03:00   \n",
       "2  891959004  United States of America  2017-10-24 00:12:00   \n",
       "\n",
       "               paid_at  revenue  payment_id        from_page      product_type  \n",
       "0  2017-10-11 17:35:00     6305          19       autorefill             coins  \n",
       "1  2017-04-11 08:53:00     4732         147         promo_09  premium_no_trial  \n",
       "2  2017-10-31 02:12:00    10153         147  trial_vip_popup     trial_premium  "
      ]
     },
     "execution_count": 13,
     "metadata": {},
     "output_type": "execute_result"
    }
   ],
   "source": [
    "transactions_control_2.head(3)"
   ]
  },
  {
   "cell_type": "markdown",
   "id": "5fb61fba",
   "metadata": {},
   "source": [
    "---"
   ]
  },
  {
   "cell_type": "markdown",
   "id": "b80bf0c7",
   "metadata": {},
   "source": [
    "- users_test – информация о пользователях в тестовой группе. \n",
    "- users_control_1 – информация о пользователях в первой контрольной группе. \n",
    "- users_control_2 – информация о пользователях во второй контрольной группе. \n",
    "- transactions_test – информация о платежах пользователей в тестовой группе. \n",
    "- transactions_control_1 – информация о платежах пользователей в первой контрольной группе. \n",
    "- transactions_control_2 – информация о платежах пользователей во второй контрольной группе."
   ]
  },
  {
   "cell_type": "markdown",
   "id": "1e8d2845",
   "metadata": {},
   "source": [
    "---"
   ]
  },
  {
   "cell_type": "markdown",
   "id": "79d1ee0a",
   "metadata": {},
   "source": [
    "### 2. Проверка и очистка данных"
   ]
  },
  {
   "cell_type": "markdown",
   "id": "a49d02f2",
   "metadata": {},
   "source": [
    "#### Проверка на пропуски и дубликаты"
   ]
  },
  {
   "cell_type": "code",
   "execution_count": 14,
   "id": "d63fbc30",
   "metadata": {},
   "outputs": [],
   "source": [
    "def get_info(data):\n",
    "    display(data.info())\n",
    "    display(\"Наличие пропусков в датасете\", data.isna().sum())\n",
    "    display(f\"Наличие дубликатов в датасете: {data.duplicated().sum()}\")"
   ]
  },
  {
   "cell_type": "code",
   "execution_count": 15,
   "id": "e656e6a4",
   "metadata": {},
   "outputs": [
    {
     "name": "stdout",
     "output_type": "stream",
     "text": [
      "<class 'pandas.core.frame.DataFrame'>\n",
      "RangeIndex: 4308 entries, 0 to 4307\n",
      "Data columns (total 13 columns):\n",
      " #   Column            Non-Null Count  Dtype  \n",
      "---  ------            --------------  -----  \n",
      " 0   uid               4308 non-null   int64  \n",
      " 1   age               4308 non-null   int64  \n",
      " 2   attraction_coeff  4308 non-null   int64  \n",
      " 3   coins             49 non-null     float64\n",
      " 4   country           4308 non-null   object \n",
      " 5   visit_days        2978 non-null   object \n",
      " 6   gender            4308 non-null   int64  \n",
      " 7   age_filter_start  4308 non-null   int64  \n",
      " 8   age_filter_end    4308 non-null   int64  \n",
      " 9   views_count       4308 non-null   int64  \n",
      " 10  was_premium       408 non-null    float64\n",
      " 11  is_premium        157 non-null    float64\n",
      " 12  total_revenue     4308 non-null   int64  \n",
      "dtypes: float64(3), int64(8), object(2)\n",
      "memory usage: 437.7+ KB\n"
     ]
    },
    {
     "data": {
      "text/plain": [
       "None"
      ]
     },
     "metadata": {},
     "output_type": "display_data"
    },
    {
     "data": {
      "text/plain": [
       "'Наличие пропусков в датасете'"
      ]
     },
     "metadata": {},
     "output_type": "display_data"
    },
    {
     "data": {
      "text/plain": [
       "uid                    0\n",
       "age                    0\n",
       "attraction_coeff       0\n",
       "coins               4259\n",
       "country                0\n",
       "visit_days          1330\n",
       "gender                 0\n",
       "age_filter_start       0\n",
       "age_filter_end         0\n",
       "views_count            0\n",
       "was_premium         3900\n",
       "is_premium          4151\n",
       "total_revenue          0\n",
       "dtype: int64"
      ]
     },
     "metadata": {},
     "output_type": "display_data"
    },
    {
     "data": {
      "text/plain": [
       "'Наличие дубликатов в датасете: 0'"
      ]
     },
     "metadata": {},
     "output_type": "display_data"
    }
   ],
   "source": [
    "get_info(users_test)"
   ]
  },
  {
   "cell_type": "code",
   "execution_count": 16,
   "id": "fa6fae7d",
   "metadata": {},
   "outputs": [
    {
     "name": "stdout",
     "output_type": "stream",
     "text": [
      "<class 'pandas.core.frame.DataFrame'>\n",
      "RangeIndex: 4340 entries, 0 to 4339\n",
      "Data columns (total 13 columns):\n",
      " #   Column            Non-Null Count  Dtype  \n",
      "---  ------            --------------  -----  \n",
      " 0   uid               4340 non-null   int64  \n",
      " 1   age               4340 non-null   int64  \n",
      " 2   attraction_coeff  4340 non-null   int64  \n",
      " 3   coins             60 non-null     float64\n",
      " 4   country           4340 non-null   object \n",
      " 5   visit_days        3016 non-null   object \n",
      " 6   gender            4340 non-null   int64  \n",
      " 7   age_filter_start  4340 non-null   int64  \n",
      " 8   age_filter_end    4340 non-null   int64  \n",
      " 9   views_count       4340 non-null   int64  \n",
      " 10  was_premium       436 non-null    float64\n",
      " 11  is_premium        192 non-null    float64\n",
      " 12  total_revenue     4340 non-null   int64  \n",
      "dtypes: float64(3), int64(8), object(2)\n",
      "memory usage: 440.9+ KB\n"
     ]
    },
    {
     "data": {
      "text/plain": [
       "None"
      ]
     },
     "metadata": {},
     "output_type": "display_data"
    },
    {
     "data": {
      "text/plain": [
       "'Наличие пропусков в датасете'"
      ]
     },
     "metadata": {},
     "output_type": "display_data"
    },
    {
     "data": {
      "text/plain": [
       "uid                    0\n",
       "age                    0\n",
       "attraction_coeff       0\n",
       "coins               4280\n",
       "country                0\n",
       "visit_days          1324\n",
       "gender                 0\n",
       "age_filter_start       0\n",
       "age_filter_end         0\n",
       "views_count            0\n",
       "was_premium         3904\n",
       "is_premium          4148\n",
       "total_revenue          0\n",
       "dtype: int64"
      ]
     },
     "metadata": {},
     "output_type": "display_data"
    },
    {
     "data": {
      "text/plain": [
       "'Наличие дубликатов в датасете: 0'"
      ]
     },
     "metadata": {},
     "output_type": "display_data"
    }
   ],
   "source": [
    "get_info(users_control_1)"
   ]
  },
  {
   "cell_type": "code",
   "execution_count": 17,
   "id": "0bd80675",
   "metadata": {},
   "outputs": [
    {
     "name": "stdout",
     "output_type": "stream",
     "text": [
      "<class 'pandas.core.frame.DataFrame'>\n",
      "RangeIndex: 4264 entries, 0 to 4263\n",
      "Data columns (total 13 columns):\n",
      " #   Column            Non-Null Count  Dtype  \n",
      "---  ------            --------------  -----  \n",
      " 0   uid               4264 non-null   int64  \n",
      " 1   age               4264 non-null   int64  \n",
      " 2   attraction_coeff  4264 non-null   int64  \n",
      " 3   coins             61 non-null     float64\n",
      " 4   country           4264 non-null   object \n",
      " 5   visit_days        2900 non-null   object \n",
      " 6   gender            4264 non-null   int64  \n",
      " 7   age_filter_start  4264 non-null   int64  \n",
      " 8   age_filter_end    4264 non-null   int64  \n",
      " 9   views_count       4264 non-null   int64  \n",
      " 10  was_premium       411 non-null    float64\n",
      " 11  is_premium        191 non-null    float64\n",
      " 12  total_revenue     4264 non-null   int64  \n",
      "dtypes: float64(3), int64(8), object(2)\n",
      "memory usage: 433.2+ KB\n"
     ]
    },
    {
     "data": {
      "text/plain": [
       "None"
      ]
     },
     "metadata": {},
     "output_type": "display_data"
    },
    {
     "data": {
      "text/plain": [
       "'Наличие пропусков в датасете'"
      ]
     },
     "metadata": {},
     "output_type": "display_data"
    },
    {
     "data": {
      "text/plain": [
       "uid                    0\n",
       "age                    0\n",
       "attraction_coeff       0\n",
       "coins               4203\n",
       "country                0\n",
       "visit_days          1364\n",
       "gender                 0\n",
       "age_filter_start       0\n",
       "age_filter_end         0\n",
       "views_count            0\n",
       "was_premium         3853\n",
       "is_premium          4073\n",
       "total_revenue          0\n",
       "dtype: int64"
      ]
     },
     "metadata": {},
     "output_type": "display_data"
    },
    {
     "data": {
      "text/plain": [
       "'Наличие дубликатов в датасете: 0'"
      ]
     },
     "metadata": {},
     "output_type": "display_data"
    }
   ],
   "source": [
    "get_info(users_control_2)"
   ]
  },
  {
   "cell_type": "code",
   "execution_count": 18,
   "id": "6a672111",
   "metadata": {},
   "outputs": [
    {
     "name": "stdout",
     "output_type": "stream",
     "text": [
      "<class 'pandas.core.frame.DataFrame'>\n",
      "RangeIndex: 273 entries, 0 to 272\n",
      "Data columns (total 8 columns):\n",
      " #   Column        Non-Null Count  Dtype \n",
      "---  ------        --------------  ----- \n",
      " 0   uid           273 non-null    int64 \n",
      " 1   country       273 non-null    object\n",
      " 2   joined_at     273 non-null    object\n",
      " 3   paid_at       273 non-null    object\n",
      " 4   revenue       273 non-null    int64 \n",
      " 5   payment_id    273 non-null    int64 \n",
      " 6   from_page     273 non-null    object\n",
      " 7   product_type  273 non-null    object\n",
      "dtypes: int64(3), object(5)\n",
      "memory usage: 17.2+ KB\n"
     ]
    },
    {
     "data": {
      "text/plain": [
       "None"
      ]
     },
     "metadata": {},
     "output_type": "display_data"
    },
    {
     "data": {
      "text/plain": [
       "'Наличие пропусков в датасете'"
      ]
     },
     "metadata": {},
     "output_type": "display_data"
    },
    {
     "data": {
      "text/plain": [
       "uid             0\n",
       "country         0\n",
       "joined_at       0\n",
       "paid_at         0\n",
       "revenue         0\n",
       "payment_id      0\n",
       "from_page       0\n",
       "product_type    0\n",
       "dtype: int64"
      ]
     },
     "metadata": {},
     "output_type": "display_data"
    },
    {
     "data": {
      "text/plain": [
       "'Наличие дубликатов в датасете: 7'"
      ]
     },
     "metadata": {},
     "output_type": "display_data"
    }
   ],
   "source": [
    "get_info(transactions_test)"
   ]
  },
  {
   "cell_type": "code",
   "execution_count": 19,
   "id": "8880920e",
   "metadata": {},
   "outputs": [
    {
     "name": "stdout",
     "output_type": "stream",
     "text": [
      "<class 'pandas.core.frame.DataFrame'>\n",
      "RangeIndex: 1007 entries, 0 to 1006\n",
      "Data columns (total 8 columns):\n",
      " #   Column        Non-Null Count  Dtype  \n",
      "---  ------        --------------  -----  \n",
      " 0   uid           377 non-null    float64\n",
      " 1   country       377 non-null    object \n",
      " 2   joined_at     1007 non-null   object \n",
      " 3   paid_at       1007 non-null   object \n",
      " 4   revenue       377 non-null    float64\n",
      " 5   payment_id    377 non-null    float64\n",
      " 6   from_page     377 non-null    object \n",
      " 7   product_type  377 non-null    object \n",
      "dtypes: float64(3), object(5)\n",
      "memory usage: 63.1+ KB\n"
     ]
    },
    {
     "data": {
      "text/plain": [
       "None"
      ]
     },
     "metadata": {},
     "output_type": "display_data"
    },
    {
     "data": {
      "text/plain": [
       "'Наличие пропусков в датасете'"
      ]
     },
     "metadata": {},
     "output_type": "display_data"
    },
    {
     "data": {
      "text/plain": [
       "uid             630\n",
       "country         630\n",
       "joined_at         0\n",
       "paid_at           0\n",
       "revenue         630\n",
       "payment_id      630\n",
       "from_page       630\n",
       "product_type    630\n",
       "dtype: int64"
      ]
     },
     "metadata": {},
     "output_type": "display_data"
    },
    {
     "data": {
      "text/plain": [
       "'Наличие дубликатов в датасете: 650'"
      ]
     },
     "metadata": {},
     "output_type": "display_data"
    }
   ],
   "source": [
    "get_info(transactions_control_1)"
   ]
  },
  {
   "cell_type": "code",
   "execution_count": 20,
   "id": "30742eff",
   "metadata": {},
   "outputs": [
    {
     "name": "stdout",
     "output_type": "stream",
     "text": [
      "<class 'pandas.core.frame.DataFrame'>\n",
      "RangeIndex: 328 entries, 0 to 327\n",
      "Data columns (total 8 columns):\n",
      " #   Column        Non-Null Count  Dtype \n",
      "---  ------        --------------  ----- \n",
      " 0   uid           328 non-null    int64 \n",
      " 1   country       328 non-null    object\n",
      " 2   joined_at     328 non-null    object\n",
      " 3   paid_at       328 non-null    object\n",
      " 4   revenue       328 non-null    int64 \n",
      " 5   payment_id    328 non-null    int64 \n",
      " 6   from_page     328 non-null    object\n",
      " 7   product_type  328 non-null    object\n",
      "dtypes: int64(3), object(5)\n",
      "memory usage: 20.6+ KB\n"
     ]
    },
    {
     "data": {
      "text/plain": [
       "None"
      ]
     },
     "metadata": {},
     "output_type": "display_data"
    },
    {
     "data": {
      "text/plain": [
       "'Наличие пропусков в датасете'"
      ]
     },
     "metadata": {},
     "output_type": "display_data"
    },
    {
     "data": {
      "text/plain": [
       "uid             0\n",
       "country         0\n",
       "joined_at       0\n",
       "paid_at         0\n",
       "revenue         0\n",
       "payment_id      0\n",
       "from_page       0\n",
       "product_type    0\n",
       "dtype: int64"
      ]
     },
     "metadata": {},
     "output_type": "display_data"
    },
    {
     "data": {
      "text/plain": [
       "'Наличие дубликатов в датасете: 5'"
      ]
     },
     "metadata": {},
     "output_type": "display_data"
    }
   ],
   "source": [
    "get_info(transactions_control_2)"
   ]
  },
  {
   "cell_type": "code",
   "execution_count": 21,
   "id": "5066e631",
   "metadata": {},
   "outputs": [
    {
     "data": {
      "text/html": [
       "<div>\n",
       "<style scoped>\n",
       "    .dataframe tbody tr th:only-of-type {\n",
       "        vertical-align: middle;\n",
       "    }\n",
       "\n",
       "    .dataframe tbody tr th {\n",
       "        vertical-align: top;\n",
       "    }\n",
       "\n",
       "    .dataframe thead th {\n",
       "        text-align: right;\n",
       "    }\n",
       "</style>\n",
       "<table border=\"1\" class=\"dataframe\">\n",
       "  <thead>\n",
       "    <tr style=\"text-align: right;\">\n",
       "      <th></th>\n",
       "      <th>uid</th>\n",
       "      <th>country</th>\n",
       "      <th>joined_at</th>\n",
       "      <th>paid_at</th>\n",
       "      <th>revenue</th>\n",
       "      <th>payment_id</th>\n",
       "      <th>from_page</th>\n",
       "      <th>product_type</th>\n",
       "    </tr>\n",
       "  </thead>\n",
       "  <tbody>\n",
       "    <tr>\n",
       "      <th>0</th>\n",
       "      <td>891319275.0</td>\n",
       "      <td>France</td>\n",
       "      <td>2017-05-11 19:57:00</td>\n",
       "      <td>2017-12-11 21:57:00</td>\n",
       "      <td>12727.0</td>\n",
       "      <td>147.0</td>\n",
       "      <td>trial_vip_popup</td>\n",
       "      <td>trial_premium</td>\n",
       "    </tr>\n",
       "    <tr>\n",
       "      <th>1</th>\n",
       "      <td>892421826.0</td>\n",
       "      <td>Israel</td>\n",
       "      <td>2017-10-14 12:46:00</td>\n",
       "      <td>2017-10-23 12:54:00</td>\n",
       "      <td>14586.0</td>\n",
       "      <td>147.0</td>\n",
       "      <td>trial_vip_popup</td>\n",
       "      <td>trial_premium</td>\n",
       "    </tr>\n",
       "    <tr>\n",
       "      <th>2</th>\n",
       "      <td>891822480.0</td>\n",
       "      <td>Italy</td>\n",
       "      <td>2017-10-26 22:27:00</td>\n",
       "      <td>2017-12-11 20:59:00</td>\n",
       "      <td>1911.0</td>\n",
       "      <td>19.0</td>\n",
       "      <td>none</td>\n",
       "      <td>coins</td>\n",
       "    </tr>\n",
       "    <tr>\n",
       "      <th>3</th>\n",
       "      <td>891367521.0</td>\n",
       "      <td>Italy</td>\n",
       "      <td>2017-05-11 02:37:00</td>\n",
       "      <td>2017-06-11 19:15:00</td>\n",
       "      <td>1456.0</td>\n",
       "      <td>127.0</td>\n",
       "      <td>sympathy</td>\n",
       "      <td>other_type</td>\n",
       "    </tr>\n",
       "    <tr>\n",
       "      <th>4</th>\n",
       "      <td>892207959.0</td>\n",
       "      <td>France</td>\n",
       "      <td>2017-10-18 18:30:00</td>\n",
       "      <td>2017-12-11 12:03:00</td>\n",
       "      <td>1261.0</td>\n",
       "      <td>19.0</td>\n",
       "      <td>empty_likes</td>\n",
       "      <td>coins</td>\n",
       "    </tr>\n",
       "    <tr>\n",
       "      <th>...</th>\n",
       "      <td>...</td>\n",
       "      <td>...</td>\n",
       "      <td>...</td>\n",
       "      <td>...</td>\n",
       "      <td>...</td>\n",
       "      <td>...</td>\n",
       "      <td>...</td>\n",
       "      <td>...</td>\n",
       "    </tr>\n",
       "    <tr>\n",
       "      <th>375</th>\n",
       "      <td>891458229.0</td>\n",
       "      <td>Spain</td>\n",
       "      <td>2017-03-11 12:12:00</td>\n",
       "      <td>2017-04-11 03:43:00</td>\n",
       "      <td>6305.0</td>\n",
       "      <td>19.0</td>\n",
       "      <td>menu</td>\n",
       "      <td>coins</td>\n",
       "    </tr>\n",
       "    <tr>\n",
       "      <th>376</th>\n",
       "      <td>891466989.0</td>\n",
       "      <td>United States of America</td>\n",
       "      <td>2017-03-11 07:08:00</td>\n",
       "      <td>2017-03-11 07:56:00</td>\n",
       "      <td>6292.0</td>\n",
       "      <td>147.0</td>\n",
       "      <td>autoreply_message</td>\n",
       "      <td>premium_no_trial</td>\n",
       "    </tr>\n",
       "    <tr>\n",
       "      <th>377</th>\n",
       "      <td>NaN</td>\n",
       "      <td>NaN</td>\n",
       "      <td>NaT</td>\n",
       "      <td>NaT</td>\n",
       "      <td>NaN</td>\n",
       "      <td>NaN</td>\n",
       "      <td>NaN</td>\n",
       "      <td>NaN</td>\n",
       "    </tr>\n",
       "    <tr>\n",
       "      <th>378</th>\n",
       "      <td>NaN</td>\n",
       "      <td>NaN</td>\n",
       "      <td>NaT</td>\n",
       "      <td>NaT</td>\n",
       "      <td>NaN</td>\n",
       "      <td>NaN</td>\n",
       "      <td>NaN</td>\n",
       "      <td>NaN</td>\n",
       "    </tr>\n",
       "    <tr>\n",
       "      <th>379</th>\n",
       "      <td>NaN</td>\n",
       "      <td>NaN</td>\n",
       "      <td>NaT</td>\n",
       "      <td>NaT</td>\n",
       "      <td>NaN</td>\n",
       "      <td>NaN</td>\n",
       "      <td>NaN</td>\n",
       "      <td>NaN</td>\n",
       "    </tr>\n",
       "  </tbody>\n",
       "</table>\n",
       "<p>380 rows × 8 columns</p>\n",
       "</div>"
      ],
      "text/plain": [
       "             uid                   country            joined_at  \\\n",
       "0    891319275.0                    France  2017-05-11 19:57:00   \n",
       "1    892421826.0                    Israel  2017-10-14 12:46:00   \n",
       "2    891822480.0                     Italy  2017-10-26 22:27:00   \n",
       "3    891367521.0                     Italy  2017-05-11 02:37:00   \n",
       "4    892207959.0                    France  2017-10-18 18:30:00   \n",
       "..           ...                       ...                  ...   \n",
       "375  891458229.0                     Spain  2017-03-11 12:12:00   \n",
       "376  891466989.0  United States of America  2017-03-11 07:08:00   \n",
       "377          NaN                       NaN                  NaT   \n",
       "378          NaN                       NaN                  NaT   \n",
       "379          NaN                       NaN                  NaT   \n",
       "\n",
       "                 paid_at  revenue  payment_id          from_page  \\\n",
       "0    2017-12-11 21:57:00  12727.0       147.0    trial_vip_popup   \n",
       "1    2017-10-23 12:54:00  14586.0       147.0    trial_vip_popup   \n",
       "2    2017-12-11 20:59:00   1911.0        19.0               none   \n",
       "3    2017-06-11 19:15:00   1456.0       127.0           sympathy   \n",
       "4    2017-12-11 12:03:00   1261.0        19.0        empty_likes   \n",
       "..                   ...      ...         ...                ...   \n",
       "375  2017-04-11 03:43:00   6305.0        19.0               menu   \n",
       "376  2017-03-11 07:56:00   6292.0       147.0  autoreply_message   \n",
       "377                  NaT      NaN         NaN                NaN   \n",
       "378                  NaT      NaN         NaN                NaN   \n",
       "379                  NaT      NaN         NaN                NaN   \n",
       "\n",
       "         product_type  \n",
       "0       trial_premium  \n",
       "1       trial_premium  \n",
       "2               coins  \n",
       "3          other_type  \n",
       "4               coins  \n",
       "..                ...  \n",
       "375             coins  \n",
       "376  premium_no_trial  \n",
       "377               NaN  \n",
       "378               NaN  \n",
       "379               NaN  \n",
       "\n",
       "[380 rows x 8 columns]"
      ]
     },
     "execution_count": 21,
     "metadata": {},
     "output_type": "execute_result"
    }
   ],
   "source": [
    "transactions_control_1.head(380)"
   ]
  },
  {
   "cell_type": "code",
   "execution_count": 22,
   "id": "6a72265a",
   "metadata": {},
   "outputs": [
    {
     "data": {
      "text/html": [
       "<div>\n",
       "<style scoped>\n",
       "    .dataframe tbody tr th:only-of-type {\n",
       "        vertical-align: middle;\n",
       "    }\n",
       "\n",
       "    .dataframe tbody tr th {\n",
       "        vertical-align: top;\n",
       "    }\n",
       "\n",
       "    .dataframe thead th {\n",
       "        text-align: right;\n",
       "    }\n",
       "</style>\n",
       "<table border=\"1\" class=\"dataframe\">\n",
       "  <thead>\n",
       "    <tr style=\"text-align: right;\">\n",
       "      <th></th>\n",
       "      <th>uid</th>\n",
       "      <th>country</th>\n",
       "      <th>joined_at</th>\n",
       "      <th>paid_at</th>\n",
       "      <th>revenue</th>\n",
       "      <th>payment_id</th>\n",
       "      <th>from_page</th>\n",
       "      <th>product_type</th>\n",
       "    </tr>\n",
       "  </thead>\n",
       "  <tbody>\n",
       "    <tr>\n",
       "      <th>377</th>\n",
       "      <td>NaN</td>\n",
       "      <td>NaN</td>\n",
       "      <td>NaT</td>\n",
       "      <td>NaT</td>\n",
       "      <td>NaN</td>\n",
       "      <td>NaN</td>\n",
       "      <td>NaN</td>\n",
       "      <td>NaN</td>\n",
       "    </tr>\n",
       "    <tr>\n",
       "      <th>378</th>\n",
       "      <td>NaN</td>\n",
       "      <td>NaN</td>\n",
       "      <td>NaT</td>\n",
       "      <td>NaT</td>\n",
       "      <td>NaN</td>\n",
       "      <td>NaN</td>\n",
       "      <td>NaN</td>\n",
       "      <td>NaN</td>\n",
       "    </tr>\n",
       "    <tr>\n",
       "      <th>379</th>\n",
       "      <td>NaN</td>\n",
       "      <td>NaN</td>\n",
       "      <td>NaT</td>\n",
       "      <td>NaT</td>\n",
       "      <td>NaN</td>\n",
       "      <td>NaN</td>\n",
       "      <td>NaN</td>\n",
       "      <td>NaN</td>\n",
       "    </tr>\n",
       "    <tr>\n",
       "      <th>380</th>\n",
       "      <td>NaN</td>\n",
       "      <td>NaN</td>\n",
       "      <td>NaT</td>\n",
       "      <td>NaT</td>\n",
       "      <td>NaN</td>\n",
       "      <td>NaN</td>\n",
       "      <td>NaN</td>\n",
       "      <td>NaN</td>\n",
       "    </tr>\n",
       "    <tr>\n",
       "      <th>381</th>\n",
       "      <td>NaN</td>\n",
       "      <td>NaN</td>\n",
       "      <td>NaT</td>\n",
       "      <td>NaT</td>\n",
       "      <td>NaN</td>\n",
       "      <td>NaN</td>\n",
       "      <td>NaN</td>\n",
       "      <td>NaN</td>\n",
       "    </tr>\n",
       "    <tr>\n",
       "      <th>...</th>\n",
       "      <td>...</td>\n",
       "      <td>...</td>\n",
       "      <td>...</td>\n",
       "      <td>...</td>\n",
       "      <td>...</td>\n",
       "      <td>...</td>\n",
       "      <td>...</td>\n",
       "      <td>...</td>\n",
       "    </tr>\n",
       "    <tr>\n",
       "      <th>1002</th>\n",
       "      <td>NaN</td>\n",
       "      <td>NaN</td>\n",
       "      <td>NaT</td>\n",
       "      <td>NaT</td>\n",
       "      <td>NaN</td>\n",
       "      <td>NaN</td>\n",
       "      <td>NaN</td>\n",
       "      <td>NaN</td>\n",
       "    </tr>\n",
       "    <tr>\n",
       "      <th>1003</th>\n",
       "      <td>NaN</td>\n",
       "      <td>NaN</td>\n",
       "      <td>NaT</td>\n",
       "      <td>NaT</td>\n",
       "      <td>NaN</td>\n",
       "      <td>NaN</td>\n",
       "      <td>NaN</td>\n",
       "      <td>NaN</td>\n",
       "    </tr>\n",
       "    <tr>\n",
       "      <th>1004</th>\n",
       "      <td>NaN</td>\n",
       "      <td>NaN</td>\n",
       "      <td>NaT</td>\n",
       "      <td>NaT</td>\n",
       "      <td>NaN</td>\n",
       "      <td>NaN</td>\n",
       "      <td>NaN</td>\n",
       "      <td>NaN</td>\n",
       "    </tr>\n",
       "    <tr>\n",
       "      <th>1005</th>\n",
       "      <td>NaN</td>\n",
       "      <td>NaN</td>\n",
       "      <td>NaT</td>\n",
       "      <td>NaT</td>\n",
       "      <td>NaN</td>\n",
       "      <td>NaN</td>\n",
       "      <td>NaN</td>\n",
       "      <td>NaN</td>\n",
       "    </tr>\n",
       "    <tr>\n",
       "      <th>1006</th>\n",
       "      <td>NaN</td>\n",
       "      <td>NaN</td>\n",
       "      <td>NaT</td>\n",
       "      <td>NaT</td>\n",
       "      <td>NaN</td>\n",
       "      <td>NaN</td>\n",
       "      <td>NaN</td>\n",
       "      <td>NaN</td>\n",
       "    </tr>\n",
       "  </tbody>\n",
       "</table>\n",
       "<p>630 rows × 8 columns</p>\n",
       "</div>"
      ],
      "text/plain": [
       "      uid country joined_at paid_at  revenue  payment_id from_page  \\\n",
       "377   NaN     NaN       NaT     NaT      NaN         NaN       NaN   \n",
       "378   NaN     NaN       NaT     NaT      NaN         NaN       NaN   \n",
       "379   NaN     NaN       NaT     NaT      NaN         NaN       NaN   \n",
       "380   NaN     NaN       NaT     NaT      NaN         NaN       NaN   \n",
       "381   NaN     NaN       NaT     NaT      NaN         NaN       NaN   \n",
       "...   ...     ...       ...     ...      ...         ...       ...   \n",
       "1002  NaN     NaN       NaT     NaT      NaN         NaN       NaN   \n",
       "1003  NaN     NaN       NaT     NaT      NaN         NaN       NaN   \n",
       "1004  NaN     NaN       NaT     NaT      NaN         NaN       NaN   \n",
       "1005  NaN     NaN       NaT     NaT      NaN         NaN       NaN   \n",
       "1006  NaN     NaN       NaT     NaT      NaN         NaN       NaN   \n",
       "\n",
       "     product_type  \n",
       "377           NaN  \n",
       "378           NaN  \n",
       "379           NaN  \n",
       "380           NaN  \n",
       "381           NaN  \n",
       "...           ...  \n",
       "1002          NaN  \n",
       "1003          NaN  \n",
       "1004          NaN  \n",
       "1005          NaN  \n",
       "1006          NaN  \n",
       "\n",
       "[630 rows x 8 columns]"
      ]
     },
     "execution_count": 22,
     "metadata": {},
     "output_type": "execute_result"
    }
   ],
   "source": [
    "transactions_control_1.query('paid_at == \"NaT\"')"
   ]
  },
  {
   "cell_type": "markdown",
   "id": "0f04b336",
   "metadata": {},
   "source": [
    "В датафрейме *transactions_control_1* **377** из **1007** строк активные. После 377 строки идут пустые строки."
   ]
  },
  {
   "cell_type": "markdown",
   "id": "5c23cec9",
   "metadata": {},
   "source": [
    "---"
   ]
  },
  {
   "cell_type": "markdown",
   "id": "63195996",
   "metadata": {},
   "source": [
    "#### Очистка пустых строк NaN"
   ]
  },
  {
   "cell_type": "code",
   "execution_count": 23,
   "id": "432090e3",
   "metadata": {},
   "outputs": [
    {
     "data": {
      "text/html": [
       "<div>\n",
       "<style scoped>\n",
       "    .dataframe tbody tr th:only-of-type {\n",
       "        vertical-align: middle;\n",
       "    }\n",
       "\n",
       "    .dataframe tbody tr th {\n",
       "        vertical-align: top;\n",
       "    }\n",
       "\n",
       "    .dataframe thead th {\n",
       "        text-align: right;\n",
       "    }\n",
       "</style>\n",
       "<table border=\"1\" class=\"dataframe\">\n",
       "  <thead>\n",
       "    <tr style=\"text-align: right;\">\n",
       "      <th></th>\n",
       "      <th>uid</th>\n",
       "      <th>country</th>\n",
       "      <th>joined_at</th>\n",
       "      <th>paid_at</th>\n",
       "      <th>revenue</th>\n",
       "      <th>payment_id</th>\n",
       "      <th>from_page</th>\n",
       "      <th>product_type</th>\n",
       "    </tr>\n",
       "  </thead>\n",
       "  <tbody>\n",
       "    <tr>\n",
       "      <th>0</th>\n",
       "      <td>891319275.0</td>\n",
       "      <td>France</td>\n",
       "      <td>2017-05-11 19:57:00</td>\n",
       "      <td>2017-12-11 21:57:00</td>\n",
       "      <td>12727.0</td>\n",
       "      <td>147.0</td>\n",
       "      <td>trial_vip_popup</td>\n",
       "      <td>trial_premium</td>\n",
       "    </tr>\n",
       "    <tr>\n",
       "      <th>1</th>\n",
       "      <td>892421826.0</td>\n",
       "      <td>Israel</td>\n",
       "      <td>2017-10-14 12:46:00</td>\n",
       "      <td>2017-10-23 12:54:00</td>\n",
       "      <td>14586.0</td>\n",
       "      <td>147.0</td>\n",
       "      <td>trial_vip_popup</td>\n",
       "      <td>trial_premium</td>\n",
       "    </tr>\n",
       "    <tr>\n",
       "      <th>2</th>\n",
       "      <td>891822480.0</td>\n",
       "      <td>Italy</td>\n",
       "      <td>2017-10-26 22:27:00</td>\n",
       "      <td>2017-12-11 20:59:00</td>\n",
       "      <td>1911.0</td>\n",
       "      <td>19.0</td>\n",
       "      <td>none</td>\n",
       "      <td>coins</td>\n",
       "    </tr>\n",
       "    <tr>\n",
       "      <th>3</th>\n",
       "      <td>891367521.0</td>\n",
       "      <td>Italy</td>\n",
       "      <td>2017-05-11 02:37:00</td>\n",
       "      <td>2017-06-11 19:15:00</td>\n",
       "      <td>1456.0</td>\n",
       "      <td>127.0</td>\n",
       "      <td>sympathy</td>\n",
       "      <td>other_type</td>\n",
       "    </tr>\n",
       "    <tr>\n",
       "      <th>4</th>\n",
       "      <td>892207959.0</td>\n",
       "      <td>France</td>\n",
       "      <td>2017-10-18 18:30:00</td>\n",
       "      <td>2017-12-11 12:03:00</td>\n",
       "      <td>1261.0</td>\n",
       "      <td>19.0</td>\n",
       "      <td>empty_likes</td>\n",
       "      <td>coins</td>\n",
       "    </tr>\n",
       "    <tr>\n",
       "      <th>...</th>\n",
       "      <td>...</td>\n",
       "      <td>...</td>\n",
       "      <td>...</td>\n",
       "      <td>...</td>\n",
       "      <td>...</td>\n",
       "      <td>...</td>\n",
       "      <td>...</td>\n",
       "      <td>...</td>\n",
       "    </tr>\n",
       "    <tr>\n",
       "      <th>372</th>\n",
       "      <td>891556971.0</td>\n",
       "      <td>France</td>\n",
       "      <td>2017-01-11 05:07:00</td>\n",
       "      <td>2017-01-11 05:16:00</td>\n",
       "      <td>2886.0</td>\n",
       "      <td>68.0</td>\n",
       "      <td>none</td>\n",
       "      <td>premium_no_trial</td>\n",
       "    </tr>\n",
       "    <tr>\n",
       "      <th>373</th>\n",
       "      <td>892052106.0</td>\n",
       "      <td>Spain</td>\n",
       "      <td>2017-10-22 01:38:00</td>\n",
       "      <td>2017-10-29 03:44:00</td>\n",
       "      <td>12883.0</td>\n",
       "      <td>147.0</td>\n",
       "      <td>trial_vip_popup</td>\n",
       "      <td>trial_premium</td>\n",
       "    </tr>\n",
       "    <tr>\n",
       "      <th>374</th>\n",
       "      <td>892145004.0</td>\n",
       "      <td>Chile</td>\n",
       "      <td>2017-10-20 04:25:00</td>\n",
       "      <td>2017-01-11 02:56:00</td>\n",
       "      <td>9919.0</td>\n",
       "      <td>147.0</td>\n",
       "      <td>trial_vip_popup</td>\n",
       "      <td>trial_premium</td>\n",
       "    </tr>\n",
       "    <tr>\n",
       "      <th>375</th>\n",
       "      <td>891458229.0</td>\n",
       "      <td>Spain</td>\n",
       "      <td>2017-03-11 12:12:00</td>\n",
       "      <td>2017-04-11 03:43:00</td>\n",
       "      <td>6305.0</td>\n",
       "      <td>19.0</td>\n",
       "      <td>menu</td>\n",
       "      <td>coins</td>\n",
       "    </tr>\n",
       "    <tr>\n",
       "      <th>376</th>\n",
       "      <td>891466989.0</td>\n",
       "      <td>United States of America</td>\n",
       "      <td>2017-03-11 07:08:00</td>\n",
       "      <td>2017-03-11 07:56:00</td>\n",
       "      <td>6292.0</td>\n",
       "      <td>147.0</td>\n",
       "      <td>autoreply_message</td>\n",
       "      <td>premium_no_trial</td>\n",
       "    </tr>\n",
       "  </tbody>\n",
       "</table>\n",
       "<p>377 rows × 8 columns</p>\n",
       "</div>"
      ],
      "text/plain": [
       "             uid                   country            joined_at  \\\n",
       "0    891319275.0                    France  2017-05-11 19:57:00   \n",
       "1    892421826.0                    Israel  2017-10-14 12:46:00   \n",
       "2    891822480.0                     Italy  2017-10-26 22:27:00   \n",
       "3    891367521.0                     Italy  2017-05-11 02:37:00   \n",
       "4    892207959.0                    France  2017-10-18 18:30:00   \n",
       "..           ...                       ...                  ...   \n",
       "372  891556971.0                    France  2017-01-11 05:07:00   \n",
       "373  892052106.0                     Spain  2017-10-22 01:38:00   \n",
       "374  892145004.0                     Chile  2017-10-20 04:25:00   \n",
       "375  891458229.0                     Spain  2017-03-11 12:12:00   \n",
       "376  891466989.0  United States of America  2017-03-11 07:08:00   \n",
       "\n",
       "                 paid_at  revenue  payment_id          from_page  \\\n",
       "0    2017-12-11 21:57:00  12727.0       147.0    trial_vip_popup   \n",
       "1    2017-10-23 12:54:00  14586.0       147.0    trial_vip_popup   \n",
       "2    2017-12-11 20:59:00   1911.0        19.0               none   \n",
       "3    2017-06-11 19:15:00   1456.0       127.0           sympathy   \n",
       "4    2017-12-11 12:03:00   1261.0        19.0        empty_likes   \n",
       "..                   ...      ...         ...                ...   \n",
       "372  2017-01-11 05:16:00   2886.0        68.0               none   \n",
       "373  2017-10-29 03:44:00  12883.0       147.0    trial_vip_popup   \n",
       "374  2017-01-11 02:56:00   9919.0       147.0    trial_vip_popup   \n",
       "375  2017-04-11 03:43:00   6305.0        19.0               menu   \n",
       "376  2017-03-11 07:56:00   6292.0       147.0  autoreply_message   \n",
       "\n",
       "         product_type  \n",
       "0       trial_premium  \n",
       "1       trial_premium  \n",
       "2               coins  \n",
       "3          other_type  \n",
       "4               coins  \n",
       "..                ...  \n",
       "372  premium_no_trial  \n",
       "373     trial_premium  \n",
       "374     trial_premium  \n",
       "375             coins  \n",
       "376  premium_no_trial  \n",
       "\n",
       "[377 rows x 8 columns]"
      ]
     },
     "execution_count": 23,
     "metadata": {},
     "output_type": "execute_result"
    }
   ],
   "source": [
    "transactions_control_1 = transactions_control_1.dropna(subset=['uid'])\n",
    "transactions_control_1"
   ]
  },
  {
   "cell_type": "markdown",
   "id": "f7ab546f",
   "metadata": {},
   "source": [
    "Заменим **NaN** на **0**"
   ]
  },
  {
   "cell_type": "code",
   "execution_count": 24,
   "id": "c10cabc6",
   "metadata": {},
   "outputs": [],
   "source": [
    "users_test = users_test.fillna(0)\n",
    "users_control_1 = users_control_1.fillna(0)\n",
    "users_control_2 = users_control_2.fillna(0)"
   ]
  },
  {
   "cell_type": "markdown",
   "id": "ff097c1a",
   "metadata": {},
   "source": [
    "---"
   ]
  },
  {
   "cell_type": "markdown",
   "id": "e0d23c77",
   "metadata": {},
   "source": [
    "#### Приведение столбцов к корректному формату данных"
   ]
  },
  {
   "cell_type": "code",
   "execution_count": 25,
   "id": "33a38d51",
   "metadata": {},
   "outputs": [
    {
     "data": {
      "text/plain": [
       "uid                      int64\n",
       "country                 object\n",
       "joined_at       datetime64[ns]\n",
       "paid_at         datetime64[ns]\n",
       "revenue                  int64\n",
       "payment_id               int64\n",
       "from_page               object\n",
       "product_type            object\n",
       "dtype: object"
      ]
     },
     "metadata": {},
     "output_type": "display_data"
    },
    {
     "data": {
      "text/plain": [
       "uid                      int64\n",
       "country                 object\n",
       "joined_at       datetime64[ns]\n",
       "paid_at         datetime64[ns]\n",
       "revenue                float64\n",
       "payment_id             float64\n",
       "from_page               object\n",
       "product_type            object\n",
       "dtype: object"
      ]
     },
     "metadata": {},
     "output_type": "display_data"
    },
    {
     "data": {
      "text/plain": [
       "uid                      int64\n",
       "country                 object\n",
       "joined_at       datetime64[ns]\n",
       "paid_at         datetime64[ns]\n",
       "revenue                  int64\n",
       "payment_id               int64\n",
       "from_page               object\n",
       "product_type            object\n",
       "dtype: object"
      ]
     },
     "metadata": {},
     "output_type": "display_data"
    }
   ],
   "source": [
    "transactions_test['paid_at'] = pd.to_datetime(transactions_test['paid_at'], format='%Y-%m-%d %H:%M:%S.%f')\n",
    "transactions_test['joined_at'] = pd.to_datetime(transactions_test['joined_at'], format='%Y-%m-%d %H:%M:%S.%f')\n",
    "transactions_control_1['paid_at'] = pd.to_datetime(transactions_control_1['paid_at'], format='%Y-%m-%d %H:%M:%S.%f')\n",
    "transactions_control_1['joined_at'] = pd.to_datetime(transactions_control_1['joined_at'], format='%Y-%m-%d %H:%M:%S.%f')\n",
    "transactions_control_2['paid_at'] = pd.to_datetime(transactions_control_2['paid_at'], format='%Y-%m-%d %H:%M:%S.%f')\n",
    "transactions_control_2['joined_at'] = pd.to_datetime(transactions_control_2['joined_at'], format='%Y-%m-%d %H:%M:%S.%f')\n",
    "transactions_control_1['uid'] = transactions_control_1['uid'].astype('int64')\n",
    "display(transactions_test.dtypes, transactions_control_1.dtypes, transactions_control_2.dtypes)"
   ]
  },
  {
   "cell_type": "markdown",
   "id": "2bfa848e",
   "metadata": {},
   "source": [
    "---"
   ]
  },
  {
   "cell_type": "markdown",
   "id": "3c97d69a",
   "metadata": {},
   "source": [
    "#### Повторная проверка на наличие дубликатов"
   ]
  },
  {
   "cell_type": "code",
   "execution_count": 26,
   "id": "4cc27f7d",
   "metadata": {},
   "outputs": [
    {
     "name": "stdout",
     "output_type": "stream",
     "text": [
      "В users_test, количество дубликатов: 0\n",
      "В users_control_1, количество дубликатов: 0\n",
      "В users_control_2, количество дубликатов: 0\n",
      "В transactions_test, количество дубликатов: 7\n",
      "В transactions_control_1, количество дубликатов: 21\n",
      "В transactions_control_2, количество дубликатов:  5\n"
     ]
    }
   ],
   "source": [
    "print(f\"В users_test, количество дубликатов: {users_test.duplicated().sum()}\")\n",
    "print(f\"В users_control_1, количество дубликатов: {users_control_1.duplicated().sum()}\")\n",
    "print(f\"В users_control_2, количество дубликатов: {users_control_2.duplicated().sum()}\")\n",
    "print(f\"В transactions_test, количество дубликатов: {transactions_test.duplicated().sum()}\")\n",
    "print(f\"В transactions_control_1, количество дубликатов: {transactions_control_1.duplicated().sum()}\")\n",
    "print(f\"В transactions_control_2, количество дубликатов:  {transactions_control_2.duplicated().sum()}\")"
   ]
  },
  {
   "cell_type": "markdown",
   "id": "a9f159e4",
   "metadata": {},
   "source": [
    "---"
   ]
  },
  {
   "cell_type": "markdown",
   "id": "1d5ffb82",
   "metadata": {},
   "source": [
    "#### Проверка на количество уникальных пользователей"
   ]
  },
  {
   "cell_type": "code",
   "execution_count": 27,
   "id": "86b0af1b",
   "metadata": {},
   "outputs": [
    {
     "name": "stdout",
     "output_type": "stream",
     "text": [
      "Количество уникальных пользователей в users_test: 4308\n",
      "Количество уникальных пользователей в users_control_1: 4340\n",
      "Количество уникальных пользователей в users_control_2: 4264\n",
      "Количество уникальных пользователей в transactions_test: 146\n",
      "Количество уникальных пользователей в transactions_control_1: 193\n",
      "Количество уникальных пользователей в transactions_control_2: 187\n"
     ]
    }
   ],
   "source": [
    "print(f\"Количество уникальных пользователей в users_test: {users_test.uid.nunique()}\")\n",
    "print(f\"Количество уникальных пользователей в users_control_1: {users_control_1.uid.nunique()}\")\n",
    "print(f\"Количество уникальных пользователей в users_control_2: {users_control_2.uid.nunique()}\")\n",
    "print(f\"Количество уникальных пользователей в transactions_test: {transactions_test.uid.nunique()}\")\n",
    "print(f\"Количество уникальных пользователей в transactions_control_1: {transactions_control_1.uid.nunique()}\")\n",
    "print(f\"Количество уникальных пользователей в transactions_control_2: {transactions_control_2.uid.nunique()}\")"
   ]
  },
  {
   "cell_type": "markdown",
   "id": "0d337ee4",
   "metadata": {},
   "source": [
    "---"
   ]
  },
  {
   "cell_type": "markdown",
   "id": "e85f7aa0",
   "metadata": {},
   "source": [
    "#### Поиск временного периода в данных"
   ]
  },
  {
   "cell_type": "code",
   "execution_count": 28,
   "id": "2da285d6",
   "metadata": {},
   "outputs": [],
   "source": [
    "def check_minmax_dt(data):\n",
    "    print(f'Минимальная дата:  {data.paid_at.min()}\\nМаксимальная дата: {data.paid_at.max()}')"
   ]
  },
  {
   "cell_type": "code",
   "execution_count": 29,
   "id": "6ce1364c",
   "metadata": {},
   "outputs": [
    {
     "name": "stdout",
     "output_type": "stream",
     "text": [
      "Минимальная дата:  2017-01-11 04:37:00\n",
      "Максимальная дата: 2017-12-11 22:06:00\n"
     ]
    }
   ],
   "source": [
    "check_minmax_dt(transactions_test)"
   ]
  },
  {
   "cell_type": "code",
   "execution_count": 30,
   "id": "d89a513c",
   "metadata": {},
   "outputs": [
    {
     "name": "stdout",
     "output_type": "stream",
     "text": [
      "Минимальная дата:  2016-12-14 16:16:00\n",
      "Максимальная дата: 2017-12-11 21:57:00\n"
     ]
    }
   ],
   "source": [
    "check_minmax_dt(transactions_control_1)"
   ]
  },
  {
   "cell_type": "code",
   "execution_count": 31,
   "id": "57a1f9c6",
   "metadata": {},
   "outputs": [
    {
     "name": "stdout",
     "output_type": "stream",
     "text": [
      "Минимальная дата:  2017-01-11 05:34:00\n",
      "Максимальная дата: 2017-12-11 23:28:00\n"
     ]
    }
   ],
   "source": [
    "check_minmax_dt(transactions_control_2)"
   ]
  },
  {
   "cell_type": "markdown",
   "id": "722ab5ce",
   "metadata": {},
   "source": [
    "Даты проведения теста в **тестовой группе** и в **контрольной группе №2** совпадают (с 11.01.2017 по 11.12.2017), в **контрольной группе №1** есть данные о платежах, совершенных ранее 11.01.2017."
   ]
  },
  {
   "cell_type": "markdown",
   "id": "3728c589",
   "metadata": {},
   "source": [
    "---"
   ]
  },
  {
   "cell_type": "markdown",
   "id": "0d1cdbe7",
   "metadata": {},
   "source": [
    "Посмотрим, сколько платежей совершено ранее 11.01.2017 в контрольной группе 1"
   ]
  },
  {
   "cell_type": "code",
   "execution_count": 32,
   "id": "84f9a7a9",
   "metadata": {},
   "outputs": [
    {
     "data": {
      "text/html": [
       "<div>\n",
       "<style scoped>\n",
       "    .dataframe tbody tr th:only-of-type {\n",
       "        vertical-align: middle;\n",
       "    }\n",
       "\n",
       "    .dataframe tbody tr th {\n",
       "        vertical-align: top;\n",
       "    }\n",
       "\n",
       "    .dataframe thead th {\n",
       "        text-align: right;\n",
       "    }\n",
       "</style>\n",
       "<table border=\"1\" class=\"dataframe\">\n",
       "  <thead>\n",
       "    <tr style=\"text-align: right;\">\n",
       "      <th></th>\n",
       "      <th>uid</th>\n",
       "      <th>country</th>\n",
       "      <th>joined_at</th>\n",
       "      <th>paid_at</th>\n",
       "      <th>revenue</th>\n",
       "      <th>payment_id</th>\n",
       "      <th>from_page</th>\n",
       "      <th>product_type</th>\n",
       "    </tr>\n",
       "  </thead>\n",
       "  <tbody>\n",
       "    <tr>\n",
       "      <th>65</th>\n",
       "      <td>960936960</td>\n",
       "      <td>Russian Federation</td>\n",
       "      <td>2015-01-19 11:49:00</td>\n",
       "      <td>2016-12-14 17:30:00</td>\n",
       "      <td>26.0</td>\n",
       "      <td>0.0</td>\n",
       "      <td>refund_VP</td>\n",
       "      <td>other_type</td>\n",
       "    </tr>\n",
       "    <tr>\n",
       "      <th>101</th>\n",
       "      <td>960936960</td>\n",
       "      <td>Russian Federation</td>\n",
       "      <td>2015-01-19 11:49:00</td>\n",
       "      <td>2016-12-14 17:35:00</td>\n",
       "      <td>637.0</td>\n",
       "      <td>0.0</td>\n",
       "      <td>refung_AP</td>\n",
       "      <td>other_type</td>\n",
       "    </tr>\n",
       "    <tr>\n",
       "      <th>224</th>\n",
       "      <td>960936960</td>\n",
       "      <td>Russian Federation</td>\n",
       "      <td>2015-01-19 11:49:00</td>\n",
       "      <td>2016-12-14 16:16:00</td>\n",
       "      <td>143.0</td>\n",
       "      <td>0.0</td>\n",
       "      <td>refund_WP</td>\n",
       "      <td>other_type</td>\n",
       "    </tr>\n",
       "  </tbody>\n",
       "</table>\n",
       "</div>"
      ],
      "text/plain": [
       "           uid             country           joined_at             paid_at  \\\n",
       "65   960936960  Russian Federation 2015-01-19 11:49:00 2016-12-14 17:30:00   \n",
       "101  960936960  Russian Federation 2015-01-19 11:49:00 2016-12-14 17:35:00   \n",
       "224  960936960  Russian Federation 2015-01-19 11:49:00 2016-12-14 16:16:00   \n",
       "\n",
       "     revenue  payment_id  from_page product_type  \n",
       "65      26.0         0.0  refund_VP   other_type  \n",
       "101    637.0         0.0  refung_AP   other_type  \n",
       "224    143.0         0.0  refund_WP   other_type  "
      ]
     },
     "execution_count": 32,
     "metadata": {},
     "output_type": "execute_result"
    }
   ],
   "source": [
    "transactions_control_1.query('paid_at < \"2017-01-11 00:00:00\"') "
   ]
  },
  {
   "cell_type": "markdown",
   "id": "8b06feb8",
   "metadata": {},
   "source": [
    "Поскольку таких платежей всего 3 и у одного и того же пользователя, то исключим его из обеих таблиц."
   ]
  },
  {
   "cell_type": "code",
   "execution_count": 33,
   "id": "6a8bd76e",
   "metadata": {},
   "outputs": [],
   "source": [
    "transactions_control_1 = transactions_control_1.query('uid != 960936960')\n",
    "users_control_1 = users_control_1.query('uid != 960936960')"
   ]
  },
  {
   "cell_type": "markdown",
   "id": "05106c8c",
   "metadata": {},
   "source": [
    "---"
   ]
  },
  {
   "cell_type": "markdown",
   "id": "686b26c5",
   "metadata": {},
   "source": [
    "#### Проверка на соответствие выручки в таблицах *users_* и *trasactions_*"
   ]
  },
  {
   "cell_type": "code",
   "execution_count": 34,
   "id": "07844a70",
   "metadata": {},
   "outputs": [
    {
     "data": {
      "text/plain": [
       "False"
      ]
     },
     "metadata": {},
     "output_type": "display_data"
    },
    {
     "data": {
      "text/plain": [
       "False"
      ]
     },
     "metadata": {},
     "output_type": "display_data"
    },
    {
     "data": {
      "text/plain": [
       "True"
      ]
     },
     "metadata": {},
     "output_type": "display_data"
    }
   ],
   "source": [
    "display(users_test.total_revenue.sum() == transactions_test.revenue.sum())\n",
    "display(users_control_1.total_revenue.sum() == transactions_control_1.revenue.sum())\n",
    "display(users_control_2.total_revenue.sum() == transactions_control_2.revenue.sum())"
   ]
  },
  {
   "cell_type": "markdown",
   "id": "86c7def9",
   "metadata": {},
   "source": [
    "---"
   ]
  },
  {
   "cell_type": "markdown",
   "id": "4e860be6",
   "metadata": {},
   "source": [
    "#### Исправление несоответстивий в выручке\n",
    "Найдем пользователей, у которых не сошлась выручка\n",
    "для этого сначала проведем группировку по пользователям из таблицы с платежами и посчитаем общую выручку\n",
    "далее соединим эти данные с таблицей пользователй по uid и отсортируем тех, у кого не сошлась выручка, \n",
    "отбросив данные без выручки"
   ]
  },
  {
   "cell_type": "code",
   "execution_count": 35,
   "id": "6d840835",
   "metadata": {},
   "outputs": [
    {
     "data": {
      "text/html": [
       "<div>\n",
       "<style scoped>\n",
       "    .dataframe tbody tr th:only-of-type {\n",
       "        vertical-align: middle;\n",
       "    }\n",
       "\n",
       "    .dataframe tbody tr th {\n",
       "        vertical-align: top;\n",
       "    }\n",
       "\n",
       "    .dataframe thead th {\n",
       "        text-align: right;\n",
       "    }\n",
       "</style>\n",
       "<table border=\"1\" class=\"dataframe\">\n",
       "  <thead>\n",
       "    <tr style=\"text-align: right;\">\n",
       "      <th></th>\n",
       "      <th>uid</th>\n",
       "      <th>age</th>\n",
       "      <th>attraction_coeff</th>\n",
       "      <th>coins</th>\n",
       "      <th>country</th>\n",
       "      <th>visit_days</th>\n",
       "      <th>gender</th>\n",
       "      <th>age_filter_start</th>\n",
       "      <th>age_filter_end</th>\n",
       "      <th>views_count</th>\n",
       "      <th>was_premium</th>\n",
       "      <th>is_premium</th>\n",
       "      <th>total_revenue</th>\n",
       "      <th>revenue</th>\n",
       "    </tr>\n",
       "  </thead>\n",
       "  <tbody>\n",
       "    <tr>\n",
       "      <th>2070</th>\n",
       "      <td>892275462</td>\n",
       "      <td>31</td>\n",
       "      <td>310</td>\n",
       "      <td>0.0</td>\n",
       "      <td>France</td>\n",
       "      <td>1,2,3,4,5,9,13,15,16</td>\n",
       "      <td>1</td>\n",
       "      <td>36</td>\n",
       "      <td>68</td>\n",
       "      <td>58</td>\n",
       "      <td>1.0</td>\n",
       "      <td>1.0</td>\n",
       "      <td>14885</td>\n",
       "      <td>58968.0</td>\n",
       "    </tr>\n",
       "  </tbody>\n",
       "</table>\n",
       "</div>"
      ],
      "text/plain": [
       "            uid  age  attraction_coeff  coins country            visit_days  \\\n",
       "2070  892275462   31               310    0.0  France  1,2,3,4,5,9,13,15,16   \n",
       "\n",
       "      gender  age_filter_start  age_filter_end  views_count  was_premium  \\\n",
       "2070       1                36              68           58          1.0   \n",
       "\n",
       "      is_premium  total_revenue  revenue  \n",
       "2070         1.0          14885  58968.0  "
      ]
     },
     "execution_count": 35,
     "metadata": {},
     "output_type": "execute_result"
    }
   ],
   "source": [
    "revenue_test = transactions_test.groupby('uid', as_index=False).revenue.sum()\n",
    "users_test_revenue = users_test.merge(revenue_test, on='uid', how='left') \n",
    "users_test_revenue.query('(total_revenue != revenue) & (revenue >0)')"
   ]
  },
  {
   "cell_type": "markdown",
   "id": "6824023f",
   "metadata": {},
   "source": [
    "Проверим более подробно данные о платежах пользователя *892275462*"
   ]
  },
  {
   "cell_type": "code",
   "execution_count": 36,
   "id": "769a947f",
   "metadata": {},
   "outputs": [
    {
     "data": {
      "text/html": [
       "<div>\n",
       "<style scoped>\n",
       "    .dataframe tbody tr th:only-of-type {\n",
       "        vertical-align: middle;\n",
       "    }\n",
       "\n",
       "    .dataframe tbody tr th {\n",
       "        vertical-align: top;\n",
       "    }\n",
       "\n",
       "    .dataframe thead th {\n",
       "        text-align: right;\n",
       "    }\n",
       "</style>\n",
       "<table border=\"1\" class=\"dataframe\">\n",
       "  <thead>\n",
       "    <tr style=\"text-align: right;\">\n",
       "      <th></th>\n",
       "      <th>uid</th>\n",
       "      <th>country</th>\n",
       "      <th>joined_at</th>\n",
       "      <th>paid_at</th>\n",
       "      <th>revenue</th>\n",
       "      <th>payment_id</th>\n",
       "      <th>from_page</th>\n",
       "      <th>product_type</th>\n",
       "    </tr>\n",
       "  </thead>\n",
       "  <tbody>\n",
       "    <tr>\n",
       "      <th>64</th>\n",
       "      <td>892275462</td>\n",
       "      <td>France</td>\n",
       "      <td>2017-10-17 05:56:00</td>\n",
       "      <td>2017-02-11 18:24:00</td>\n",
       "      <td>44083</td>\n",
       "      <td>19</td>\n",
       "      <td>coins_popup</td>\n",
       "      <td>other_type</td>\n",
       "    </tr>\n",
       "    <tr>\n",
       "      <th>154</th>\n",
       "      <td>892275462</td>\n",
       "      <td>France</td>\n",
       "      <td>2017-10-17 05:56:00</td>\n",
       "      <td>2017-10-20 17:00:00</td>\n",
       "      <td>14885</td>\n",
       "      <td>68</td>\n",
       "      <td>super_popup</td>\n",
       "      <td>other_type</td>\n",
       "    </tr>\n",
       "  </tbody>\n",
       "</table>\n",
       "</div>"
      ],
      "text/plain": [
       "           uid country           joined_at             paid_at  revenue  \\\n",
       "64   892275462  France 2017-10-17 05:56:00 2017-02-11 18:24:00    44083   \n",
       "154  892275462  France 2017-10-17 05:56:00 2017-10-20 17:00:00    14885   \n",
       "\n",
       "     payment_id    from_page product_type  \n",
       "64           19  coins_popup   other_type  \n",
       "154          68  super_popup   other_type  "
      ]
     },
     "execution_count": 36,
     "metadata": {},
     "output_type": "execute_result"
    }
   ],
   "source": [
    "transactions_test.query('uid == 892275462')"
   ]
  },
  {
   "cell_type": "markdown",
   "id": "80d74e40",
   "metadata": {},
   "source": [
    "Проделаем тоже самое с контрольной группой"
   ]
  },
  {
   "cell_type": "code",
   "execution_count": 37,
   "id": "0c756d7d",
   "metadata": {},
   "outputs": [
    {
     "data": {
      "text/html": [
       "<div>\n",
       "<style scoped>\n",
       "    .dataframe tbody tr th:only-of-type {\n",
       "        vertical-align: middle;\n",
       "    }\n",
       "\n",
       "    .dataframe tbody tr th {\n",
       "        vertical-align: top;\n",
       "    }\n",
       "\n",
       "    .dataframe thead th {\n",
       "        text-align: right;\n",
       "    }\n",
       "</style>\n",
       "<table border=\"1\" class=\"dataframe\">\n",
       "  <thead>\n",
       "    <tr style=\"text-align: right;\">\n",
       "      <th></th>\n",
       "      <th>uid</th>\n",
       "      <th>age</th>\n",
       "      <th>attraction_coeff</th>\n",
       "      <th>coins</th>\n",
       "      <th>country</th>\n",
       "      <th>visit_days</th>\n",
       "      <th>gender</th>\n",
       "      <th>age_filter_start</th>\n",
       "      <th>age_filter_end</th>\n",
       "      <th>views_count</th>\n",
       "      <th>was_premium</th>\n",
       "      <th>is_premium</th>\n",
       "      <th>total_revenue</th>\n",
       "      <th>revenue</th>\n",
       "    </tr>\n",
       "  </thead>\n",
       "  <tbody>\n",
       "    <tr>\n",
       "      <th>3369</th>\n",
       "      <td>892355163</td>\n",
       "      <td>40</td>\n",
       "      <td>640</td>\n",
       "      <td>0.0</td>\n",
       "      <td>United States of America</td>\n",
       "      <td>1,2,3,4,5,6,7,8,9,10,11,12,13,14,15,16,17,18,1...</td>\n",
       "      <td>1</td>\n",
       "      <td>25</td>\n",
       "      <td>60</td>\n",
       "      <td>700</td>\n",
       "      <td>1.0</td>\n",
       "      <td>0.0</td>\n",
       "      <td>0</td>\n",
       "      <td>30264.0</td>\n",
       "    </tr>\n",
       "  </tbody>\n",
       "</table>\n",
       "</div>"
      ],
      "text/plain": [
       "            uid  age  attraction_coeff  coins                   country  \\\n",
       "3369  892355163   40               640    0.0  United States of America   \n",
       "\n",
       "                                             visit_days  gender  \\\n",
       "3369  1,2,3,4,5,6,7,8,9,10,11,12,13,14,15,16,17,18,1...       1   \n",
       "\n",
       "      age_filter_start  age_filter_end  views_count  was_premium  is_premium  \\\n",
       "3369                25              60          700          1.0         0.0   \n",
       "\n",
       "      total_revenue  revenue  \n",
       "3369              0  30264.0  "
      ]
     },
     "execution_count": 37,
     "metadata": {},
     "output_type": "execute_result"
    }
   ],
   "source": [
    "revenue_control_1 = transactions_control_1.groupby('uid', as_index=False).revenue.sum()\n",
    "users_c_1_revenue = users_control_1.merge(revenue_control_1, on='uid', how='left')\n",
    "users_c_1_revenue.query('(total_revenue != revenue) & (revenue >0)')"
   ]
  },
  {
   "cell_type": "code",
   "execution_count": 38,
   "id": "ad601d0c",
   "metadata": {},
   "outputs": [
    {
     "data": {
      "text/html": [
       "<div>\n",
       "<style scoped>\n",
       "    .dataframe tbody tr th:only-of-type {\n",
       "        vertical-align: middle;\n",
       "    }\n",
       "\n",
       "    .dataframe tbody tr th {\n",
       "        vertical-align: top;\n",
       "    }\n",
       "\n",
       "    .dataframe thead th {\n",
       "        text-align: right;\n",
       "    }\n",
       "</style>\n",
       "<table border=\"1\" class=\"dataframe\">\n",
       "  <thead>\n",
       "    <tr style=\"text-align: right;\">\n",
       "      <th></th>\n",
       "      <th>uid</th>\n",
       "      <th>country</th>\n",
       "      <th>joined_at</th>\n",
       "      <th>paid_at</th>\n",
       "      <th>revenue</th>\n",
       "      <th>payment_id</th>\n",
       "      <th>from_page</th>\n",
       "      <th>product_type</th>\n",
       "    </tr>\n",
       "  </thead>\n",
       "  <tbody>\n",
       "    <tr>\n",
       "      <th>303</th>\n",
       "      <td>892355163</td>\n",
       "      <td>United States of America</td>\n",
       "      <td>2017-10-15 18:45:00</td>\n",
       "      <td>2017-10-16 09:52:00</td>\n",
       "      <td>30264.0</td>\n",
       "      <td>68.0</td>\n",
       "      <td>super_popup</td>\n",
       "      <td>other_type</td>\n",
       "    </tr>\n",
       "  </tbody>\n",
       "</table>\n",
       "</div>"
      ],
      "text/plain": [
       "           uid                   country           joined_at  \\\n",
       "303  892355163  United States of America 2017-10-15 18:45:00   \n",
       "\n",
       "                paid_at  revenue  payment_id    from_page product_type  \n",
       "303 2017-10-16 09:52:00  30264.0        68.0  super_popup   other_type  "
      ]
     },
     "execution_count": 38,
     "metadata": {},
     "output_type": "execute_result"
    }
   ],
   "source": [
    "transactions_control_1.query('uid == 892355163')"
   ]
  },
  {
   "cell_type": "markdown",
   "id": "9d1a91eb",
   "metadata": {},
   "source": [
    "---"
   ]
  },
  {
   "cell_type": "markdown",
   "id": "46577a9b",
   "metadata": {},
   "source": [
    "#### Изучив данные пользователей, у которых не сошлась выручка мы можем предположить о том, что в таблицах с пользователями (судя по сумме) не были учтены некоторые платежи. Оставим выручку, которую посчитали в таблицах с платежами."
   ]
  },
  {
   "cell_type": "code",
   "execution_count": 39,
   "id": "54903c2e",
   "metadata": {},
   "outputs": [],
   "source": [
    "users_test.loc[users_test['uid'] == 892275462, 'total_revenue'] = 58968\n",
    "users_control_1.loc[users_control_1['uid'] == 892355163, 'total_revenue'] = 30264"
   ]
  },
  {
   "cell_type": "code",
   "execution_count": 40,
   "id": "8733d8aa",
   "metadata": {},
   "outputs": [
    {
     "data": {
      "text/plain": [
       "True"
      ]
     },
     "metadata": {},
     "output_type": "display_data"
    },
    {
     "data": {
      "text/plain": [
       "True"
      ]
     },
     "metadata": {},
     "output_type": "display_data"
    }
   ],
   "source": [
    "display(users_test.total_revenue.sum() == transactions_test.revenue.sum(),\n",
    "        users_control_1.total_revenue.sum() == transactions_control_1.revenue.sum())"
   ]
  },
  {
   "cell_type": "markdown",
   "id": "346699dc",
   "metadata": {},
   "source": [
    "*Теперь выручка пользователей сходится, поэтому несмотря на наличие дубликатов не будем их удалять. Они могут быть связаны с тем, что во времени оплаты не учтены секунды или с тем, что оплата производилась с разных устройств одновременно.*"
   ]
  },
  {
   "cell_type": "markdown",
   "id": "a1d34e1e",
   "metadata": {},
   "source": [
    "---"
   ]
  },
  {
   "cell_type": "markdown",
   "id": "7bf98979",
   "metadata": {},
   "source": [
    "#### Проверка на наличие пользователей в нескольких исследуемых группах"
   ]
  },
  {
   "cell_type": "markdown",
   "id": "ca3ea854",
   "metadata": {},
   "source": [
    "#### Проверка в таблицах с пользователями (*users_* *)"
   ]
  },
  {
   "cell_type": "code",
   "execution_count": 41,
   "id": "d37cc695",
   "metadata": {},
   "outputs": [
    {
     "name": "stdout",
     "output_type": "stream",
     "text": [
      "Количество пользователей, которые одновременно в группе t и c1: 0\n",
      "Количество пользователей, которые одновременно в группе t и c2: 0\n",
      "Количество пользователей, которые одновременно в группе c1 и c2: 0\n"
     ]
    }
   ],
   "source": [
    "users_t = users_test.uid.unique()\n",
    "users_c1 = users_control_1.uid.unique()\n",
    "\n",
    "print(f\"Количество пользователей, которые одновременно в группе t и c1: {users_control_1.query('uid in @users_t').uid.count()}\")\n",
    "print(f\"Количество пользователей, которые одновременно в группе t и c2: {users_control_2.query('uid in @users_t').uid.count()}\")\n",
    "print(f\"Количество пользователей, которые одновременно в группе c1 и c2: {users_control_2.query('uid in @users_c1').uid.count()}\")"
   ]
  },
  {
   "cell_type": "markdown",
   "id": "498c874c",
   "metadata": {},
   "source": [
    "##### Пользователи не повторяются в разных группах"
   ]
  },
  {
   "cell_type": "markdown",
   "id": "ab866c00",
   "metadata": {},
   "source": [
    "---"
   ]
  },
  {
   "cell_type": "markdown",
   "id": "f1fb4630",
   "metadata": {},
   "source": [
    "#### Проверка в таблицах с платежами (*transactions_* *)"
   ]
  },
  {
   "cell_type": "code",
   "execution_count": 42,
   "id": "553a505f",
   "metadata": {},
   "outputs": [
    {
     "name": "stdout",
     "output_type": "stream",
     "text": [
      "Количество пользователей, которые одновременно в группе t и c1: 0\n",
      "Количество пользователей, которые одновременно в группе t и c2: 0\n",
      "Количество пользователей, которые одновременно в группе c1 и c2: 0\n"
     ]
    }
   ],
   "source": [
    "transactions_t = users_test.uid.unique()\n",
    "transactions_c1 = users_control_1.uid.unique()\n",
    "\n",
    "print(f\"Количество пользователей, которые одновременно в группе t и c1: {users_control_1.query('uid in @transactions_t').uid.count()}\")\n",
    "print(f\"Количество пользователей, которые одновременно в группе t и c2: {users_control_2.query('uid in @transactions_t').uid.count()}\")\n",
    "print(f\"Количество пользователей, которые одновременно в группе c1 и c2: {users_control_2.query('uid in @transactions_c1').uid.count()}\")"
   ]
  },
  {
   "cell_type": "markdown",
   "id": "4598f8d9",
   "metadata": {},
   "source": [
    "##### Пользователи не повторяются в разных группах"
   ]
  },
  {
   "cell_type": "markdown",
   "id": "812290ab",
   "metadata": {},
   "source": [
    "---"
   ]
  },
  {
   "cell_type": "markdown",
   "id": "47deceb9",
   "metadata": {},
   "source": [
    "#### Количество уникальных стран по группам"
   ]
  },
  {
   "cell_type": "code",
   "execution_count": 43,
   "id": "44f9cfc6",
   "metadata": {},
   "outputs": [
    {
     "name": "stdout",
     "output_type": "stream",
     "text": [
      "Количество уникальных стран в users_test: 51\n",
      "Количество уникальных стран в users_control_1: 40\n",
      "Количество уникальных стран в users_control_2: 45\n"
     ]
    }
   ],
   "source": [
    "print(f\"Количество уникальных стран в users_test: {users_test.country.nunique()}\")\n",
    "print(f\"Количество уникальных стран в users_control_1: {users_control_1.country.nunique()}\")\n",
    "print(f\"Количество уникальных стран в users_control_2: {users_control_2.country.nunique()}\")"
   ]
  },
  {
   "cell_type": "markdown",
   "id": "177eb852",
   "metadata": {},
   "source": [
    "---"
   ]
  },
  {
   "cell_type": "markdown",
   "id": "e7f62db9",
   "metadata": {},
   "source": [
    "#### Количество стран, которые встречаются в каждой группе"
   ]
  },
  {
   "cell_type": "code",
   "execution_count": 44,
   "id": "8ff07442",
   "metadata": {},
   "outputs": [
    {
     "name": "stdout",
     "output_type": "stream",
     "text": [
      "Количество стран, которые встречаются в каждой группе: 25\n"
     ]
    }
   ],
   "source": [
    "countries_test = users_test.country.unique()\n",
    "countries_control_1 = users_control_1.country.unique()\n",
    "\n",
    "print(f\"Количество стран, которые встречаются в каждой группе: {users_control_2.query('country in @countries_test & country in @countries_control_1').country.nunique()}\")"
   ]
  },
  {
   "cell_type": "markdown",
   "id": "840f1dfe",
   "metadata": {},
   "source": [
    "---"
   ]
  },
  {
   "cell_type": "markdown",
   "id": "00046bc5",
   "metadata": {},
   "source": [
    "*В задании указано, что для новых пользователей из нескольких стран была изменена стоимость премиум-подписки, однако, не указано из каких именно. Мы выявили, что пользователи из 25 стран есть во всех трех группах, тогда как в разных группах пользователи из более чем 40 стран. Чтобы группы были однородные, оставим только те страны, пользователи из которых есть во всех группах.*"
   ]
  },
  {
   "cell_type": "markdown",
   "id": "f1edf3cf",
   "metadata": {},
   "source": [
    "#### Создадим список из 25 стран"
   ]
  },
  {
   "cell_type": "code",
   "execution_count": 45,
   "id": "14a2c298",
   "metadata": {},
   "outputs": [],
   "source": [
    "countries_in_all_groups = list(users_control_2.query('country in @countries_test & country in @countries_control_1')\n",
    "                                              .country.unique())"
   ]
  },
  {
   "cell_type": "markdown",
   "id": "d40ad172",
   "metadata": {},
   "source": [
    "#### Оставим только пользователей из этих стран"
   ]
  },
  {
   "cell_type": "code",
   "execution_count": 46,
   "id": "c4ed219a",
   "metadata": {},
   "outputs": [],
   "source": [
    "users_test = users_test.query('country in @countries_in_all_groups')\n",
    "users_control_1 = users_control_1.query('country in @countries_in_all_groups')\n",
    "users_control_2 = users_control_2.query('country in @countries_in_all_groups')"
   ]
  },
  {
   "cell_type": "markdown",
   "id": "319b70fa",
   "metadata": {},
   "source": [
    "#### Теперь посмотрим на количество оставшихся уникальных пользователей в группах"
   ]
  },
  {
   "cell_type": "code",
   "execution_count": 47,
   "id": "2267ccf3",
   "metadata": {},
   "outputs": [
    {
     "name": "stdout",
     "output_type": "stream",
     "text": [
      "Количество уникальных пользователей в users_test: 4271\n",
      "Количество уникальных пользователей в users_control_1: 4318\n",
      "Количество уникальных пользователей в users_control_2: 4238\n"
     ]
    }
   ],
   "source": [
    "print(f\"Количество уникальных пользователей в users_test: {users_test.uid.nunique()}\")\n",
    "print(f\"Количество уникальных пользователей в users_control_1: {users_control_1.uid.nunique()}\")\n",
    "print(f\"Количество уникальных пользователей в users_control_2: {users_control_2.uid.nunique()}\")"
   ]
  },
  {
   "cell_type": "markdown",
   "id": "ed6ae7b8",
   "metadata": {},
   "source": [
    "*В тестовой группе остались 4271 пользователя (было 4308), в контрольной группе 1 стало 4318 пользователей (было 4346), в контрольной группе 2 стало 4238 пользователей (было 4264). Таким образом, мы выяснили, что из стран, которые не входят в список из 25 стран, мало пользователей, которых можно исключить из данных для чистоты исследования.*\n",
    "\n",
    "*Получившиеся данные пригодны для дальнейшего анализа.*"
   ]
  },
  {
   "cell_type": "markdown",
   "id": "de0d2acd",
   "metadata": {},
   "source": [
    "---"
   ]
  },
  {
   "cell_type": "markdown",
   "id": "7b707075",
   "metadata": {},
   "source": [
    "#### Расчёт новых пользователей (исходя из того, что дата их регистрации позже даты начала эксперимента)"
   ]
  },
  {
   "cell_type": "code",
   "execution_count": 48,
   "id": "6ddb0b4b",
   "metadata": {},
   "outputs": [
    {
     "data": {
      "text/plain": [
       "(273, 8)"
      ]
     },
     "metadata": {},
     "output_type": "display_data"
    },
    {
     "data": {
      "text/plain": [
       "(374, 8)"
      ]
     },
     "metadata": {},
     "output_type": "display_data"
    },
    {
     "data": {
      "text/plain": [
       "(328, 8)"
      ]
     },
     "metadata": {},
     "output_type": "display_data"
    }
   ],
   "source": [
    "display(transactions_test.query('joined_at > \"2017-01-11 00:00:00\"').shape)\n",
    "display(transactions_control_1.query('joined_at > \"2017-01-11 00:00:00\"').shape)\n",
    "display(transactions_control_2.query('joined_at > \"2017-01-11 00:00:00\"').shape)"
   ]
  },
  {
   "cell_type": "markdown",
   "id": "00c7744a",
   "metadata": {},
   "source": [
    "*В тестовой группе 273 новых пользователя, в контрольной группе 1 - 374 пользователя, в контрольной группе 2 - 328 пользователей.*\n",
    "\n",
    "*Данные пригодны для проведения исследований.*"
   ]
  },
  {
   "cell_type": "markdown",
   "id": "207a547d",
   "metadata": {},
   "source": [
    "---"
   ]
  },
  {
   "cell_type": "markdown",
   "id": "41510a58",
   "metadata": {},
   "source": [
    "#### Узнаем минимальный и максимальный возраст в наших группах."
   ]
  },
  {
   "cell_type": "code",
   "execution_count": 49,
   "id": "a2568580",
   "metadata": {
    "scrolled": true
   },
   "outputs": [
    {
     "name": "stdout",
     "output_type": "stream",
     "text": [
      "Минимальный возраст в users_test: 16\n",
      "Минимальный возраст в users_control_1: 16\n",
      "Минимальный возраст в users_control_2: 16\n"
     ]
    }
   ],
   "source": [
    "print(f\"Минимальный возраст в users_test: {users_test.age.min()}\")\n",
    "print(f\"Минимальный возраст в users_control_1: {users_control_1.age.min()}\")\n",
    "print(f\"Минимальный возраст в users_control_2: {users_control_2.age.min()}\")"
   ]
  },
  {
   "cell_type": "code",
   "execution_count": 50,
   "id": "c46f3bad",
   "metadata": {},
   "outputs": [
    {
     "name": "stdout",
     "output_type": "stream",
     "text": [
      "Максимальный возраст в users_test: 99\n",
      "Максимальный возраст в users_control_1: 99\n",
      "Максимальный возраст в users_control_2: 99\n"
     ]
    }
   ],
   "source": [
    "print(f\"Максимальный возраст в users_test: {users_test.age.max()}\")\n",
    "print(f\"Максимальный возраст в users_control_1: {users_control_1.age.max()}\")\n",
    "print(f\"Максимальный возраст в users_control_2: {users_control_2.age.max()}\")"
   ]
  },
  {
   "cell_type": "markdown",
   "id": "0044e431",
   "metadata": {},
   "source": [
    "##### Узнаем, сколько было премиальных клиентов и сколько их стало\n",
    "\n",
    "- *was_premium* - было\n",
    "- *is_premium* - стало"
   ]
  },
  {
   "cell_type": "code",
   "execution_count": 51,
   "id": "38ff54c7",
   "metadata": {
    "scrolled": true
   },
   "outputs": [
    {
     "data": {
      "text/plain": [
       "0.0    3866\n",
       "1.0     405\n",
       "Name: was_premium, dtype: int64"
      ]
     },
     "metadata": {},
     "output_type": "display_data"
    },
    {
     "data": {
      "text/plain": [
       "0.0    3884\n",
       "1.0     434\n",
       "Name: was_premium, dtype: int64"
      ]
     },
     "metadata": {},
     "output_type": "display_data"
    },
    {
     "data": {
      "text/plain": [
       "0.0    3829\n",
       "1.0     409\n",
       "Name: was_premium, dtype: int64"
      ]
     },
     "metadata": {},
     "output_type": "display_data"
    }
   ],
   "source": [
    "display(users_test.was_premium.value_counts())\n",
    "display(users_control_1.was_premium.value_counts())\n",
    "display(users_control_2.was_premium.value_counts())"
   ]
  },
  {
   "cell_type": "code",
   "execution_count": 52,
   "id": "d16989ba",
   "metadata": {},
   "outputs": [
    {
     "data": {
      "text/plain": [
       "0.0    4115\n",
       "1.0     156\n",
       "Name: is_premium, dtype: int64"
      ]
     },
     "metadata": {},
     "output_type": "display_data"
    },
    {
     "data": {
      "text/plain": [
       "0.0    4127\n",
       "1.0     191\n",
       "Name: is_premium, dtype: int64"
      ]
     },
     "metadata": {},
     "output_type": "display_data"
    },
    {
     "data": {
      "text/plain": [
       "0.0    4049\n",
       "1.0     189\n",
       "Name: is_premium, dtype: int64"
      ]
     },
     "metadata": {},
     "output_type": "display_data"
    }
   ],
   "source": [
    "display(users_test.is_premium.value_counts())\n",
    "display(users_control_1.is_premium.value_counts())\n",
    "display(users_control_2.is_premium.value_counts())"
   ]
  },
  {
   "cell_type": "markdown",
   "id": "553eaa16",
   "metadata": {},
   "source": [
    "**Вывод:** \n",
    "1. Минимальный возраст во всех группах - 16 лет, максимальный во всех группах - 99.\n",
    "2. Премиальных клиентов было в тестовой группе 405, в контрольной группе 1 - 434, в контрольной 2 - 409. Данные сопоставимы.\n",
    "3. Премиальных клиентов сейчас в тестовой группе 156, в контрольной группе 1 - 191, в контрольной 2 - 189. Данные сопоставимы."
   ]
  },
  {
   "cell_type": "markdown",
   "id": "f59719b8",
   "metadata": {},
   "source": [
    "---"
   ]
  },
  {
   "cell_type": "markdown",
   "id": "eb89a2a1",
   "metadata": {},
   "source": [
    "#### Посмотрим на распределение платежей по типу продукта"
   ]
  },
  {
   "cell_type": "code",
   "execution_count": 53,
   "id": "c8f023d2",
   "metadata": {},
   "outputs": [
    {
     "data": {
      "text/plain": [
       "coins               106\n",
       "premium_no_trial     76\n",
       "trial_premium        62\n",
       "other_type           29\n",
       "Name: product_type, dtype: int64"
      ]
     },
     "metadata": {},
     "output_type": "display_data"
    },
    {
     "data": {
      "text/plain": [
       "coins               149\n",
       "premium_no_trial    106\n",
       "trial_premium        67\n",
       "other_type           52\n",
       "Name: product_type, dtype: int64"
      ]
     },
     "metadata": {},
     "output_type": "display_data"
    },
    {
     "data": {
      "text/plain": [
       "coins               124\n",
       "premium_no_trial    107\n",
       "trial_premium        53\n",
       "other_type           44\n",
       "Name: product_type, dtype: int64"
      ]
     },
     "metadata": {},
     "output_type": "display_data"
    }
   ],
   "source": [
    "display(transactions_test.product_type.value_counts())\n",
    "display(transactions_control_1.product_type.value_counts())\n",
    "display(transactions_control_2.product_type.value_counts())"
   ]
  },
  {
   "cell_type": "markdown",
   "id": "da42113e",
   "metadata": {},
   "source": [
    "*Из данных видно, что распределение платежей по типу продукта во всех группах однородно.*"
   ]
  },
  {
   "cell_type": "markdown",
   "id": "d3ca1193",
   "metadata": {},
   "source": [
    "---"
   ]
  },
  {
   "cell_type": "markdown",
   "id": "93152b90",
   "metadata": {},
   "source": [
    "Объединим таблицы пользователей и платежей. Перед объединением таблиц добавим колонку, определяющую к какой группе относится пользователь"
   ]
  },
  {
   "cell_type": "code",
   "execution_count": 54,
   "id": "0d76e6a7",
   "metadata": {},
   "outputs": [],
   "source": [
    "users_test['group'] = 'test'\n",
    "users_control_1['group'] = 'control_1'\n",
    "users_control_2['group'] = 'control_2'\n",
    "transactions_test['group'] = 'test'\n",
    "transactions_control_1['group'] = 'control_1'\n",
    "transactions_control_2['group'] = 'control_2'"
   ]
  },
  {
   "cell_type": "markdown",
   "id": "b395fa64",
   "metadata": {},
   "source": [
    "Соединим по отдельности всех пользователей и все платежи"
   ]
  },
  {
   "cell_type": "code",
   "execution_count": 55,
   "id": "5b590462",
   "metadata": {},
   "outputs": [],
   "source": [
    "all_users = pd.concat([users_test, users_control_1, users_control_2], ignore_index=True)\n",
    "all_transactions = pd.concat([transactions_test, transactions_control_1, transactions_control_2], ignore_index=True)"
   ]
  },
  {
   "cell_type": "markdown",
   "id": "cbc0dbce",
   "metadata": {},
   "source": [
    "Вынесем отдельно столбец с подпиской premium_no_trial, где 0 -другая подписка, 1- premium_no_trial"
   ]
  },
  {
   "cell_type": "code",
   "execution_count": 56,
   "id": "f6fe8b98",
   "metadata": {},
   "outputs": [],
   "source": [
    "all_transactions['premium_no_trial'] = np.where(all_transactions['product_type'] == 'premium_no_trial', 1, 0)"
   ]
  },
  {
   "cell_type": "markdown",
   "id": "298e8674",
   "metadata": {},
   "source": [
    "Отберем данные из таблицы с платежами \n",
    "Сгруппируем по пользователям и premium_no_trial, посчитаем выручку"
   ]
  },
  {
   "cell_type": "code",
   "execution_count": 57,
   "id": "f7d6cd23",
   "metadata": {},
   "outputs": [],
   "source": [
    "transactions_uid_revenue = all_transactions.groupby(['uid', 'premium_no_trial'], as_index=False) \\\n",
    "                                           .agg({'revenue': 'sum'})"
   ]
  },
  {
   "cell_type": "markdown",
   "id": "28d9f408",
   "metadata": {},
   "source": [
    "#### Объединим получившиеся таблицы"
   ]
  },
  {
   "cell_type": "code",
   "execution_count": 58,
   "id": "7b950d6d",
   "metadata": {},
   "outputs": [
    {
     "data": {
      "text/html": [
       "<div>\n",
       "<style scoped>\n",
       "    .dataframe tbody tr th:only-of-type {\n",
       "        vertical-align: middle;\n",
       "    }\n",
       "\n",
       "    .dataframe tbody tr th {\n",
       "        vertical-align: top;\n",
       "    }\n",
       "\n",
       "    .dataframe thead th {\n",
       "        text-align: right;\n",
       "    }\n",
       "</style>\n",
       "<table border=\"1\" class=\"dataframe\">\n",
       "  <thead>\n",
       "    <tr style=\"text-align: right;\">\n",
       "      <th></th>\n",
       "      <th>uid</th>\n",
       "      <th>age</th>\n",
       "      <th>attraction_coeff</th>\n",
       "      <th>coins</th>\n",
       "      <th>country</th>\n",
       "      <th>visit_days</th>\n",
       "      <th>gender</th>\n",
       "      <th>age_filter_start</th>\n",
       "      <th>age_filter_end</th>\n",
       "      <th>views_count</th>\n",
       "      <th>was_premium</th>\n",
       "      <th>is_premium</th>\n",
       "      <th>total_revenue</th>\n",
       "      <th>group</th>\n",
       "      <th>premium_no_trial</th>\n",
       "      <th>revenue</th>\n",
       "    </tr>\n",
       "  </thead>\n",
       "  <tbody>\n",
       "    <tr>\n",
       "      <th>0</th>\n",
       "      <td>892309896</td>\n",
       "      <td>27</td>\n",
       "      <td>685</td>\n",
       "      <td>0.0</td>\n",
       "      <td>United States of America</td>\n",
       "      <td>1,2,3,4,5,6,7,8,9,10,11,12,16,17</td>\n",
       "      <td>1</td>\n",
       "      <td>24</td>\n",
       "      <td>30</td>\n",
       "      <td>89</td>\n",
       "      <td>0.0</td>\n",
       "      <td>0.0</td>\n",
       "      <td>0</td>\n",
       "      <td>test</td>\n",
       "      <td>0.0</td>\n",
       "      <td>0.0</td>\n",
       "    </tr>\n",
       "    <tr>\n",
       "      <th>1</th>\n",
       "      <td>892044516</td>\n",
       "      <td>27</td>\n",
       "      <td>0</td>\n",
       "      <td>0.0</td>\n",
       "      <td>Germany</td>\n",
       "      <td>0</td>\n",
       "      <td>1</td>\n",
       "      <td>24</td>\n",
       "      <td>30</td>\n",
       "      <td>0</td>\n",
       "      <td>0.0</td>\n",
       "      <td>0.0</td>\n",
       "      <td>0</td>\n",
       "      <td>test</td>\n",
       "      <td>0.0</td>\n",
       "      <td>0.0</td>\n",
       "    </tr>\n",
       "    <tr>\n",
       "      <th>2</th>\n",
       "      <td>892185708</td>\n",
       "      <td>45</td>\n",
       "      <td>44</td>\n",
       "      <td>0.0</td>\n",
       "      <td>Israel</td>\n",
       "      <td>1,3,4,6,7,8,10,11,12,13,14,15,16,17,18,19,20,2...</td>\n",
       "      <td>1</td>\n",
       "      <td>42</td>\n",
       "      <td>48</td>\n",
       "      <td>68</td>\n",
       "      <td>0.0</td>\n",
       "      <td>0.0</td>\n",
       "      <td>0</td>\n",
       "      <td>test</td>\n",
       "      <td>0.0</td>\n",
       "      <td>0.0</td>\n",
       "    </tr>\n",
       "    <tr>\n",
       "      <th>3</th>\n",
       "      <td>892130292</td>\n",
       "      <td>32</td>\n",
       "      <td>0</td>\n",
       "      <td>0.0</td>\n",
       "      <td>United States of America</td>\n",
       "      <td>1,2,3,4,5,6,7,8,9,10,11,12</td>\n",
       "      <td>1</td>\n",
       "      <td>29</td>\n",
       "      <td>35</td>\n",
       "      <td>0</td>\n",
       "      <td>0.0</td>\n",
       "      <td>0.0</td>\n",
       "      <td>0</td>\n",
       "      <td>test</td>\n",
       "      <td>0.0</td>\n",
       "      <td>0.0</td>\n",
       "    </tr>\n",
       "    <tr>\n",
       "      <th>4</th>\n",
       "      <td>891406035</td>\n",
       "      <td>27</td>\n",
       "      <td>1000</td>\n",
       "      <td>0.0</td>\n",
       "      <td>France</td>\n",
       "      <td>0</td>\n",
       "      <td>1</td>\n",
       "      <td>24</td>\n",
       "      <td>30</td>\n",
       "      <td>1</td>\n",
       "      <td>1.0</td>\n",
       "      <td>0.0</td>\n",
       "      <td>0</td>\n",
       "      <td>test</td>\n",
       "      <td>0.0</td>\n",
       "      <td>0.0</td>\n",
       "    </tr>\n",
       "    <tr>\n",
       "      <th>...</th>\n",
       "      <td>...</td>\n",
       "      <td>...</td>\n",
       "      <td>...</td>\n",
       "      <td>...</td>\n",
       "      <td>...</td>\n",
       "      <td>...</td>\n",
       "      <td>...</td>\n",
       "      <td>...</td>\n",
       "      <td>...</td>\n",
       "      <td>...</td>\n",
       "      <td>...</td>\n",
       "      <td>...</td>\n",
       "      <td>...</td>\n",
       "      <td>...</td>\n",
       "      <td>...</td>\n",
       "      <td>...</td>\n",
       "    </tr>\n",
       "    <tr>\n",
       "      <th>12930</th>\n",
       "      <td>891937401</td>\n",
       "      <td>63</td>\n",
       "      <td>242</td>\n",
       "      <td>0.0</td>\n",
       "      <td>Italy</td>\n",
       "      <td>1,2</td>\n",
       "      <td>1</td>\n",
       "      <td>50</td>\n",
       "      <td>66</td>\n",
       "      <td>33</td>\n",
       "      <td>0.0</td>\n",
       "      <td>0.0</td>\n",
       "      <td>0</td>\n",
       "      <td>control_2</td>\n",
       "      <td>0.0</td>\n",
       "      <td>0.0</td>\n",
       "    </tr>\n",
       "    <tr>\n",
       "      <th>12931</th>\n",
       "      <td>891692844</td>\n",
       "      <td>35</td>\n",
       "      <td>500</td>\n",
       "      <td>0.0</td>\n",
       "      <td>France</td>\n",
       "      <td>1,2,3,4,5,6,8,9,10,11,12,14,16</td>\n",
       "      <td>1</td>\n",
       "      <td>24</td>\n",
       "      <td>45</td>\n",
       "      <td>2</td>\n",
       "      <td>0.0</td>\n",
       "      <td>0.0</td>\n",
       "      <td>0</td>\n",
       "      <td>control_2</td>\n",
       "      <td>0.0</td>\n",
       "      <td>0.0</td>\n",
       "    </tr>\n",
       "    <tr>\n",
       "      <th>12932</th>\n",
       "      <td>891096429</td>\n",
       "      <td>41</td>\n",
       "      <td>333</td>\n",
       "      <td>0.0</td>\n",
       "      <td>United States of America</td>\n",
       "      <td>0</td>\n",
       "      <td>1</td>\n",
       "      <td>38</td>\n",
       "      <td>44</td>\n",
       "      <td>6</td>\n",
       "      <td>0.0</td>\n",
       "      <td>0.0</td>\n",
       "      <td>0</td>\n",
       "      <td>control_2</td>\n",
       "      <td>0.0</td>\n",
       "      <td>0.0</td>\n",
       "    </tr>\n",
       "    <tr>\n",
       "      <th>12933</th>\n",
       "      <td>891697584</td>\n",
       "      <td>48</td>\n",
       "      <td>210</td>\n",
       "      <td>0.0</td>\n",
       "      <td>United Kingdom (Great Britain)</td>\n",
       "      <td>2,3,5,7,9,10,12,14,15</td>\n",
       "      <td>1</td>\n",
       "      <td>45</td>\n",
       "      <td>51</td>\n",
       "      <td>19</td>\n",
       "      <td>0.0</td>\n",
       "      <td>0.0</td>\n",
       "      <td>0</td>\n",
       "      <td>control_2</td>\n",
       "      <td>0.0</td>\n",
       "      <td>0.0</td>\n",
       "    </tr>\n",
       "    <tr>\n",
       "      <th>12934</th>\n",
       "      <td>891095634</td>\n",
       "      <td>22</td>\n",
       "      <td>0</td>\n",
       "      <td>0.0</td>\n",
       "      <td>Italy</td>\n",
       "      <td>0</td>\n",
       "      <td>1</td>\n",
       "      <td>19</td>\n",
       "      <td>25</td>\n",
       "      <td>0</td>\n",
       "      <td>0.0</td>\n",
       "      <td>0.0</td>\n",
       "      <td>0</td>\n",
       "      <td>control_2</td>\n",
       "      <td>0.0</td>\n",
       "      <td>0.0</td>\n",
       "    </tr>\n",
       "  </tbody>\n",
       "</table>\n",
       "<p>12935 rows × 16 columns</p>\n",
       "</div>"
      ],
      "text/plain": [
       "             uid  age  attraction_coeff  coins  \\\n",
       "0      892309896   27               685    0.0   \n",
       "1      892044516   27                 0    0.0   \n",
       "2      892185708   45                44    0.0   \n",
       "3      892130292   32                 0    0.0   \n",
       "4      891406035   27              1000    0.0   \n",
       "...          ...  ...               ...    ...   \n",
       "12930  891937401   63               242    0.0   \n",
       "12931  891692844   35               500    0.0   \n",
       "12932  891096429   41               333    0.0   \n",
       "12933  891697584   48               210    0.0   \n",
       "12934  891095634   22                 0    0.0   \n",
       "\n",
       "                              country  \\\n",
       "0            United States of America   \n",
       "1                             Germany   \n",
       "2                              Israel   \n",
       "3            United States of America   \n",
       "4                              France   \n",
       "...                               ...   \n",
       "12930                           Italy   \n",
       "12931                          France   \n",
       "12932        United States of America   \n",
       "12933  United Kingdom (Great Britain)   \n",
       "12934                           Italy   \n",
       "\n",
       "                                              visit_days  gender  \\\n",
       "0                       1,2,3,4,5,6,7,8,9,10,11,12,16,17       1   \n",
       "1                                                      0       1   \n",
       "2      1,3,4,6,7,8,10,11,12,13,14,15,16,17,18,19,20,2...       1   \n",
       "3                             1,2,3,4,5,6,7,8,9,10,11,12       1   \n",
       "4                                                      0       1   \n",
       "...                                                  ...     ...   \n",
       "12930                                                1,2       1   \n",
       "12931                     1,2,3,4,5,6,8,9,10,11,12,14,16       1   \n",
       "12932                                                  0       1   \n",
       "12933                              2,3,5,7,9,10,12,14,15       1   \n",
       "12934                                                  0       1   \n",
       "\n",
       "       age_filter_start  age_filter_end  views_count  was_premium  is_premium  \\\n",
       "0                    24              30           89          0.0         0.0   \n",
       "1                    24              30            0          0.0         0.0   \n",
       "2                    42              48           68          0.0         0.0   \n",
       "3                    29              35            0          0.0         0.0   \n",
       "4                    24              30            1          1.0         0.0   \n",
       "...                 ...             ...          ...          ...         ...   \n",
       "12930                50              66           33          0.0         0.0   \n",
       "12931                24              45            2          0.0         0.0   \n",
       "12932                38              44            6          0.0         0.0   \n",
       "12933                45              51           19          0.0         0.0   \n",
       "12934                19              25            0          0.0         0.0   \n",
       "\n",
       "       total_revenue      group  premium_no_trial  revenue  \n",
       "0                  0       test               0.0      0.0  \n",
       "1                  0       test               0.0      0.0  \n",
       "2                  0       test               0.0      0.0  \n",
       "3                  0       test               0.0      0.0  \n",
       "4                  0       test               0.0      0.0  \n",
       "...              ...        ...               ...      ...  \n",
       "12930              0  control_2               0.0      0.0  \n",
       "12931              0  control_2               0.0      0.0  \n",
       "12932              0  control_2               0.0      0.0  \n",
       "12933              0  control_2               0.0      0.0  \n",
       "12934              0  control_2               0.0      0.0  \n",
       "\n",
       "[12935 rows x 16 columns]"
      ]
     },
     "execution_count": 58,
     "metadata": {},
     "output_type": "execute_result"
    }
   ],
   "source": [
    "general_data = all_users.merge(transactions_uid_revenue, how='left', on='uid').fillna(0)\n",
    "general_data"
   ]
  },
  {
   "cell_type": "markdown",
   "id": "7cfe9231",
   "metadata": {},
   "source": [
    "---"
   ]
  },
  {
   "cell_type": "markdown",
   "id": "8e371719",
   "metadata": {},
   "source": [
    "Посмотрим на распределение пользователей в группах по возрасту"
   ]
  },
  {
   "cell_type": "code",
   "execution_count": 59,
   "id": "57c496ac",
   "metadata": {},
   "outputs": [
    {
     "data": {
      "text/plain": [
       "Text(0.5, 1.0, 'Распределение пользователей в группах по возрасту')"
      ]
     },
     "execution_count": 59,
     "metadata": {},
     "output_type": "execute_result"
    },
    {
     "data": {
      "image/png": "[encoded data removed]",
      "text/plain": [
       "<Figure size 1500x500 with 1 Axes>"
      ]
     },
     "metadata": {},
     "output_type": "display_data"
    }
   ],
   "source": [
    "general_data.pivot_table(index='age', columns='group', values='uid', aggfunc='nunique').plot(figsize=(15, 5))\n",
    "plt.xlabel('Возраст')\n",
    "plt.ylabel('Количество пользователей')\n",
    "plt.title('Распределение пользователей в группах по возрасту')"
   ]
  },
  {
   "cell_type": "markdown",
   "id": "745c0782",
   "metadata": {},
   "source": [
    "---"
   ]
  },
  {
   "cell_type": "markdown",
   "id": "fd045293",
   "metadata": {},
   "source": [
    "Разобьем возраст пользователей на категории (у нас пользователи от 16 до 99 лет) "
   ]
  },
  {
   "cell_type": "code",
   "execution_count": 60,
   "id": "d865ef42",
   "metadata": {},
   "outputs": [],
   "source": [
    "def age_category(row):\n",
    "    age = row['age']\n",
    "    if 16 <= age <= 25:\n",
    "        return \"юные\"\n",
    "    elif 26 <= age <= 35:\n",
    "        return \"молодые\"\n",
    "    elif 36 <= age <= 45:\n",
    "        return \"средний возраст\"\n",
    "    elif 46 <= age <= 60:\n",
    "        return \"зрелые\"\n",
    "    else:\n",
    "        return \"пожилые\" \n",
    "general_data['age_category'] = general_data.apply(age_category, axis=1)"
   ]
  },
  {
   "cell_type": "markdown",
   "id": "7f75d533",
   "metadata": {},
   "source": [
    "---"
   ]
  },
  {
   "cell_type": "markdown",
   "id": "7e977cb9",
   "metadata": {},
   "source": [
    "Посмотрим на распределение пользователей в группах по коэффициенту привлекательности"
   ]
  },
  {
   "cell_type": "code",
   "execution_count": 61,
   "id": "8584cfee",
   "metadata": {},
   "outputs": [
    {
     "data": {
      "text/plain": [
       "Text(0.5, 1.0, 'Распределение пользователей в группах по коэффициенту привлекательности')"
      ]
     },
     "execution_count": 61,
     "metadata": {},
     "output_type": "execute_result"
    },
    {
     "data": {
      "image/png": "[encoded data removed]",
      "text/plain": [
       "<Figure size 1500x500 with 1 Axes>"
      ]
     },
     "metadata": {},
     "output_type": "display_data"
    }
   ],
   "source": [
    "general_data.pivot_table(index='attraction_coeff', columns='group', values='uid', aggfunc='nunique').plot(figsize=(15, 5))\n",
    "plt.xlabel('Коэффициент привлекательности')\n",
    "plt.ylabel('Количество пользователей')\n",
    "plt.title('Распределение пользователей в группах по коэффициенту привлекательности')"
   ]
  },
  {
   "cell_type": "markdown",
   "id": "5691277c",
   "metadata": {},
   "source": [
    "---"
   ]
  },
  {
   "cell_type": "markdown",
   "id": "65e94f98",
   "metadata": {},
   "source": [
    "Посмотрим на распределение пользователей в группах по полу"
   ]
  },
  {
   "cell_type": "code",
   "execution_count": 62,
   "id": "9d6fe153",
   "metadata": {},
   "outputs": [
    {
     "data": {
      "text/plain": [
       "Text(0.5, 1.0, 'Распределение пользователей в группах по полу')"
      ]
     },
     "execution_count": 62,
     "metadata": {},
     "output_type": "execute_result"
    },
    {
     "data": {
      "image/png": "[encoded data removed]",
      "text/plain": [
       "<Figure size 640x480 with 1 Axes>"
      ]
     },
     "metadata": {},
     "output_type": "display_data"
    }
   ],
   "source": [
    "data_gender = general_data.groupby(['gender', 'group'], as_index=False).agg({'uid': 'nunique'})\n",
    "sns.barplot(x='gender',\n",
    "            y='uid',\n",
    "            hue='group',\n",
    "            data=data_gender)\n",
    "plt.xlabel('Пол')\n",
    "plt.ylabel('количество пользователей')\n",
    "plt.title('Распределение пользователей в группах по полу')"
   ]
  },
  {
   "cell_type": "markdown",
   "id": "e1545937",
   "metadata": {},
   "source": [
    "---"
   ]
  },
  {
   "cell_type": "markdown",
   "id": "3dbece11",
   "metadata": {},
   "source": [
    "Посмотрим на распределение пользователей в группах по странам"
   ]
  },
  {
   "cell_type": "code",
   "execution_count": 63,
   "id": "660541a3",
   "metadata": {},
   "outputs": [
    {
     "data": {
      "text/plain": [
       "Text(0.5, 1.0, 'Распределение пользователей в группах по странам')"
      ]
     },
     "execution_count": 63,
     "metadata": {},
     "output_type": "execute_result"
    },
    {
     "data": {
      "image/png": "[encoded data removed]",
      "text/plain": [
       "<Figure size 2000x800 with 1 Axes>"
      ]
     },
     "metadata": {},
     "output_type": "display_data"
    }
   ],
   "source": [
    "data_country = general_data.groupby(['country', 'group'], as_index=False).agg({'uid': 'nunique'})\n",
    "sns.set(rc={\"figure.figsize\": (20, 8)})\n",
    "sns.barplot(x='country',\n",
    "            y='uid',\n",
    "            hue='group',\n",
    "            data=data_country)\n",
    "plt.xticks(rotation=75)\n",
    "plt.xlabel('Страна')\n",
    "plt.ylabel('количество пользователей')\n",
    "plt.title('Распределение пользователей в группах по странам')"
   ]
  },
  {
   "cell_type": "markdown",
   "id": "f0a2d6a1",
   "metadata": {},
   "source": [
    "---"
   ]
  },
  {
   "cell_type": "markdown",
   "id": "31c0e6d6",
   "metadata": {},
   "source": [
    "**Вывод:** *распределение пользователей в разбивке по возрасту, полу, странам, в целом, сопоставимо. В распределении пользователей в группах по коэффициенту привлекательности видим бОльшее количество пользователей с коэффициентом 0 во второй контрольной группе, с коэффициентом около 1000 - больше в первой контрольной группе, что может сказаться на результатах проведения теста.*\n",
    "\n",
    "**Общий вывод:**\n",
    "1. Привели данные к нужным типам, обработали пропуски.\n",
    "2. Выяснили, что тест проводился с 11.01.2017 по 11.12.2017.\n",
    "3. Изучив данные пользователей, у которых не сошлась выручка мы предположили о том, что в таблицах с пользователями (судя по сумме) не были учтены некоторые платежи. Оставили выручку, которую посчитали в таблицах с платежами.\n",
    "4. Выручка пользователей сошлась, поэтому несмотря на наличие дубликатов не стали их удалять. \n",
    "5. Проверили, что пользователи во всех трех группах не перекликаются.\n",
    "6. Выявили, что пользователи из 25 стран есть во всех трех группах, тогда как в разных группах пользователи из более чем 40 стран. Чтобы группы были однородные, оставили только те страны, пользователи из которых есть во всех группах.\n",
    "7. Посмотрели, что в тестовой группе 273 новых пользователя, в контрольной группе 1 - 374 пользователя, в контрольной группе 2 - 328 пользователей. Данные сопоставимы.\n",
    "8. Минимальный возраст во всех группах - 16 лет, максимальный во всех группах - 99.\n",
    "9. Премиальных клиентов было в тестовой группе 405, в контрольной группе 1 - 434, в контрольной 2 - 409. Данные сопоставимы.\n",
    "10. Премиальных клиентов сейчас в тестовой группе 156, в контрольной группе 1 - 191, в контрольной 2 - 189. Данные сопоставимы.\n",
    "11. Посмотрели, что распределение платежей по типу продукта во всех группах однородно.\n",
    "12. Распределение пользователей в разбивке по возрасту, полу, странам, в целом, сопоставимо. В распределении пользователей в группах по коэффициенту привлекательности видим большее количество пользователей с коэффициентом 0 во второй контрольной группе, с коэффициентом около 1000 - больше в первой контрольной группе, что может сказаться на результатах проведения теста.\n",
    "13. Для дальнейшего анализа объединили все таблицы."
   ]
  },
  {
   "cell_type": "markdown",
   "id": "0e04f1c0",
   "metadata": {},
   "source": [
    "---"
   ]
  },
  {
   "cell_type": "markdown",
   "id": "a0be2cbe",
   "metadata": {},
   "source": [
    "## A/A test"
   ]
  },
  {
   "cell_type": "markdown",
   "id": "c8c1ba77",
   "metadata": {},
   "source": [
    "Будем исследовать данные пользователей с подпиской premium_no_trial, т.к. именно с ней произошли изменения согласно заданию.\n",
    "В качестве целевых метрик будем использовать ARPU(средний доход на всех пользователей), ARPPU(доход на одного платящего пользователя) и CR (за конверсию принимаем покупку премиум-подписки)."
   ]
  },
  {
   "cell_type": "markdown",
   "id": "adfd7e23",
   "metadata": {},
   "source": [
    "*Посмотрим на количество наблюдений в двух группах*"
   ]
  },
  {
   "cell_type": "code",
   "execution_count": 64,
   "id": "6bd0f589",
   "metadata": {},
   "outputs": [
    {
     "data": {
      "text/plain": [
       "4318"
      ]
     },
     "metadata": {},
     "output_type": "display_data"
    },
    {
     "data": {
      "text/plain": [
       "4238"
      ]
     },
     "metadata": {},
     "output_type": "display_data"
    }
   ],
   "source": [
    "display(general_data[general_data['group'] == \"control_1\"].uid.nunique(),\n",
    "        general_data[general_data['group'] == \"control_2\"].uid.nunique())"
   ]
  },
  {
   "cell_type": "markdown",
   "id": "b4b7e70b",
   "metadata": {},
   "source": [
    "*Посмотрим на распределение в 1 и 2 контрольной группе*"
   ]
  },
  {
   "cell_type": "code",
   "execution_count": 65,
   "id": "19f6e70c",
   "metadata": {},
   "outputs": [
    {
     "data": {
      "text/plain": [
       "<Axes: xlabel='revenue'>"
      ]
     },
     "execution_count": 65,
     "metadata": {},
     "output_type": "execute_result"
    },
    {
     "data": {
      "image/png": "[encoded data removed]",
      "text/plain": [
       "<Figure size 2000x800 with 1 Axes>"
      ]
     },
     "metadata": {},
     "output_type": "display_data"
    }
   ],
   "source": [
    "sns.distplot(general_data[general_data['group'] == \"control_1\"].revenue, kde=False)"
   ]
  },
  {
   "cell_type": "code",
   "execution_count": 66,
   "id": "1cb4eb1e",
   "metadata": {},
   "outputs": [
    {
     "data": {
      "text/plain": [
       "<Axes: xlabel='revenue'>"
      ]
     },
     "execution_count": 66,
     "metadata": {},
     "output_type": "execute_result"
    },
    {
     "data": {
      "image/png": "[encoded data removed]",
      "text/plain": [
       "<Figure size 2000x800 with 1 Axes>"
      ]
     },
     "metadata": {},
     "output_type": "display_data"
    }
   ],
   "source": [
    "sns.distplot(general_data[general_data['group'] == \"control_2\"].revenue, kde=False)"
   ]
  },
  {
   "cell_type": "markdown",
   "id": "0c1feb75",
   "metadata": {},
   "source": [
    "---"
   ]
  },
  {
   "cell_type": "markdown",
   "id": "0ab7e144",
   "metadata": {},
   "source": [
    "*По графикам видно, что распределения в обеих контрольных группах ненормальны за счет наличия выбросов.*"
   ]
  },
  {
   "cell_type": "code",
   "execution_count": 67,
   "id": "2c75dc1c",
   "metadata": {},
   "outputs": [
    {
     "data": {
      "text/plain": [
       "<Axes: xlabel='group', ylabel='total_revenue'>"
      ]
     },
     "execution_count": 67,
     "metadata": {},
     "output_type": "execute_result"
    },
    {
     "data": {
      "image/png": "[encoded data removed]",
      "text/plain": [
       "<Figure size 2000x800 with 1 Axes>"
      ]
     },
     "metadata": {},
     "output_type": "display_data"
    }
   ],
   "source": [
    "# Boxplot\n",
    "sns.boxplot(x=\"group\", y=\"total_revenue\", data=general_data)"
   ]
  },
  {
   "cell_type": "markdown",
   "id": "070ac947",
   "metadata": {},
   "source": [
    "*Видно наличие выбросов во всех группах. Однако, удалять их не будем в связи с возможной их большой значимостью.*"
   ]
  },
  {
   "cell_type": "markdown",
   "id": "07686988",
   "metadata": {},
   "source": [
    "---"
   ]
  },
  {
   "cell_type": "markdown",
   "id": "d3afe23f",
   "metadata": {},
   "source": [
    "*Проверим гомогенность дисперсий при помощи критерия Левена.*\n",
    "\n",
    "**Нулевая гипотеза** - дисперсии двух групп не отличаются.\n",
    "\n",
    "**Альтернативная гипотеза** - дисперсии двух групп статистически значимо отличаются."
   ]
  },
  {
   "cell_type": "code",
   "execution_count": 68,
   "id": "b6fa2cbe",
   "metadata": {},
   "outputs": [
    {
     "data": {
      "text/plain": [
       "LeveneResult(statistic=1.8231884520795034, pvalue=0.1769695950167344)"
      ]
     },
     "execution_count": 68,
     "metadata": {},
     "output_type": "execute_result"
    }
   ],
   "source": [
    "ss.levene(general_data[general_data['group'] == \"control_1\"].revenue, \n",
    "          general_data[general_data['group'] == \"control_2\"].revenue) "
   ]
  },
  {
   "cell_type": "markdown",
   "id": "77a8eb29",
   "metadata": {},
   "source": [
    "При проверке гомогенности дисперсий при помощи критерия Левена pvalue > 0.05, что говорит о том, что мы не можем отклонить нулевую гипотезу, т.е. дисперсии двух групп не отличаются."
   ]
  },
  {
   "cell_type": "markdown",
   "id": "af9fb46e",
   "metadata": {},
   "source": [
    "Таким образом, при проведении A/А теста будем использовать Т-критерий Стьюдента, т.к. мы подтвердили требование гомогенности дисперсий и у нас большое число наблюдений (несмотря на то, что распределения ненормальны). Оценивать систему сплитования будем при помощи FPR."
   ]
  },
  {
   "cell_type": "code",
   "execution_count": 69,
   "id": "b35ace78",
   "metadata": {},
   "outputs": [
    {
     "data": {
      "application/vnd.jupyter.widget-view+json": {
       "model_id": "4ce0bd8137154344856f6a11323fc1d0",
       "version_major": 2,
       "version_minor": 0
      },
      "text/plain": [
       "  0%|          | 0/1000 [00:00<?, ?it/s]"
      ]
     },
     "metadata": {},
     "output_type": "display_data"
    },
    {
     "data": {
      "image/png": "[encoded data removed]",
      "text/plain": [
       "<Figure size 2000x800 with 1 Axes>"
      ]
     },
     "metadata": {},
     "output_type": "display_data"
    },
    {
     "data": {
      "text/plain": [
       "0.034"
      ]
     },
     "execution_count": 69,
     "metadata": {},
     "output_type": "execute_result"
    }
   ],
   "source": [
    "n = 100000\n",
    "simulations = 1000\n",
    "n_s = 1000\n",
    "res = []\n",
    "\n",
    "# Запуск симуляций A/A теста\n",
    "for i in tqdm(range(simulations)):\n",
    "    s1 = general_data[general_data['group'] == \"control_1\"].sample(n_s, replace=False).revenue.values\n",
    "    s2 = general_data[general_data['group'] == \"control_2\"].sample(n_s, replace=False).revenue.values\n",
    "    res.append(stats.ttest_ind(s1, s2, equal_var=False)[1])  # сохраняем pvalue\n",
    "\n",
    "plt.hist(res, bins=50)\n",
    "plt.style.use('ggplot')\n",
    "plt.xlabel('pvalues')\n",
    "plt.ylabel('frequency')\n",
    "plt.title(\"Histogram of ttest A/A simulations \")\n",
    "plt.show()\n",
    "\n",
    "# Проверяем, превышает ли количество ложноположительных случаев альфа\n",
    "sum(np.array(res) < 0.05) / simulations"
   ]
  },
  {
   "cell_type": "markdown",
   "id": "1293114d",
   "metadata": {},
   "source": [
    "*FPR не превышает заданный уровень альфа(0,05). Система сплитования работает корректно.*"
   ]
  },
  {
   "cell_type": "markdown",
   "id": "f265b737",
   "metadata": {},
   "source": [
    "---"
   ]
  },
  {
   "cell_type": "markdown",
   "id": "608f0751",
   "metadata": {},
   "source": [
    "### ARPPU по подписке premium_no_trial"
   ]
  },
  {
   "cell_type": "code",
   "execution_count": 70,
   "id": "c50ba996",
   "metadata": {},
   "outputs": [],
   "source": [
    "data_arppu = general_data.query(\"(total_revenue>0) & (premium_no_trial==1)\")"
   ]
  },
  {
   "cell_type": "code",
   "execution_count": 71,
   "id": "dbaeb8d7",
   "metadata": {},
   "outputs": [
    {
     "data": {
      "application/vnd.jupyter.widget-view+json": {
       "model_id": "36798bf49dd84b85bb5f8e7b70b96373",
       "version_major": 2,
       "version_minor": 0
      },
      "text/plain": [
       "  0%|          | 0/1000 [00:00<?, ?it/s]"
      ]
     },
     "metadata": {},
     "output_type": "display_data"
    },
    {
     "data": {
      "image/png": "[encoded data removed]",
      "text/plain": [
       "<Figure size 2000x800 with 1 Axes>"
      ]
     },
     "metadata": {},
     "output_type": "display_data"
    },
    {
     "data": {
      "text/plain": [
       "0.002"
      ]
     },
     "execution_count": 71,
     "metadata": {},
     "output_type": "execute_result"
    }
   ],
   "source": [
    "n = 100000\n",
    "simulations = 1000\n",
    "n_s = 50\n",
    "res = []\n",
    "\n",
    "# Запуск симуляций A/A теста\n",
    "for i in tqdm(range(simulations)):\n",
    "    s1 = data_arppu[data_arppu['group'] == \"control_1\"].sample(n_s, replace=False).revenue.values\n",
    "    s2 = data_arppu[data_arppu['group'] == \"control_2\"].sample(n_s, replace=False).revenue.values\n",
    "    res.append(stats.ttest_ind(s1, s2, equal_var=False)[1])  # сохраняем pvalue\n",
    "\n",
    "plt.hist(res, bins=50)\n",
    "plt.style.use('ggplot')\n",
    "plt.xlabel('pvalues')\n",
    "plt.ylabel('frequency')\n",
    "plt.title(\"Histogram of ttest A/A simulations \")\n",
    "plt.show()\n",
    "\n",
    "# Проверяем, превышает ли количество ложноположительных случаев альфа\n",
    "sum(np.array(res) < 0.05) / simulations"
   ]
  },
  {
   "cell_type": "markdown",
   "id": "13961431",
   "metadata": {},
   "source": [
    "*FPR не превышает заданный уровень альфа(0,05). Система сплитования работает корректно.*"
   ]
  },
  {
   "cell_type": "markdown",
   "id": "9695fc4d",
   "metadata": {},
   "source": [
    "---"
   ]
  },
  {
   "cell_type": "markdown",
   "id": "f2995138",
   "metadata": {},
   "source": [
    "### CR"
   ]
  },
  {
   "cell_type": "markdown",
   "id": "a0c2fc76",
   "metadata": {},
   "source": [
    "*В связи с тем, что конверсия - категориальная переменаая, воспользуемся критерием Хи-квадрат.*\n",
    "\n",
    "**Нулевая гипотеза** - две иконтрольные группы статистически значимо не отличаются по CR.\n",
    "\n",
    "**Альтернативная гипотеза** - две контрольные группы статистически значимо отличаются по CR."
   ]
  },
  {
   "cell_type": "code",
   "execution_count": 72,
   "id": "ee7272ff",
   "metadata": {},
   "outputs": [
    {
     "data": {
      "application/vnd.jupyter.widget-view+json": {
       "model_id": "3d95717cf90044eb82757711c274849d",
       "version_major": 2,
       "version_minor": 0
      },
      "text/plain": [
       "  0%|          | 0/1000 [00:00<?, ?it/s]"
      ]
     },
     "metadata": {},
     "output_type": "display_data"
    },
    {
     "data": {
      "image/png": "[encoded data removed]",
      "text/plain": [
       "<Figure size 2000x800 with 1 Axes>"
      ]
     },
     "metadata": {},
     "output_type": "display_data"
    },
    {
     "data": {
      "text/plain": [
       "0.033"
      ]
     },
     "execution_count": 72,
     "metadata": {},
     "output_type": "execute_result"
    }
   ],
   "source": [
    "n = 100000\n",
    "simulations = 1000\n",
    "n_s = 1000\n",
    "res = []\n",
    "\n",
    "# Запуск симуляций A/A теста\n",
    "for i in tqdm(range(simulations)):\n",
    "    s1 = general_data[general_data['group'] == \"control_1\"].premium_no_trial.sample(n_s, replace=False).values\n",
    "    s2 = general_data[general_data['group'] == \"control_2\"].premium_no_trial.sample(n_s, replace=False).values\n",
    "    ab = np.array([[s1.sum(), s1.shape[0] - s1.sum()], [s2.sum(), s2.shape[0] - s2.sum()]]) \n",
    "    res.append(stats.chi2_contingency(ab, correction=False)[1])  # сохраняем pvalue\n",
    "\n",
    "plt.hist(res, bins=50)\n",
    "plt.style.use('ggplot')\n",
    "plt.xlabel('pvalues')\n",
    "plt.ylabel('frequency')\n",
    "plt.title(\"Histogram of ttest A/A simulations \")\n",
    "plt.show()\n",
    "\n",
    "# Проверяем, превышает ли количество ложноположительных случаев альфа\n",
    "sum(np.array(res) < 0.05) / simulations"
   ]
  },
  {
   "cell_type": "markdown",
   "id": "f9327779",
   "metadata": {},
   "source": [
    "*FPR не превышает заданный уровень альфа(0,05). Сплит-система работает корректно.*"
   ]
  },
  {
   "cell_type": "markdown",
   "id": "c31ae1b0",
   "metadata": {},
   "source": [
    "### Вывод по А/А тесту\n",
    "\n",
    "*В качестве целевых метрик использовали **ARPU**, **ARPPU** и **CR** (за конверсию принимаем покупку премиум-подписки).*\n",
    "\n",
    "*В обеих контрольных группах и в тестовой группе имеются выбросы.При помощи критерия Левена подтвердили, что дисперсии гомогенны.Для оценки **ARPU** и **ARPPU** выбрали **t-тест**.*\n",
    "\n",
    "*Для оценки **СR** (категориальная переменная) выбрали **Хи-квадрат**.*\n",
    "\n",
    "*Оценивали **систему сплитования** при помощи **FPR**.*\n",
    "\n",
    "*Убедились, что **система сплитования** работает корректно.*"
   ]
  },
  {
   "cell_type": "markdown",
   "id": "054138fb",
   "metadata": {},
   "source": [
    "---"
   ]
  },
  {
   "cell_type": "markdown",
   "id": "422da24d",
   "metadata": {},
   "source": [
    "## A/B тест"
   ]
  },
  {
   "cell_type": "markdown",
   "id": "fd1cab73",
   "metadata": {},
   "source": [
    "*Посмотрим на распределение в тестовой группе*"
   ]
  },
  {
   "cell_type": "code",
   "execution_count": 73,
   "id": "8ea2351e",
   "metadata": {},
   "outputs": [
    {
     "data": {
      "text/plain": [
       "<Axes: xlabel='total_revenue'>"
      ]
     },
     "execution_count": 73,
     "metadata": {},
     "output_type": "execute_result"
    },
    {
     "data": {
      "image/png": "[encoded data removed]",
      "text/plain": [
       "<Figure size 2000x800 with 1 Axes>"
      ]
     },
     "metadata": {},
     "output_type": "display_data"
    }
   ],
   "source": [
    "sns.distplot(general_data[general_data['group'] == \"test\"].total_revenue, kde=False)"
   ]
  },
  {
   "cell_type": "code",
   "execution_count": 74,
   "id": "630965ce",
   "metadata": {},
   "outputs": [],
   "source": [
    "# Функции для подсчета ARPU, ARPPU и CR\n",
    "def group_arpu(df):\n",
    "    arpu_control = df[df.group != 'test'].revenue.sum() / df[df.group != 'test'].uid.nunique()\n",
    "    arpu_test = df[df.group == 'test'].revenue.sum() / df[df.group == 'test'].uid.nunique()\n",
    "    display(\"ARPU для контрольных групп:\", arpu_control)\n",
    "    display(\"ARPU для тестовой группы:\", arpu_test)\n",
    "    \n",
    "def group_arppu(df):\n",
    "    df_arppu = df.query(\"(total_revenue>0) & (premium_no_trial==1)\")\n",
    "    arppu_control = df_arppu[df_arppu.group != 'test'].revenue.sum() / (\n",
    "        df_arppu[df_arppu.group != 'test'].uid.nunique())\n",
    "    arppu_test = df_arppu[df_arppu.group == 'test'].revenue.sum() / (df_arppu[df_arppu.group == 'test'].uid.nunique())\n",
    "    display(\"ARPPU для контрольных групп:\", arppu_control)\n",
    "    display(\"ARPPU для тестовой группы:\", arppu_test)\n",
    "    \n",
    "def group_cr(df):\n",
    "    cr_control = df[(df.group != 'test') & (df.premium_no_trial == 1)].uid.nunique() / (\n",
    "        df[df.group != 'test'].uid.nunique())\n",
    "    cr_test = df[(df.group == 'test') & (df.premium_no_trial == 1)].uid.nunique() / df[df.group == 'test'].uid.nunique()\n",
    "    display(\"CR для контрольных групп:\", cr_control)\n",
    "    display(\"CR для тестовой группы:\", cr_test)"
   ]
  },
  {
   "cell_type": "markdown",
   "id": "e3b4e8dc",
   "metadata": {},
   "source": [
    "---"
   ]
  },
  {
   "cell_type": "markdown",
   "id": "6d8ff7c2",
   "metadata": {},
   "source": [
    "### ARPU"
   ]
  },
  {
   "cell_type": "code",
   "execution_count": 75,
   "id": "579ac6f2",
   "metadata": {},
   "outputs": [
    {
     "data": {
      "text/plain": [
       "'ARPU для контрольных групп:'"
      ]
     },
     "metadata": {},
     "output_type": "display_data"
    },
    {
     "data": {
      "text/plain": [
       "526.7658952781674"
      ]
     },
     "metadata": {},
     "output_type": "display_data"
    },
    {
     "data": {
      "text/plain": [
       "'ARPU для тестовой группы:'"
      ]
     },
     "metadata": {},
     "output_type": "display_data"
    },
    {
     "data": {
      "text/plain": [
       "546.6635448372747"
      ]
     },
     "metadata": {},
     "output_type": "display_data"
    }
   ],
   "source": [
    "group_arpu(general_data)"
   ]
  },
  {
   "cell_type": "markdown",
   "id": "9a5d6acc",
   "metadata": {},
   "source": [
    "***ARPU** несколько **увеличился в тестовой группе**, посмотрим, насколько это статистически значимо.*\n",
    "\n",
    "**Нулевая гипотеза** - тестовая и контрольные группы статистически значимо не отличаются по ARPU.\n",
    "\n",
    "**Альтернативная гипотеза** - тестовая и контрольные группы статистически значимо отличаются по ARPU."
   ]
  },
  {
   "cell_type": "code",
   "execution_count": 76,
   "id": "35160fef",
   "metadata": {},
   "outputs": [
    {
     "data": {
      "text/plain": [
       "Ttest_indResult(statistic=-0.23465337599060304, pvalue=0.814481492619434)"
      ]
     },
     "execution_count": 76,
     "metadata": {},
     "output_type": "execute_result"
    }
   ],
   "source": [
    "# Проведем Т-тест\n",
    "ttest_ind(general_data[general_data.group != 'test'].revenue, general_data[general_data.group == 'test'].revenue)"
   ]
  },
  {
   "cell_type": "markdown",
   "id": "6dff4ace",
   "metadata": {},
   "source": [
    "***pvalue > 0.05**, следовательно, мы **не можем отклонить нулевую гипотезу**, т.е. тестовая и контрольные группы статистически значимо не отличаются по ARPU.*"
   ]
  },
  {
   "cell_type": "markdown",
   "id": "1a9221a8",
   "metadata": {},
   "source": [
    "---"
   ]
  },
  {
   "cell_type": "markdown",
   "id": "cb0427e1",
   "metadata": {},
   "source": [
    "### ARPPU"
   ]
  },
  {
   "cell_type": "code",
   "execution_count": 77,
   "id": "0353fb4e",
   "metadata": {},
   "outputs": [
    {
     "data": {
      "text/plain": [
       "'ARPPU для контрольных групп:'"
      ]
     },
     "metadata": {},
     "output_type": "display_data"
    },
    {
     "data": {
      "text/plain": [
       "7600.06"
      ]
     },
     "metadata": {},
     "output_type": "display_data"
    },
    {
     "data": {
      "text/plain": [
       "'ARPPU для тестовой группы:'"
      ]
     },
     "metadata": {},
     "output_type": "display_data"
    },
    {
     "data": {
      "text/plain": [
       "12187.10606060606"
      ]
     },
     "metadata": {},
     "output_type": "display_data"
    }
   ],
   "source": [
    "group_arppu(general_data)"
   ]
  },
  {
   "cell_type": "markdown",
   "id": "17256c1b",
   "metadata": {},
   "source": [
    "*Мы видим, что **ARPPU** увеличился в тестовой группе, посмотрим, насколько это статистически значимо.*\n",
    "\n",
    "**Нулевая гипотеза** - тестовая и контрольные группы статистически значимо не отличаются по ARPPU.\n",
    "\n",
    "**Альтернативная гипотеза** - тестовая и контрольные группы статистически значимо отличаются по ARPPU."
   ]
  },
  {
   "cell_type": "code",
   "execution_count": 78,
   "id": "0f627e58",
   "metadata": {},
   "outputs": [
    {
     "data": {
      "text/plain": [
       "Ttest_indResult(statistic=-2.532507206884283, pvalue=0.011905017482852612)"
      ]
     },
     "execution_count": 78,
     "metadata": {},
     "output_type": "execute_result"
    }
   ],
   "source": [
    "# Проведем Т-тест\n",
    "ttest_ind(data_arppu[data_arppu.group != 'test'].revenue, data_arppu[data_arppu.group == 'test'].revenue)"
   ]
  },
  {
   "cell_type": "markdown",
   "id": "a68876b2",
   "metadata": {},
   "source": [
    "***pvalue < 0.05**, следовательно, мы можем отклонить нулевую гипотезу, т.е. тестовая и контрольные группы статистически значимо отличаются по ARPPU.*"
   ]
  },
  {
   "cell_type": "markdown",
   "id": "36f8eb4e",
   "metadata": {},
   "source": [
    "---"
   ]
  },
  {
   "cell_type": "markdown",
   "id": "b6f5ba3d",
   "metadata": {},
   "source": [
    "### CR"
   ]
  },
  {
   "cell_type": "code",
   "execution_count": 79,
   "id": "bb7c4d6b",
   "metadata": {},
   "outputs": [
    {
     "data": {
      "text/plain": [
       "'CR для контрольных групп:'"
      ]
     },
     "metadata": {},
     "output_type": "display_data"
    },
    {
     "data": {
      "text/plain": [
       "0.02337540906965872"
      ]
     },
     "metadata": {},
     "output_type": "display_data"
    },
    {
     "data": {
      "text/plain": [
       "'CR для тестовой группы:'"
      ]
     },
     "metadata": {},
     "output_type": "display_data"
    },
    {
     "data": {
      "text/plain": [
       "0.015453055490517443"
      ]
     },
     "metadata": {},
     "output_type": "display_data"
    }
   ],
   "source": [
    "group_cr(general_data)"
   ]
  },
  {
   "cell_type": "markdown",
   "id": "11857ba9",
   "metadata": {},
   "source": [
    "***Конверсия** в подписку premium_no_trial **уменьшилась в тестовой группе**. Посмотрим, насколько это статистически значимо.*\n",
    "\n",
    "*Для оценки конверсии воспользуемся критерием **Хи-квадрат**.*\n",
    "\n",
    "**Нулевая гипотеза** - тестовая и контрольные группы статистически значимо не отличаются по CR.\n",
    "\n",
    "**Альтернативная гипотеза** - тестовая и контрольные группы статистически значимо отличаются по CR."
   ]
  },
  {
   "cell_type": "code",
   "execution_count": 80,
   "id": "f15e0d77",
   "metadata": {},
   "outputs": [
    {
     "data": {
      "text/plain": [
       "0.003289519509343992"
      ]
     },
     "execution_count": 80,
     "metadata": {},
     "output_type": "execute_result"
    }
   ],
   "source": [
    "a = general_data[general_data['group'] != 'test'].premium_no_trial\n",
    "b = general_data[general_data['group'] == 'test'].premium_no_trial\n",
    "ab = np.array([[a.sum(), a.shape[0] - a.sum()], [b.sum(), b.shape[0] - b.sum()]]) \n",
    "stats.chi2_contingency(ab, correction=False)[1]"
   ]
  },
  {
   "cell_type": "markdown",
   "id": "f3c81b43",
   "metadata": {},
   "source": [
    "***pvalue < 0.05**, следовательно, мы можем отклонить нулевую гипотезу, т.е. тестовая и контрольные группы статистически значимо отличаются по CR.*"
   ]
  },
  {
   "cell_type": "markdown",
   "id": "b2128f1d",
   "metadata": {},
   "source": [
    "### Вывод по A/B тесту: \n",
    "1. Распределение выручки в тестовой группе, как и в обеих контрольных группах, ненормально за счет наличия выбросов.\n",
    "2. Оценивали так же ARPU и ARPPU при помощи t-теста и СR при помощи Хи-квадрата.\n",
    "3. Выяснили, что тестовая и контрольные группы статистически значимо не отличаются по ARPU, при этом имеется ститастически значимая разница групп по ARPPU (ARPPU увеличился) и по CR(конверсия снизилась). Можем предположить, что подписка подорожала, т.к. произошло снижение конверсии, компенсируемое выручкой.\n",
    "4. Считаю, что для всей аудитории приложения эксперимент по изменению стоимости подписки Premium_no_trial оказался неуспешным."
   ]
  },
  {
   "cell_type": "markdown",
   "id": "8e74badb",
   "metadata": {},
   "source": [
    "---"
   ]
  },
  {
   "cell_type": "markdown",
   "id": "0d70418d",
   "metadata": {},
   "source": [
    "***Coming soon***"
   ]
  }
 ],
 "metadata": {
  "kernelspec": {
   "display_name": "Python 3 (ipykernel)",
   "language": "python",
   "name": "python3"
  },
  "language_info": {
   "codemirror_mode": {
    "name": "ipython",
    "version": 3
   },
   "file_extension": ".py",
   "mimetype": "text/x-python",
   "name": "python",
   "nbconvert_exporter": "python",
   "pygments_lexer": "ipython3",
   "version": "3.11.3"
  }
 },
 "nbformat": 4,
 "nbformat_minor": 5
}
