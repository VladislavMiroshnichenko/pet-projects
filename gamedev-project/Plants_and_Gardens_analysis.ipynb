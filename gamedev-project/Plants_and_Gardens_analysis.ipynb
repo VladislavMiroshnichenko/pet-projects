{
 "cells": [
  {
   "cell_type": "code",
   "execution_count": 1,
   "metadata": {},
   "outputs": [],
   "source": [
    "import pandas as pd\n",
    "import seaborn as sns\n",
    "import matplotlib.pyplot as plt\n",
    "import json\n",
    "import requests\n",
    "import pingouin as pg \n",
    "import scipy.stats as stats\n",
    "import numpy as np\n",
    "\n",
    "from datetime import datetime\n",
    "from urllib.parse import urlencode\n",
    "from tqdm.auto import tqdm\n",
    "\n",
    "%matplotlib inline"
   ]
  },
  {
   "cell_type": "markdown",
   "metadata": {},
   "source": [
    "---\n",
    "## Задание 1. Retantion.\n",
    "\n",
    "Retention rate (Коэффициент удержания) — один из самых важных показателей в компании.\n",
    "\n",
    "---\n",
    "\n",
    "### Задача:\n",
    "\n",
    "Написать функцию, которая будет считать retention игроков (по дням от даты регистрации игрока). \n",
    "\n",
    "---"
   ]
  },
  {
   "cell_type": "code",
   "execution_count": 2,
   "metadata": {},
   "outputs": [
    {
     "name": "stderr",
     "output_type": "stream",
     "text": [
      "/opt/tljh/user/lib/python3.7/site-packages/outdated/utils.py:18: OutdatedCacheFailedWarning: Failed to use cache while checking for outdated package.\n",
      "Set the environment variable OUTDATED_RAISE_EXCEPTION=1 for a full traceback.\n",
      "Set the environment variable OUTDATED_IGNORE=1 to disable these warnings.\n",
      "  **kwargs\n",
      "/opt/tljh/user/lib/python3.7/site-packages/outdated/utils.py:18: OutdatedPackageWarning: The package pingouin is out of date. Your version is 0.4.0, the latest is 0.5.3.\n",
      "Set the environment variable OUTDATED_IGNORE=1 to disable these warnings.\n",
      "  **kwargs\n",
      "/opt/tljh/user/lib/python3.7/site-packages/outdated/utils.py:18: OutdatedPackageWarning: The package outdated is out of date. Your version is 0.2.1, the latest is 0.2.2.\n",
      "Set the environment variable OUTDATED_IGNORE=1 to disable these warnings.\n",
      "  **kwargs\n"
     ]
    }
   ],
   "source": [
    "# Загрузка данных\n",
    "df_reg = pd.read_csv('~/shared/problem1-reg_data.csv', sep=';')\n",
    "df_auth = pd.read_csv('~/shared/problem1-auth_data.csv', sep=';')"
   ]
  },
  {
   "cell_type": "code",
   "execution_count": 3,
   "metadata": {},
   "outputs": [
    {
     "name": "stdout",
     "output_type": "stream",
     "text": [
      "<class 'pandas.core.frame.DataFrame'>\n",
      "RangeIndex: 1000000 entries, 0 to 999999\n",
      "Data columns (total 2 columns):\n",
      " #   Column  Non-Null Count    Dtype\n",
      "---  ------  --------------    -----\n",
      " 0   reg_ts  1000000 non-null  int64\n",
      " 1   uid     1000000 non-null  int64\n",
      "dtypes: int64(2)\n",
      "memory usage: 15.3 MB\n"
     ]
    }
   ],
   "source": [
    "# Проверяем инфо\n",
    "df_reg.info()"
   ]
  },
  {
   "cell_type": "code",
   "execution_count": 4,
   "metadata": {},
   "outputs": [
    {
     "name": "stdout",
     "output_type": "stream",
     "text": [
      "<class 'pandas.core.frame.DataFrame'>\n",
      "RangeIndex: 9601013 entries, 0 to 9601012\n",
      "Data columns (total 2 columns):\n",
      " #   Column   Dtype\n",
      "---  ------   -----\n",
      " 0   auth_ts  int64\n",
      " 1   uid      int64\n",
      "dtypes: int64(2)\n",
      "memory usage: 146.5 MB\n"
     ]
    }
   ],
   "source": [
    "df_auth.info()"
   ]
  },
  {
   "cell_type": "code",
   "execution_count": 5,
   "metadata": {},
   "outputs": [
    {
     "data": {
      "text/plain": [
       "auth_ts    0\n",
       "uid        0\n",
       "dtype: int64"
      ]
     },
     "execution_count": 5,
     "metadata": {},
     "output_type": "execute_result"
    }
   ],
   "source": [
    "df_auth.isna().sum()"
   ]
  },
  {
   "cell_type": "code",
   "execution_count": 6,
   "metadata": {},
   "outputs": [
    {
     "data": {
      "text/plain": [
       "reg_ts    0\n",
       "uid       0\n",
       "dtype: int64"
      ]
     },
     "execution_count": 6,
     "metadata": {},
     "output_type": "execute_result"
    }
   ],
   "source": [
    "df_reg.isna().sum()"
   ]
  },
  {
   "cell_type": "code",
   "execution_count": 7,
   "metadata": {},
   "outputs": [
    {
     "data": {
      "text/plain": [
       "1000000"
      ]
     },
     "execution_count": 7,
     "metadata": {},
     "output_type": "execute_result"
    }
   ],
   "source": [
    "# Сколько имеется уникальных регистраций.\n",
    "df_reg.uid.nunique()"
   ]
  },
  {
   "cell_type": "markdown",
   "metadata": {},
   "source": [
    "Мы проверили данные. Данные оказались чистыми. \n",
    "Однако, колонки с датами в формате timestamp. Переведём их в формат _datetime64_"
   ]
  },
  {
   "cell_type": "code",
   "execution_count": 8,
   "metadata": {},
   "outputs": [],
   "source": [
    "df_reg['reg_ts'] = pd.to_datetime(df_reg['reg_ts'], unit='s')\n",
    "df_auth['auth_ts'] = pd.to_datetime(df_auth['auth_ts'], unit='s')"
   ]
  },
  {
   "cell_type": "markdown",
   "metadata": {},
   "source": [
    "---"
   ]
  },
  {
   "cell_type": "code",
   "execution_count": 9,
   "metadata": {},
   "outputs": [],
   "source": [
    "# Соединяем два датафрейма в один.\n",
    "df_merge = df_reg.merge(df_auth, how='left', on='uid')"
   ]
  },
  {
   "cell_type": "code",
   "execution_count": 10,
   "metadata": {},
   "outputs": [
    {
     "data": {
      "text/html": [
       "<div>\n",
       "<style scoped>\n",
       "    .dataframe tbody tr th:only-of-type {\n",
       "        vertical-align: middle;\n",
       "    }\n",
       "\n",
       "    .dataframe tbody tr th {\n",
       "        vertical-align: top;\n",
       "    }\n",
       "\n",
       "    .dataframe thead th {\n",
       "        text-align: right;\n",
       "    }\n",
       "</style>\n",
       "<table border=\"1\" class=\"dataframe\">\n",
       "  <thead>\n",
       "    <tr style=\"text-align: right;\">\n",
       "      <th></th>\n",
       "      <th>reg_ts</th>\n",
       "      <th>uid</th>\n",
       "      <th>auth_ts</th>\n",
       "    </tr>\n",
       "  </thead>\n",
       "  <tbody>\n",
       "    <tr>\n",
       "      <th>0</th>\n",
       "      <td>1998-11-18 09:43:43</td>\n",
       "      <td>1</td>\n",
       "      <td>1998-11-18 09:43:43</td>\n",
       "    </tr>\n",
       "    <tr>\n",
       "      <th>1</th>\n",
       "      <td>1999-07-22 22:38:09</td>\n",
       "      <td>2</td>\n",
       "      <td>1999-07-22 22:38:09</td>\n",
       "    </tr>\n",
       "    <tr>\n",
       "      <th>2</th>\n",
       "      <td>1999-07-22 22:38:09</td>\n",
       "      <td>2</td>\n",
       "      <td>1999-07-25 16:46:46</td>\n",
       "    </tr>\n",
       "    <tr>\n",
       "      <th>3</th>\n",
       "      <td>1999-07-22 22:38:09</td>\n",
       "      <td>2</td>\n",
       "      <td>1999-07-31 03:50:15</td>\n",
       "    </tr>\n",
       "    <tr>\n",
       "      <th>4</th>\n",
       "      <td>1999-07-22 22:38:09</td>\n",
       "      <td>2</td>\n",
       "      <td>1999-08-05 17:49:39</td>\n",
       "    </tr>\n",
       "  </tbody>\n",
       "</table>\n",
       "</div>"
      ],
      "text/plain": [
       "               reg_ts  uid             auth_ts\n",
       "0 1998-11-18 09:43:43    1 1998-11-18 09:43:43\n",
       "1 1999-07-22 22:38:09    2 1999-07-22 22:38:09\n",
       "2 1999-07-22 22:38:09    2 1999-07-25 16:46:46\n",
       "3 1999-07-22 22:38:09    2 1999-07-31 03:50:15\n",
       "4 1999-07-22 22:38:09    2 1999-08-05 17:49:39"
      ]
     },
     "execution_count": 10,
     "metadata": {},
     "output_type": "execute_result"
    }
   ],
   "source": [
    "df_merge.head()"
   ]
  },
  {
   "cell_type": "code",
   "execution_count": 11,
   "metadata": {},
   "outputs": [
    {
     "data": {
      "text/plain": [
       "reg_ts     datetime64[ns]\n",
       "uid                 int64\n",
       "auth_ts    datetime64[ns]\n",
       "dtype: object"
      ]
     },
     "execution_count": 11,
     "metadata": {},
     "output_type": "execute_result"
    }
   ],
   "source": [
    "# Проверим тип данных в датафрейме\n",
    "df_merge.dtypes"
   ]
  },
  {
   "cell_type": "code",
   "execution_count": 12,
   "metadata": {},
   "outputs": [
    {
     "data": {
      "text/html": [
       "<div>\n",
       "<style scoped>\n",
       "    .dataframe tbody tr th:only-of-type {\n",
       "        vertical-align: middle;\n",
       "    }\n",
       "\n",
       "    .dataframe tbody tr th {\n",
       "        vertical-align: top;\n",
       "    }\n",
       "\n",
       "    .dataframe thead th {\n",
       "        text-align: right;\n",
       "    }\n",
       "</style>\n",
       "<table border=\"1\" class=\"dataframe\">\n",
       "  <thead>\n",
       "    <tr style=\"text-align: right;\">\n",
       "      <th></th>\n",
       "      <th>reg_ts</th>\n",
       "      <th>uid</th>\n",
       "      <th>auth_ts</th>\n",
       "    </tr>\n",
       "  </thead>\n",
       "  <tbody>\n",
       "    <tr>\n",
       "      <th>0</th>\n",
       "      <td>1998-11-18 09:43:43</td>\n",
       "      <td>1</td>\n",
       "      <td>1998-11-18 09:43:43</td>\n",
       "    </tr>\n",
       "    <tr>\n",
       "      <th>1</th>\n",
       "      <td>1999-07-22 22:38:09</td>\n",
       "      <td>2</td>\n",
       "      <td>1999-07-22 22:38:09</td>\n",
       "    </tr>\n",
       "    <tr>\n",
       "      <th>2</th>\n",
       "      <td>1999-07-22 22:38:09</td>\n",
       "      <td>2</td>\n",
       "      <td>1999-07-25 16:46:46</td>\n",
       "    </tr>\n",
       "    <tr>\n",
       "      <th>3</th>\n",
       "      <td>1999-07-22 22:38:09</td>\n",
       "      <td>2</td>\n",
       "      <td>1999-07-31 03:50:15</td>\n",
       "    </tr>\n",
       "    <tr>\n",
       "      <th>4</th>\n",
       "      <td>1999-07-22 22:38:09</td>\n",
       "      <td>2</td>\n",
       "      <td>1999-08-05 17:49:39</td>\n",
       "    </tr>\n",
       "    <tr>\n",
       "      <th>...</th>\n",
       "      <td>...</td>\n",
       "      <td>...</td>\n",
       "      <td>...</td>\n",
       "    </tr>\n",
       "    <tr>\n",
       "      <th>9601008</th>\n",
       "      <td>2020-09-23 15:13:54</td>\n",
       "      <td>1110618</td>\n",
       "      <td>2020-09-23 15:13:54</td>\n",
       "    </tr>\n",
       "    <tr>\n",
       "      <th>9601009</th>\n",
       "      <td>2020-09-23 15:14:46</td>\n",
       "      <td>1110619</td>\n",
       "      <td>2020-09-23 15:14:46</td>\n",
       "    </tr>\n",
       "    <tr>\n",
       "      <th>9601010</th>\n",
       "      <td>2020-09-23 15:15:39</td>\n",
       "      <td>1110620</td>\n",
       "      <td>2020-09-23 15:15:39</td>\n",
       "    </tr>\n",
       "    <tr>\n",
       "      <th>9601011</th>\n",
       "      <td>2020-09-23 15:16:31</td>\n",
       "      <td>1110621</td>\n",
       "      <td>2020-09-23 15:16:31</td>\n",
       "    </tr>\n",
       "    <tr>\n",
       "      <th>9601012</th>\n",
       "      <td>2020-09-23 15:17:24</td>\n",
       "      <td>1110622</td>\n",
       "      <td>2020-09-23 15:17:24</td>\n",
       "    </tr>\n",
       "  </tbody>\n",
       "</table>\n",
       "<p>9601013 rows × 3 columns</p>\n",
       "</div>"
      ],
      "text/plain": [
       "                     reg_ts      uid             auth_ts\n",
       "0       1998-11-18 09:43:43        1 1998-11-18 09:43:43\n",
       "1       1999-07-22 22:38:09        2 1999-07-22 22:38:09\n",
       "2       1999-07-22 22:38:09        2 1999-07-25 16:46:46\n",
       "3       1999-07-22 22:38:09        2 1999-07-31 03:50:15\n",
       "4       1999-07-22 22:38:09        2 1999-08-05 17:49:39\n",
       "...                     ...      ...                 ...\n",
       "9601008 2020-09-23 15:13:54  1110618 2020-09-23 15:13:54\n",
       "9601009 2020-09-23 15:14:46  1110619 2020-09-23 15:14:46\n",
       "9601010 2020-09-23 15:15:39  1110620 2020-09-23 15:15:39\n",
       "9601011 2020-09-23 15:16:31  1110621 2020-09-23 15:16:31\n",
       "9601012 2020-09-23 15:17:24  1110622 2020-09-23 15:17:24\n",
       "\n",
       "[9601013 rows x 3 columns]"
      ]
     },
     "execution_count": 12,
     "metadata": {},
     "output_type": "execute_result"
    }
   ],
   "source": [
    "df_merge"
   ]
  },
  {
   "cell_type": "markdown",
   "metadata": {},
   "source": [
    "Колонки с датой приведены в воспринимаемый нашим мозгом вид.\n",
    "\n",
    "Далее были объединены два датасета для дальнейшей работы над функцией, которая будет рассчитывать Retention."
   ]
  },
  {
   "cell_type": "markdown",
   "metadata": {},
   "source": [
    "---"
   ]
  },
  {
   "cell_type": "markdown",
   "metadata": {},
   "source": [
    "### Как работает функция?\n",
    "\n",
    "1. Ввести начальную дату регистрации пользователей в формате год, месяц, день (YYYY-MM-DD);\n",
    "2. Ввести конечную дату регистрации пользователей в формате год, месяц, день (YYYY-MM-DD);"
   ]
  },
  {
   "cell_type": "markdown",
   "metadata": {},
   "source": [
    "---"
   ]
  },
  {
   "cell_type": "code",
   "execution_count": 13,
   "metadata": {},
   "outputs": [],
   "source": [
    "def get_retention(df_merge):\n",
    "    '''start — первая дата регистрации\n",
    "end — вторая дата регистрации\n",
    "Функция выводит heatmap с показателями Retention Rate (коэф. удержания)'''\n",
    "    start = datetime.strptime(input('Enter the start date of registration in the format YYYY-MM-DD: '), '%Y-%m-%d') \\\n",
    "                    .date()\n",
    "    end = datetime.strptime(input('Enter the end date of registration in the format YYYY-MM-DD: '), '%Y-%m-%d') \\\n",
    "                  .date()\n",
    "    print(f'Retention from {start} to {end}.')\n",
    "    \n",
    "    \n",
    "    # Фильтрация периодов для вычисления коэф. удержания\n",
    "    df_merge = df_merge.query(\"reg_ts >= @start and reg_ts <= @end\")\n",
    "    df_merge = df_merge.query(\"auth_ts >= @start and auth_ts <= @end\")\n",
    "    \n",
    "    \n",
    "    # Рассчёт разницы между регистрацией и повторной авторизацией\n",
    "    df_merge['difference'] = (df_merge.auth_ts - df_merge.reg_ts).dt.days\n",
    "    \n",
    "    \n",
    "    # Приведение колонок к формату YYYY-MM-DD (сейчас в данных время записано в формате YYYY-MM-DDThh:mm:ss)\n",
    "    df_merge['reg_ts'] = df_merge.reg_ts.dt.date\n",
    "    df_merge['auth_ts'] = df_merge.auth_ts.dt.date\n",
    "    \n",
    "    \n",
    "    # Группировка по дате регистрации и разницей между датой регистрации и повторной авторизацией\n",
    "    df_merge = df_merge.groupby(['reg_ts', 'difference']).uid.nunique().reset_index() \n",
    "    \n",
    "    \n",
    "    # Деление на когорты\n",
    "    cohort_table = df_merge.pivot_table(columns='difference', index='reg_ts', values='uid')\n",
    "    \n",
    "    \n",
    "    # Счёт коэф. удержания\n",
    "    retention = round(cohort_table.div(cohort_table[0], axis=0) * 100, 1).iloc[:-1, 1:]\n",
    "    cohort = cohort_table.iloc[:, 0]\n",
    "    retention.insert(loc=0, column='cohort', value=cohort)\n",
    "    \n",
    "    \n",
    "    # Визуализазиция результата на тепловой карте\n",
    "    plt.figure(figsize=(16, 9))\n",
    "    retention = sns.heatmap(retention,\n",
    "                            linewidths=1,\n",
    "                            annot=True,\n",
    "                            cmap='flare',\n",
    "                            vmin=0, vmax=10, center=5,\n",
    "                            fmt='g',\n",
    "                            annot_kws={\"fontsize\": 9})\n",
    "    plt.title('Retention rate', fontsize=14)\n",
    "    plt.xlabel('Количество дней с даты регистрации', fontsize=12)\n",
    "    plt.ylabel('Дата регистрации', fontsize=12)\n",
    "    plt.yticks(rotation=0)\n",
    "    plt.show()\n",
    "    \n",
    "    return retention"
   ]
  },
  {
   "cell_type": "code",
   "execution_count": 14,
   "metadata": {},
   "outputs": [
    {
     "name": "stdout",
     "output_type": "stream",
     "text": [
      "start — первая дата регистрации\n",
      "end — вторая дата регистрации\n",
      "Функция выводит heatmap с показателями Retention Rate (коэф. удержания)\n"
     ]
    }
   ],
   "source": [
    "print(get_retention.__doc__)"
   ]
  },
  {
   "cell_type": "code",
   "execution_count": 15,
   "metadata": {},
   "outputs": [
    {
     "name": "stdout",
     "output_type": "stream",
     "text": [
      "Enter the start date of registration in the format YYYY-MM-DD: 2020-07-01\n",
      "Enter the end date of registration in the format YYYY-MM-DD: 2020-07-28\n",
      "Retention from 2020-07-01 to 2020-07-28.\n"
     ]
    },
    {
     "name": "stderr",
     "output_type": "stream",
     "text": [
      "/opt/tljh/user/lib/python3.7/site-packages/ipykernel_launcher.py:18: SettingWithCopyWarning: \n",
      "A value is trying to be set on a copy of a slice from a DataFrame.\n",
      "Try using .loc[row_indexer,col_indexer] = value instead\n",
      "\n",
      "See the caveats in the documentation: https://pandas.pydata.org/pandas-docs/stable/user_guide/indexing.html#returning-a-view-versus-a-copy\n",
      "/opt/tljh/user/lib/python3.7/site-packages/ipykernel_launcher.py:22: SettingWithCopyWarning: \n",
      "A value is trying to be set on a copy of a slice from a DataFrame.\n",
      "Try using .loc[row_indexer,col_indexer] = value instead\n",
      "\n",
      "See the caveats in the documentation: https://pandas.pydata.org/pandas-docs/stable/user_guide/indexing.html#returning-a-view-versus-a-copy\n",
      "/opt/tljh/user/lib/python3.7/site-packages/ipykernel_launcher.py:23: SettingWithCopyWarning: \n",
      "A value is trying to be set on a copy of a slice from a DataFrame.\n",
      "Try using .loc[row_indexer,col_indexer] = value instead\n",
      "\n",
      "See the caveats in the documentation: https://pandas.pydata.org/pandas-docs/stable/user_guide/indexing.html#returning-a-view-versus-a-copy\n"
     ]
    },
    {
     "data": {
      "image/png": "[encoded data removed]",
      "text/plain": [
       "<Figure size 1152x648 with 2 Axes>"
      ]
     },
     "metadata": {
      "needs_background": "light"
     },
     "output_type": "display_data"
    },
    {
     "data": {
      "text/plain": [
       "<matplotlib.axes._subplots.AxesSubplot at 0x7f34fcc7d320>"
      ]
     },
     "execution_count": 15,
     "metadata": {},
     "output_type": "execute_result"
    }
   ],
   "source": [
    "get_retention(df_merge)"
   ]
  },
  {
   "cell_type": "markdown",
   "metadata": {},
   "source": [
    "### Вывод\n",
    "Из полученных результатов исследований наблюдаем следующую картину.\n",
    "Пик повторной авторизации в большинстве случаев порисходил на шестой день после регистрации, после чего шёл на спад. Однако в некоторые дни, зарегистрировавшиеся в одну дату заходили больше среднего."
   ]
  },
  {
   "cell_type": "markdown",
   "metadata": {},
   "source": [
    "---\n",
    "## Задание 2. A/B-Tests.\n",
    "\n",
    "\n",
    "Имеются результаты A/B теста, в котором двум группам пользователей предлагались различные наборы акционных предложений. Известно, что ARPU в тестовой группе выше на 5%, чем в контрольной. При этом в контрольной группе 1928 игроков из 202103 оказались платящими, а в тестовой – 1805 из 202667.\n",
    "\n",
    "---\n",
    "\n",
    "### Вопрос\n",
    "Какой набор предложений можно считать лучшим? Какие метрики стоит проанализировать для принятия правильного решения и как?\n",
    "\n",
    "---"
   ]
  },
  {
   "cell_type": "code",
   "execution_count": 16,
   "metadata": {},
   "outputs": [
    {
     "data": {
      "text/html": [
       "<div>\n",
       "<style scoped>\n",
       "    .dataframe tbody tr th:only-of-type {\n",
       "        vertical-align: middle;\n",
       "    }\n",
       "\n",
       "    .dataframe tbody tr th {\n",
       "        vertical-align: top;\n",
       "    }\n",
       "\n",
       "    .dataframe thead th {\n",
       "        text-align: right;\n",
       "    }\n",
       "</style>\n",
       "<table border=\"1\" class=\"dataframe\">\n",
       "  <thead>\n",
       "    <tr style=\"text-align: right;\">\n",
       "      <th></th>\n",
       "      <th>user_id</th>\n",
       "      <th>revenue</th>\n",
       "      <th>testgroup</th>\n",
       "    </tr>\n",
       "  </thead>\n",
       "  <tbody>\n",
       "    <tr>\n",
       "      <th>0</th>\n",
       "      <td>1</td>\n",
       "      <td>0</td>\n",
       "      <td>b</td>\n",
       "    </tr>\n",
       "    <tr>\n",
       "      <th>1</th>\n",
       "      <td>2</td>\n",
       "      <td>0</td>\n",
       "      <td>a</td>\n",
       "    </tr>\n",
       "    <tr>\n",
       "      <th>2</th>\n",
       "      <td>3</td>\n",
       "      <td>0</td>\n",
       "      <td>a</td>\n",
       "    </tr>\n",
       "    <tr>\n",
       "      <th>3</th>\n",
       "      <td>4</td>\n",
       "      <td>0</td>\n",
       "      <td>b</td>\n",
       "    </tr>\n",
       "    <tr>\n",
       "      <th>4</th>\n",
       "      <td>5</td>\n",
       "      <td>0</td>\n",
       "      <td>b</td>\n",
       "    </tr>\n",
       "  </tbody>\n",
       "</table>\n",
       "</div>"
      ],
      "text/plain": [
       "   user_id  revenue testgroup\n",
       "0        1        0         b\n",
       "1        2        0         a\n",
       "2        3        0         a\n",
       "3        4        0         b\n",
       "4        5        0         b"
      ]
     },
     "execution_count": 16,
     "metadata": {},
     "output_type": "execute_result"
    }
   ],
   "source": [
    "# Загрузка данных из интернета\n",
    "base_url = 'https://cloud-api.yandex.net/v1/disk/public/resources/download?'\n",
    "public_key = 'https://disk.yandex.ru/d/SOkIsD5A8xlI7Q'\n",
    "\n",
    "final_url = base_url + urlencode(dict(public_key=public_key)) \n",
    "request = requests.get(final_url)\n",
    "download_link = json.loads(request.text)['href']\n",
    "\n",
    "ab_tests_df = pd.read_csv(download_link, sep=';')\n",
    "ab_tests_df.head(5)"
   ]
  },
  {
   "cell_type": "code",
   "execution_count": 17,
   "metadata": {},
   "outputs": [
    {
     "name": "stdout",
     "output_type": "stream",
     "text": [
      "<class 'pandas.core.frame.DataFrame'>\n",
      "RangeIndex: 404770 entries, 0 to 404769\n",
      "Data columns (total 3 columns):\n",
      " #   Column     Non-Null Count   Dtype \n",
      "---  ------     --------------   ----- \n",
      " 0   user_id    404770 non-null  int64 \n",
      " 1   revenue    404770 non-null  int64 \n",
      " 2   testgroup  404770 non-null  object\n",
      "dtypes: int64(2), object(1)\n",
      "memory usage: 9.3+ MB\n"
     ]
    }
   ],
   "source": [
    "# Проверяем инфо\n",
    "ab_tests_df.info()"
   ]
  },
  {
   "cell_type": "code",
   "execution_count": 18,
   "metadata": {},
   "outputs": [
    {
     "data": {
      "text/plain": [
       "user_id      0\n",
       "revenue      0\n",
       "testgroup    0\n",
       "dtype: int64"
      ]
     },
     "execution_count": 18,
     "metadata": {},
     "output_type": "execute_result"
    }
   ],
   "source": [
    "# Проверяем на наличие NaN в данных\n",
    "ab_tests_df.isna().sum()"
   ]
  },
  {
   "cell_type": "code",
   "execution_count": 19,
   "metadata": {},
   "outputs": [
    {
     "data": {
      "text/plain": [
       "user_id      404770\n",
       "revenue        1477\n",
       "testgroup         2\n",
       "dtype: int64"
      ]
     },
     "execution_count": 19,
     "metadata": {},
     "output_type": "execute_result"
    }
   ],
   "source": [
    "# Проверяем уникальные значения в данных\n",
    "ab_tests_df.nunique()"
   ]
  },
  {
   "cell_type": "code",
   "execution_count": 20,
   "metadata": {},
   "outputs": [
    {
     "data": {
      "text/plain": [
       "count    404770.0\n",
       "mean         26.1\n",
       "std         681.7\n",
       "min           0.0\n",
       "25%           0.0\n",
       "50%           0.0\n",
       "75%           0.0\n",
       "max       37433.0\n",
       "Name: revenue, dtype: float64"
      ]
     },
     "execution_count": 20,
     "metadata": {},
     "output_type": "execute_result"
    }
   ],
   "source": [
    "# Проверяем общие значения по колонке 'revenue'\n",
    "ab_tests_df.revenue.describe().round(1)"
   ]
  },
  {
   "cell_type": "code",
   "execution_count": 21,
   "metadata": {},
   "outputs": [
    {
     "data": {
      "text/plain": [
       "count    202103.0\n",
       "mean         25.4\n",
       "std         920.8\n",
       "min           0.0\n",
       "25%           0.0\n",
       "50%           0.0\n",
       "75%           0.0\n",
       "max       37433.0\n",
       "Name: revenue, dtype: float64"
      ]
     },
     "execution_count": 21,
     "metadata": {},
     "output_type": "execute_result"
    }
   ],
   "source": [
    "# Проверяем значения revenue в контрольной группе\n",
    "ab_tests_df.query('testgroup == \"a\"').revenue.describe().round(1)"
   ]
  },
  {
   "cell_type": "code",
   "execution_count": 22,
   "metadata": {},
   "outputs": [
    {
     "data": {
      "text/plain": [
       "count    202667.0\n",
       "mean         26.8\n",
       "std         287.3\n",
       "min           0.0\n",
       "25%           0.0\n",
       "50%           0.0\n",
       "75%           0.0\n",
       "max        4000.0\n",
       "Name: revenue, dtype: float64"
      ]
     },
     "execution_count": 22,
     "metadata": {},
     "output_type": "execute_result"
    }
   ],
   "source": [
    "# Проверяем значения revenue в тестовой группе\n",
    "ab_tests_df.query('testgroup == \"b\"').revenue.describe().round(1)"
   ]
  },
  {
   "cell_type": "code",
   "execution_count": 23,
   "metadata": {},
   "outputs": [
    {
     "data": {
      "text/html": [
       "<div>\n",
       "<style scoped>\n",
       "    .dataframe tbody tr th:only-of-type {\n",
       "        vertical-align: middle;\n",
       "    }\n",
       "\n",
       "    .dataframe tbody tr th {\n",
       "        vertical-align: top;\n",
       "    }\n",
       "\n",
       "    .dataframe thead th {\n",
       "        text-align: right;\n",
       "    }\n",
       "</style>\n",
       "<table border=\"1\" class=\"dataframe\">\n",
       "  <thead>\n",
       "    <tr style=\"text-align: right;\">\n",
       "      <th></th>\n",
       "      <th>user_id</th>\n",
       "      <th>revenue</th>\n",
       "      <th>testgroup</th>\n",
       "    </tr>\n",
       "  </thead>\n",
       "  <tbody>\n",
       "    <tr>\n",
       "      <th>0</th>\n",
       "      <td>1</td>\n",
       "      <td>0</td>\n",
       "      <td>b</td>\n",
       "    </tr>\n",
       "    <tr>\n",
       "      <th>1</th>\n",
       "      <td>2</td>\n",
       "      <td>0</td>\n",
       "      <td>a</td>\n",
       "    </tr>\n",
       "    <tr>\n",
       "      <th>2</th>\n",
       "      <td>3</td>\n",
       "      <td>0</td>\n",
       "      <td>a</td>\n",
       "    </tr>\n",
       "    <tr>\n",
       "      <th>3</th>\n",
       "      <td>4</td>\n",
       "      <td>0</td>\n",
       "      <td>b</td>\n",
       "    </tr>\n",
       "    <tr>\n",
       "      <th>4</th>\n",
       "      <td>5</td>\n",
       "      <td>0</td>\n",
       "      <td>b</td>\n",
       "    </tr>\n",
       "    <tr>\n",
       "      <th>...</th>\n",
       "      <td>...</td>\n",
       "      <td>...</td>\n",
       "      <td>...</td>\n",
       "    </tr>\n",
       "    <tr>\n",
       "      <th>404765</th>\n",
       "      <td>404766</td>\n",
       "      <td>0</td>\n",
       "      <td>a</td>\n",
       "    </tr>\n",
       "    <tr>\n",
       "      <th>404766</th>\n",
       "      <td>404767</td>\n",
       "      <td>0</td>\n",
       "      <td>b</td>\n",
       "    </tr>\n",
       "    <tr>\n",
       "      <th>404767</th>\n",
       "      <td>404768</td>\n",
       "      <td>231</td>\n",
       "      <td>a</td>\n",
       "    </tr>\n",
       "    <tr>\n",
       "      <th>404768</th>\n",
       "      <td>404769</td>\n",
       "      <td>0</td>\n",
       "      <td>a</td>\n",
       "    </tr>\n",
       "    <tr>\n",
       "      <th>404769</th>\n",
       "      <td>404770</td>\n",
       "      <td>0</td>\n",
       "      <td>b</td>\n",
       "    </tr>\n",
       "  </tbody>\n",
       "</table>\n",
       "<p>404770 rows × 3 columns</p>\n",
       "</div>"
      ],
      "text/plain": [
       "        user_id  revenue testgroup\n",
       "0             1        0         b\n",
       "1             2        0         a\n",
       "2             3        0         a\n",
       "3             4        0         b\n",
       "4             5        0         b\n",
       "...         ...      ...       ...\n",
       "404765   404766        0         a\n",
       "404766   404767        0         b\n",
       "404767   404768      231         a\n",
       "404768   404769        0         a\n",
       "404769   404770        0         b\n",
       "\n",
       "[404770 rows x 3 columns]"
      ]
     },
     "execution_count": 23,
     "metadata": {},
     "output_type": "execute_result"
    }
   ],
   "source": [
    "ab_tests_df"
   ]
  },
  {
   "cell_type": "markdown",
   "metadata": {},
   "source": [
    "---"
   ]
  },
  {
   "cell_type": "code",
   "execution_count": 24,
   "metadata": {},
   "outputs": [],
   "source": [
    "# Разделение датафрейма на две части, контрольную и тестовую\n",
    "control_group = ab_tests_df.query('testgroup == \"a\"')\n",
    "test_group = ab_tests_df.query('testgroup == \"b\"')"
   ]
  },
  {
   "cell_type": "code",
   "execution_count": 25,
   "metadata": {},
   "outputs": [
    {
     "data": {
      "text/html": [
       "<div>\n",
       "<style scoped>\n",
       "    .dataframe tbody tr th:only-of-type {\n",
       "        vertical-align: middle;\n",
       "    }\n",
       "\n",
       "    .dataframe tbody tr th {\n",
       "        vertical-align: top;\n",
       "    }\n",
       "\n",
       "    .dataframe thead th {\n",
       "        text-align: right;\n",
       "    }\n",
       "</style>\n",
       "<table border=\"1\" class=\"dataframe\">\n",
       "  <thead>\n",
       "    <tr style=\"text-align: right;\">\n",
       "      <th></th>\n",
       "      <th>user_id</th>\n",
       "      <th>revenue</th>\n",
       "      <th>testgroup</th>\n",
       "    </tr>\n",
       "  </thead>\n",
       "  <tbody>\n",
       "    <tr>\n",
       "      <th>1</th>\n",
       "      <td>2</td>\n",
       "      <td>0</td>\n",
       "      <td>a</td>\n",
       "    </tr>\n",
       "    <tr>\n",
       "      <th>2</th>\n",
       "      <td>3</td>\n",
       "      <td>0</td>\n",
       "      <td>a</td>\n",
       "    </tr>\n",
       "    <tr>\n",
       "      <th>9</th>\n",
       "      <td>10</td>\n",
       "      <td>0</td>\n",
       "      <td>a</td>\n",
       "    </tr>\n",
       "    <tr>\n",
       "      <th>10</th>\n",
       "      <td>11</td>\n",
       "      <td>0</td>\n",
       "      <td>a</td>\n",
       "    </tr>\n",
       "    <tr>\n",
       "      <th>11</th>\n",
       "      <td>12</td>\n",
       "      <td>0</td>\n",
       "      <td>a</td>\n",
       "    </tr>\n",
       "    <tr>\n",
       "      <th>...</th>\n",
       "      <td>...</td>\n",
       "      <td>...</td>\n",
       "      <td>...</td>\n",
       "    </tr>\n",
       "    <tr>\n",
       "      <th>404760</th>\n",
       "      <td>404761</td>\n",
       "      <td>0</td>\n",
       "      <td>a</td>\n",
       "    </tr>\n",
       "    <tr>\n",
       "      <th>404762</th>\n",
       "      <td>404763</td>\n",
       "      <td>0</td>\n",
       "      <td>a</td>\n",
       "    </tr>\n",
       "    <tr>\n",
       "      <th>404765</th>\n",
       "      <td>404766</td>\n",
       "      <td>0</td>\n",
       "      <td>a</td>\n",
       "    </tr>\n",
       "    <tr>\n",
       "      <th>404767</th>\n",
       "      <td>404768</td>\n",
       "      <td>231</td>\n",
       "      <td>a</td>\n",
       "    </tr>\n",
       "    <tr>\n",
       "      <th>404768</th>\n",
       "      <td>404769</td>\n",
       "      <td>0</td>\n",
       "      <td>a</td>\n",
       "    </tr>\n",
       "  </tbody>\n",
       "</table>\n",
       "<p>202103 rows × 3 columns</p>\n",
       "</div>"
      ],
      "text/plain": [
       "        user_id  revenue testgroup\n",
       "1             2        0         a\n",
       "2             3        0         a\n",
       "9            10        0         a\n",
       "10           11        0         a\n",
       "11           12        0         a\n",
       "...         ...      ...       ...\n",
       "404760   404761        0         a\n",
       "404762   404763        0         a\n",
       "404765   404766        0         a\n",
       "404767   404768      231         a\n",
       "404768   404769        0         a\n",
       "\n",
       "[202103 rows x 3 columns]"
      ]
     },
     "execution_count": 25,
     "metadata": {},
     "output_type": "execute_result"
    }
   ],
   "source": [
    "# Контрольная группа\n",
    "control_group"
   ]
  },
  {
   "cell_type": "code",
   "execution_count": 26,
   "metadata": {},
   "outputs": [
    {
     "data": {
      "text/html": [
       "<div>\n",
       "<style scoped>\n",
       "    .dataframe tbody tr th:only-of-type {\n",
       "        vertical-align: middle;\n",
       "    }\n",
       "\n",
       "    .dataframe tbody tr th {\n",
       "        vertical-align: top;\n",
       "    }\n",
       "\n",
       "    .dataframe thead th {\n",
       "        text-align: right;\n",
       "    }\n",
       "</style>\n",
       "<table border=\"1\" class=\"dataframe\">\n",
       "  <thead>\n",
       "    <tr style=\"text-align: right;\">\n",
       "      <th></th>\n",
       "      <th>user_id</th>\n",
       "      <th>revenue</th>\n",
       "      <th>testgroup</th>\n",
       "    </tr>\n",
       "  </thead>\n",
       "  <tbody>\n",
       "    <tr>\n",
       "      <th>0</th>\n",
       "      <td>1</td>\n",
       "      <td>0</td>\n",
       "      <td>b</td>\n",
       "    </tr>\n",
       "    <tr>\n",
       "      <th>3</th>\n",
       "      <td>4</td>\n",
       "      <td>0</td>\n",
       "      <td>b</td>\n",
       "    </tr>\n",
       "    <tr>\n",
       "      <th>4</th>\n",
       "      <td>5</td>\n",
       "      <td>0</td>\n",
       "      <td>b</td>\n",
       "    </tr>\n",
       "    <tr>\n",
       "      <th>5</th>\n",
       "      <td>6</td>\n",
       "      <td>0</td>\n",
       "      <td>b</td>\n",
       "    </tr>\n",
       "    <tr>\n",
       "      <th>6</th>\n",
       "      <td>7</td>\n",
       "      <td>0</td>\n",
       "      <td>b</td>\n",
       "    </tr>\n",
       "    <tr>\n",
       "      <th>...</th>\n",
       "      <td>...</td>\n",
       "      <td>...</td>\n",
       "      <td>...</td>\n",
       "    </tr>\n",
       "    <tr>\n",
       "      <th>404761</th>\n",
       "      <td>404762</td>\n",
       "      <td>0</td>\n",
       "      <td>b</td>\n",
       "    </tr>\n",
       "    <tr>\n",
       "      <th>404763</th>\n",
       "      <td>404764</td>\n",
       "      <td>0</td>\n",
       "      <td>b</td>\n",
       "    </tr>\n",
       "    <tr>\n",
       "      <th>404764</th>\n",
       "      <td>404765</td>\n",
       "      <td>0</td>\n",
       "      <td>b</td>\n",
       "    </tr>\n",
       "    <tr>\n",
       "      <th>404766</th>\n",
       "      <td>404767</td>\n",
       "      <td>0</td>\n",
       "      <td>b</td>\n",
       "    </tr>\n",
       "    <tr>\n",
       "      <th>404769</th>\n",
       "      <td>404770</td>\n",
       "      <td>0</td>\n",
       "      <td>b</td>\n",
       "    </tr>\n",
       "  </tbody>\n",
       "</table>\n",
       "<p>202667 rows × 3 columns</p>\n",
       "</div>"
      ],
      "text/plain": [
       "        user_id  revenue testgroup\n",
       "0             1        0         b\n",
       "3             4        0         b\n",
       "4             5        0         b\n",
       "5             6        0         b\n",
       "6             7        0         b\n",
       "...         ...      ...       ...\n",
       "404761   404762        0         b\n",
       "404763   404764        0         b\n",
       "404764   404765        0         b\n",
       "404766   404767        0         b\n",
       "404769   404770        0         b\n",
       "\n",
       "[202667 rows x 3 columns]"
      ]
     },
     "execution_count": 26,
     "metadata": {},
     "output_type": "execute_result"
    }
   ],
   "source": [
    "# Тестовая группа\n",
    "test_group"
   ]
  },
  {
   "cell_type": "code",
   "execution_count": 27,
   "metadata": {},
   "outputs": [
    {
     "data": {
      "text/plain": [
       "5.56"
      ]
     },
     "execution_count": 27,
     "metadata": {},
     "output_type": "execute_result"
    }
   ],
   "source": [
    "# ARPU (средний доход на юзера) тест\n",
    "ARPU = ((test_group.revenue.sum() - control_group.revenue.sum()) / control_group.revenue.sum()) * 100\n",
    "ARPU.round(2)"
   ]
  },
  {
   "cell_type": "code",
   "execution_count": 28,
   "metadata": {},
   "outputs": [],
   "source": [
    "# Общая выручка\n",
    "revenue_sum_control = control_group.revenue.sum()\n",
    "revenue_sum_test = test_group.revenue.sum()\n",
    "\n",
    "\n",
    "# Количество юзеров\n",
    "users_control = control_group.user_id.count()\n",
    "users_test = test_group.user_id.count()\n",
    "\n",
    "\n",
    "# Количество донатеров (платящих игроков)\n",
    "donate_control = control_group.query('revenue != 0').user_id.count()\n",
    "donate_test = test_group.query('revenue != 0').user_id.count()\n",
    "\n",
    "\n",
    "# Средний чек\n",
    "avg_check_control = round(control_group.query('revenue != 0').revenue.mean(), 2)\n",
    "avg_check_test = round(test_group.query('revenue != 0').revenue.mean(), 2)\n",
    "\n",
    "\n",
    "# Медианный чек\n",
    "median_check_control = control_group.revenue.median()\n",
    "median_check_test = test_group.revenue.median()\n",
    "\n",
    "\n",
    "# Коэф. конверсии. Conversion rate (CR)\n",
    "CR_control = round(donate_control / users_control * 100, 2)\n",
    "CR_test = round(donate_test / users_test * 100, 2)\n",
    "\n",
    "\n",
    "# Средний доход на платящего пользователя (ARPPU)\n",
    "arppu_control = round(revenue_sum_control / donate_control, 2)\n",
    "arppu_test = round(revenue_sum_test / donate_test, 2)\n",
    "\n",
    "\n",
    "# Средний доход на пользователя (ARPU)\n",
    "arpu_control = round(revenue_sum_control / users_control, 2)\n",
    "arpu_test = round(revenue_sum_test / users_test, 2)\n",
    "\n",
    "\n",
    "# Общая таблица с метриками\n",
    "all_metrics = pd.DataFrame({'user_count': [users_control, users_test],\n",
    "                            'donaters_count': [donate_control, donate_test],\n",
    "                            'CR': [CR_control, CR_test],\n",
    "                            'avg_check': [avg_check_control, avg_check_test],\n",
    "                            'median_check': [median_check_control, median_check_test],\n",
    "                            'ARPPU': [arppu_control, arppu_test],\n",
    "                            'ARPU': [arpu_control, arpu_test],\n",
    "                            'revenue_sum': [revenue_sum_control, revenue_sum_test]},\n",
    "                           index=['control', 'test'])"
   ]
  },
  {
   "cell_type": "code",
   "execution_count": 29,
   "metadata": {},
   "outputs": [
    {
     "data": {
      "text/html": [
       "<div>\n",
       "<style scoped>\n",
       "    .dataframe tbody tr th:only-of-type {\n",
       "        vertical-align: middle;\n",
       "    }\n",
       "\n",
       "    .dataframe tbody tr th {\n",
       "        vertical-align: top;\n",
       "    }\n",
       "\n",
       "    .dataframe thead th {\n",
       "        text-align: right;\n",
       "    }\n",
       "</style>\n",
       "<table border=\"1\" class=\"dataframe\">\n",
       "  <thead>\n",
       "    <tr style=\"text-align: right;\">\n",
       "      <th></th>\n",
       "      <th>user_count</th>\n",
       "      <th>donaters_count</th>\n",
       "      <th>CR</th>\n",
       "      <th>avg_check</th>\n",
       "      <th>median_check</th>\n",
       "      <th>ARPPU</th>\n",
       "      <th>ARPU</th>\n",
       "      <th>revenue_sum</th>\n",
       "    </tr>\n",
       "  </thead>\n",
       "  <tbody>\n",
       "    <tr>\n",
       "      <th>control</th>\n",
       "      <td>202103</td>\n",
       "      <td>1928</td>\n",
       "      <td>0.95</td>\n",
       "      <td>2664.00</td>\n",
       "      <td>0.0</td>\n",
       "      <td>2664.00</td>\n",
       "      <td>25.41</td>\n",
       "      <td>5136189</td>\n",
       "    </tr>\n",
       "    <tr>\n",
       "      <th>test</th>\n",
       "      <td>202667</td>\n",
       "      <td>1805</td>\n",
       "      <td>0.89</td>\n",
       "      <td>3003.66</td>\n",
       "      <td>0.0</td>\n",
       "      <td>3003.66</td>\n",
       "      <td>26.75</td>\n",
       "      <td>5421603</td>\n",
       "    </tr>\n",
       "  </tbody>\n",
       "</table>\n",
       "</div>"
      ],
      "text/plain": [
       "         user_count  donaters_count    CR  avg_check  median_check    ARPPU  \\\n",
       "control      202103            1928  0.95    2664.00           0.0  2664.00   \n",
       "test         202667            1805  0.89    3003.66           0.0  3003.66   \n",
       "\n",
       "          ARPU  revenue_sum  \n",
       "control  25.41      5136189  \n",
       "test     26.75      5421603  "
      ]
     },
     "execution_count": 29,
     "metadata": {},
     "output_type": "execute_result"
    }
   ],
   "source": [
    "all_metrics"
   ]
  },
  {
   "cell_type": "code",
   "execution_count": 30,
   "metadata": {},
   "outputs": [
    {
     "data": {
      "image/png": "[encoded data removed]",
      "text/plain": [
       "<Figure size 1152x648 with 1 Axes>"
      ]
     },
     "metadata": {
      "needs_background": "light"
     },
     "output_type": "display_data"
    }
   ],
   "source": [
    "# График распределения прибыли по группам\n",
    "plt.figure(figsize=(16, 9))\n",
    "sns.set(font_scale=1.5)\n",
    "sns.histplot(x='revenue', data=ab_tests_df.query('revenue != 0'), hue='testgroup')\n",
    "plt.title('Распределение выручки между группами', fontsize=14)\n",
    "plt.xlabel('Выручка на 1 игрока-донатера', fontsize=12)\n",
    "plt.ylabel('Количество игроков-донатеров', fontsize=12)\n",
    "plt.yticks(rotation=0)\n",
    "plt.show()"
   ]
  },
  {
   "cell_type": "markdown",
   "metadata": {},
   "source": [
    "---\n",
    "\n",
    "### Расчёт стат. значимости\n",
    "\n",
    "---"
   ]
  },
  {
   "cell_type": "markdown",
   "metadata": {},
   "source": [
    "#### ARPU\n",
    "\n",
    "Посмотрим одинаковы ли дисперсии внутри наших групп."
   ]
  },
  {
   "cell_type": "code",
   "execution_count": 31,
   "metadata": {},
   "outputs": [
    {
     "data": {
      "text/plain": [
       "LeveneResult(statistic=1.57736044973474, pvalue=0.2091420343022563)"
      ]
     },
     "execution_count": 31,
     "metadata": {},
     "output_type": "execute_result"
    }
   ],
   "source": [
    "stats.levene(ab_tests_df.query('testgroup == \"a\"').revenue, \n",
    "             ab_tests_df.query('testgroup == \"b\"').revenue,\n",
    "             center='mean') "
   ]
  },
  {
   "cell_type": "code",
   "execution_count": 32,
   "metadata": {},
   "outputs": [
    {
     "data": {
      "text/plain": [
       "LeveneResult(statistic=0.3896289474701388, pvalue=0.5324948591043842)"
      ]
     },
     "execution_count": 32,
     "metadata": {},
     "output_type": "execute_result"
    }
   ],
   "source": [
    "stats.levene(ab_tests_df.query('testgroup==\"a\"').revenue,\n",
    "             ab_tests_df.query('testgroup==\"b\"').revenue,\n",
    "             center='median') "
   ]
  },
  {
   "cell_type": "markdown",
   "metadata": {},
   "source": [
    "Значение p-value > 0.05, значит дисперсии гомогенны.\n",
    "\n",
    "---\n",
    "Для применения t-теста также необходимо соблюсти требование к нормальности данных в обоих группах, но при гомогенности дисперсии и большом размере выборок для этого требования можно сделать исключение."
   ]
  },
  {
   "cell_type": "code",
   "execution_count": 33,
   "metadata": {},
   "outputs": [],
   "source": [
    "def ttests():\n",
    "    ttest = pg.ttest(x=ab_tests_df[ab_tests_df.testgroup == 'a'].revenue,\n",
    "                     y=ab_tests_df[ab_tests_df.testgroup == 'b'].revenue)\n",
    "    if ttest['p-val'].sum() > 0.05:\n",
    "        result = print(f\"Значение p-value = {ttest['p-val'].sum().round(2)}.\\n\\\n",
    "Значение больше 0.05. Это значит, что мы принимаем нулевую гипотезу.\\n\\\n",
    "Существенных различий между группами нет.\")\n",
    "    else:\n",
    "        result = print(f\"Значение p-value = {ttest['p-val'].sum().round(2)}. \\n\\\n",
    "Значение меньше или равно 0.05. Это значит, что мы не принимаем нулевую гипотезу.\\n\\\n",
    "Между группами есть существенные различия.\")\n",
    "    return result"
   ]
  },
  {
   "cell_type": "code",
   "execution_count": 34,
   "metadata": {},
   "outputs": [
    {
     "name": "stdout",
     "output_type": "stream",
     "text": [
      "Значение p-value = 0.53.\n",
      "Значение больше 0.05. Это значит, что мы принимаем нулевую гипотезу.\n",
      "Существенных различий между группами нет.\n"
     ]
    }
   ],
   "source": [
    "ttests()"
   ]
  },
  {
   "cell_type": "markdown",
   "metadata": {},
   "source": [
    "---\n",
    "#### ARPPU"
   ]
  },
  {
   "cell_type": "code",
   "execution_count": 35,
   "metadata": {},
   "outputs": [],
   "source": [
    "control_PU = control_group.query('revenue > 0')\n",
    "test_PU = test_group.query('revenue > 0')"
   ]
  },
  {
   "cell_type": "code",
   "execution_count": 36,
   "metadata": {},
   "outputs": [
    {
     "data": {
      "text/plain": [
       "LeveneResult(statistic=445.9869447066088, pvalue=1.3202514573715939e-93)"
      ]
     },
     "execution_count": 36,
     "metadata": {},
     "output_type": "execute_result"
    }
   ],
   "source": [
    "stats.levene(control_PU.revenue, test_PU.revenue, center='mean')"
   ]
  },
  {
   "cell_type": "markdown",
   "metadata": {},
   "source": [
    "p-value < 0.05 \n",
    "Дисперсии не гомогенны. t-критерий Стьюдента применять нельзя.\n",
    "\n",
    "Тут нам поможет bootstrap."
   ]
  },
  {
   "cell_type": "markdown",
   "metadata": {},
   "source": [
    "---\n",
    "#### Bootstrap\n",
    "\n",
    "Функция поможет нам провести тест заданное количество раз и поможет сделать распределение нормальным.\n",
    "\n",
    "Также она поможет нам определить приблизительное p-value, на основе которого мы сможем получить окончательный вывод A/B тестов."
   ]
  },
  {
   "cell_type": "code",
   "execution_count": 37,
   "metadata": {},
   "outputs": [],
   "source": [
    "def get_bootstrap(boot_num):\n",
    "    \n",
    "    # Уровень значимости\n",
    "    bootstrap_conf_level = 0.95\n",
    "    # Пустая переменная для записи результата\n",
    "    boot_data = []\n",
    "    \n",
    "    # Извлекаем подвыборки\n",
    "    for i in tqdm(range(boot_num)):\n",
    "        sample_1 = control_PU.revenue \\\n",
    "                             .sample(len(control_PU), replace=True) \\\n",
    "                             .values        \n",
    "        \n",
    "        sample_2 = test_PU.revenue \\\n",
    "                          .sample(len(test_PU), replace=True) \\\n",
    "                          .values\n",
    "        \n",
    "        boot_data.append(np.mean(sample_1) - np.mean(sample_2))\n",
    "        \n",
    "    \n",
    "    boot_table = pd.DataFrame(boot_data)\n",
    "        \n",
    "    # Расчёт крайних значений\n",
    "    left_quantile = (1 - bootstrap_conf_level) / 2\n",
    "    right_quantile = 1 - (1 - bootstrap_conf_level) / 2\n",
    "    quantiles = boot_table.quantile([left_quantile, right_quantile])\n",
    "    \n",
    "    # P-value\n",
    "    pval1 = stats.norm.cdf(x=0, \n",
    "                           loc=np.mean(boot_data), \n",
    "                           scale=np.std(boot_data))\n",
    "    \n",
    "    pval2 = stats.norm.cdf(x=0, \n",
    "                           loc=-np.mean(boot_data), \n",
    "                           scale=np.std(boot_data))\n",
    "    \n",
    "    p_value = min(pval1, pval2) * 2\n",
    "    \n",
    "    # Визуализация\n",
    "    plt.figure(figsize=(16, 9))\n",
    "    x, y, bars = plt.hist(boot_table[0], bins=50)\n",
    "    for bar in bars:\n",
    "        if bar.get_x() <= quantiles.iloc[0][0] or bar.get_x() >= quantiles.iloc[1][0]:\n",
    "            bar.set_facecolor('red')\n",
    "        else: \n",
    "            bar.set_facecolor('grey')\n",
    "            bar.set_edgecolor('black')\n",
    "    plt.style.use('classic')\n",
    "    plt.vlines(quantiles, ymin=0, ymax=50, linestyle='--')\n",
    "    plt.xlabel('Разница')\n",
    "    plt.ylabel('Количество')\n",
    "    plt.title(\"Распределение средних значений\")\n",
    "    plt.show()\n",
    "       \n",
    "    return {\"boot_data\": boot_data, \n",
    "            \"quants\": quantiles, \n",
    "            \"p_value\": p_value}"
   ]
  },
  {
   "cell_type": "markdown",
   "metadata": {},
   "source": [
    "---"
   ]
  },
  {
   "cell_type": "code",
   "execution_count": 38,
   "metadata": {},
   "outputs": [
    {
     "data": {
      "application/vnd.jupyter.widget-view+json": {
       "model_id": "34d6a329a03f431abd5bc481d8340def",
       "version_major": 2,
       "version_minor": 0
      },
      "text/plain": [
       "HBox(children=(FloatProgress(value=0.0, max=1000.0), HTML(value='')))"
      ]
     },
     "metadata": {},
     "output_type": "display_data"
    },
    {
     "name": "stdout",
     "output_type": "stream",
     "text": [
      "\n"
     ]
    },
    {
     "data": {
      "image/png": "[encoded data removed]",
      "text/plain": [
       "<Figure size 1152x648 with 1 Axes>"
      ]
     },
     "metadata": {},
     "output_type": "display_data"
    }
   ],
   "source": [
    "booted_data_ARPPU = get_bootstrap(1000)"
   ]
  },
  {
   "cell_type": "markdown",
   "metadata": {},
   "source": [
    "---"
   ]
  },
  {
   "cell_type": "code",
   "execution_count": 39,
   "metadata": {},
   "outputs": [],
   "source": [
    "def bootstrap_pval():\n",
    "    \n",
    "    if booted_data_ARPPU['p_value'] > 0.05:\n",
    "        result = print(f\"Значение p-value = {booted_data_ARPPU['p_value'].round(2)}.\\n\\\n",
    "Значение больше 0.05. Это значит, что мы принимаем нулевую гипотезу.\\n\\\n",
    "Существенных различий между группами нет.\")\n",
    "    else:\n",
    "        result = print(f\"Значение p-value = {booted_data_ARPPU['p_value'].round(2)}. \\n\\\n",
    "Значение меньше или равно 0.05. Это значит, что мы не принимаем нулевую гипотезу.\\n\\\n",
    "Между группами есть существенные различия.\")\n",
    "        \n",
    "    return result"
   ]
  },
  {
   "cell_type": "code",
   "execution_count": 40,
   "metadata": {},
   "outputs": [
    {
     "name": "stdout",
     "output_type": "stream",
     "text": [
      "Значение p-value = 0.1.\n",
      "Значение больше 0.05. Это значит, что мы принимаем нулевую гипотезу.\n",
      "Существенных различий между группами нет.\n"
     ]
    }
   ],
   "source": [
    "bootstrap_pval()"
   ]
  },
  {
   "cell_type": "markdown",
   "metadata": {},
   "source": [
    "---"
   ]
  },
  {
   "cell_type": "markdown",
   "metadata": {},
   "source": [
    "#### CR"
   ]
  },
  {
   "cell_type": "code",
   "execution_count": 41,
   "metadata": {},
   "outputs": [
    {
     "data": {
      "text/html": [
       "<div>\n",
       "<style scoped>\n",
       "    .dataframe tbody tr th:only-of-type {\n",
       "        vertical-align: middle;\n",
       "    }\n",
       "\n",
       "    .dataframe tbody tr th {\n",
       "        vertical-align: top;\n",
       "    }\n",
       "\n",
       "    .dataframe thead th {\n",
       "        text-align: right;\n",
       "    }\n",
       "</style>\n",
       "<table border=\"1\" class=\"dataframe\">\n",
       "  <thead>\n",
       "    <tr style=\"text-align: right;\">\n",
       "      <th></th>\n",
       "      <th>user_count</th>\n",
       "      <th>donaters_count</th>\n",
       "    </tr>\n",
       "  </thead>\n",
       "  <tbody>\n",
       "    <tr>\n",
       "      <th>control</th>\n",
       "      <td>202103</td>\n",
       "      <td>1928</td>\n",
       "    </tr>\n",
       "    <tr>\n",
       "      <th>test</th>\n",
       "      <td>202667</td>\n",
       "      <td>1805</td>\n",
       "    </tr>\n",
       "  </tbody>\n",
       "</table>\n",
       "</div>"
      ],
      "text/plain": [
       "         user_count  donaters_count\n",
       "control      202103            1928\n",
       "test         202667            1805"
      ]
     },
     "execution_count": 41,
     "metadata": {},
     "output_type": "execute_result"
    }
   ],
   "source": [
    "all_metrics[['user_count', 'donaters_count']]"
   ]
  },
  {
   "cell_type": "code",
   "execution_count": 42,
   "metadata": {},
   "outputs": [
    {
     "data": {
      "text/html": [
       "<div>\n",
       "<style scoped>\n",
       "    .dataframe tbody tr th:only-of-type {\n",
       "        vertical-align: middle;\n",
       "    }\n",
       "\n",
       "    .dataframe tbody tr th {\n",
       "        vertical-align: top;\n",
       "    }\n",
       "\n",
       "    .dataframe thead th {\n",
       "        text-align: right;\n",
       "    }\n",
       "</style>\n",
       "<table border=\"1\" class=\"dataframe\">\n",
       "  <thead>\n",
       "    <tr style=\"text-align: right;\">\n",
       "      <th></th>\n",
       "      <th>user_id</th>\n",
       "      <th>revenue</th>\n",
       "      <th>testgroup</th>\n",
       "      <th>paying</th>\n",
       "    </tr>\n",
       "  </thead>\n",
       "  <tbody>\n",
       "    <tr>\n",
       "      <th>0</th>\n",
       "      <td>1</td>\n",
       "      <td>0</td>\n",
       "      <td>b</td>\n",
       "      <td>no</td>\n",
       "    </tr>\n",
       "    <tr>\n",
       "      <th>1</th>\n",
       "      <td>2</td>\n",
       "      <td>0</td>\n",
       "      <td>a</td>\n",
       "      <td>no</td>\n",
       "    </tr>\n",
       "    <tr>\n",
       "      <th>2</th>\n",
       "      <td>3</td>\n",
       "      <td>0</td>\n",
       "      <td>a</td>\n",
       "      <td>no</td>\n",
       "    </tr>\n",
       "    <tr>\n",
       "      <th>3</th>\n",
       "      <td>4</td>\n",
       "      <td>0</td>\n",
       "      <td>b</td>\n",
       "      <td>no</td>\n",
       "    </tr>\n",
       "    <tr>\n",
       "      <th>4</th>\n",
       "      <td>5</td>\n",
       "      <td>0</td>\n",
       "      <td>b</td>\n",
       "      <td>no</td>\n",
       "    </tr>\n",
       "  </tbody>\n",
       "</table>\n",
       "</div>"
      ],
      "text/plain": [
       "   user_id  revenue testgroup paying\n",
       "0        1        0         b     no\n",
       "1        2        0         a     no\n",
       "2        3        0         a     no\n",
       "3        4        0         b     no\n",
       "4        5        0         b     no"
      ]
     },
     "execution_count": 42,
     "metadata": {},
     "output_type": "execute_result"
    }
   ],
   "source": [
    "ab_tests_df['paying'] = ab_tests_df['revenue'].apply(lambda x: 'yes' if x > 0 else 'no')\n",
    "ab_tests_df.head()"
   ]
  },
  {
   "cell_type": "code",
   "execution_count": 43,
   "metadata": {},
   "outputs": [
    {
     "data": {
      "text/html": [
       "<div>\n",
       "<style scoped>\n",
       "    .dataframe tbody tr th:only-of-type {\n",
       "        vertical-align: middle;\n",
       "    }\n",
       "\n",
       "    .dataframe tbody tr th {\n",
       "        vertical-align: top;\n",
       "    }\n",
       "\n",
       "    .dataframe thead th {\n",
       "        text-align: right;\n",
       "    }\n",
       "</style>\n",
       "<table border=\"1\" class=\"dataframe\">\n",
       "  <thead>\n",
       "    <tr style=\"text-align: right;\">\n",
       "      <th>testgroup</th>\n",
       "      <th>a</th>\n",
       "      <th>b</th>\n",
       "    </tr>\n",
       "    <tr>\n",
       "      <th>paying</th>\n",
       "      <th></th>\n",
       "      <th></th>\n",
       "    </tr>\n",
       "  </thead>\n",
       "  <tbody>\n",
       "    <tr>\n",
       "      <th>no</th>\n",
       "      <td>200175</td>\n",
       "      <td>200862</td>\n",
       "    </tr>\n",
       "    <tr>\n",
       "      <th>yes</th>\n",
       "      <td>1928</td>\n",
       "      <td>1805</td>\n",
       "    </tr>\n",
       "  </tbody>\n",
       "</table>\n",
       "</div>"
      ],
      "text/plain": [
       "testgroup       a       b\n",
       "paying                   \n",
       "no         200175  200862\n",
       "yes          1928    1805"
      ]
     },
     "execution_count": 43,
     "metadata": {},
     "output_type": "execute_result"
    }
   ],
   "source": [
    "table_cross = pd.crosstab(ab_tests_df.paying, ab_tests_df.testgroup)\n",
    "table_cross"
   ]
  },
  {
   "cell_type": "code",
   "execution_count": 44,
   "metadata": {},
   "outputs": [
    {
     "data": {
      "text/plain": [
       "0.03647561892312613"
      ]
     },
     "execution_count": 44,
     "metadata": {},
     "output_type": "execute_result"
    }
   ],
   "source": [
    "stat, p, dof, expected = stats.chi2_contingency(table_cross)\n",
    "p"
   ]
  },
  {
   "cell_type": "markdown",
   "metadata": {},
   "source": [
    "p-value < 0,05.\n",
    "Различия между контрольной и тестовой группой есть.\n",
    "В контрольной группе конверсия в покупку выше."
   ]
  },
  {
   "cell_type": "markdown",
   "metadata": {},
   "source": [
    "---\n",
    "### Вывод.\n",
    "\n",
    "Мы проверили исследование на наличие различий между контрольной и тестовой группой.\n",
    "\n",
    "В ходе исследований выяснилось, что:\n",
    "\n",
    "- ARPU в двух группах примерно одинаковый, не имеет существенных различий;\n",
    "- ARPPU в двух группах также примерно одинаковый и не имеет сущетсвенных различий;\n",
    "- CR в двух группах имеет различия, и в контрольной группе конверсия оказалась больше, чем в тестовой.\n",
    "\n",
    "---\n",
    "\n",
    "#### В ходе исследования использовались:\n",
    "\n",
    "- Критерий Левена — для определения гомогенности дисперсии (если дисперсии гомогенны, можно сделать исключение для проведения t-теста, он же Критерий Стьюдента);\n",
    "- Критерий Стьюдента (t-тест) — для того, чтобы выяснить есть ли различия между двумя группами;\n",
    "- Критерий Хи-квадрат — для определения наличия различий между двумя группами.\n",
    "\n",
    "---\n",
    "\n",
    "#### Исходя из результатов исследования, можно сделать вывод, что набор акционных предложений в контрольной группе оказался лучше по показателю конверсии в покупку. По остальным метрикам существенных изменений обнаружено не было."
   ]
  },
  {
   "cell_type": "markdown",
   "metadata": {},
   "source": [
    "---"
   ]
  },
  {
   "cell_type": "markdown",
   "metadata": {},
   "source": [
    "## Задание 3. \n",
    "---\n",
    "1. В игре Plants & Gardens каждый месяц проводятся тематические события, ограниченные по времени. В них игроки могут получить уникальные предметы для сада и персонажей, дополнительные монеты или бонусы. Для получения награды требуется пройти ряд уровней за определенное время. С помощью каких метрик можно оценить результаты последнего прошедшего события?\n",
    "\n",
    "\n",
    "2. Предположим, в другом событии мы усложнили механику событий так, что при каждой неудачной попытке выполнения уровня игрок будет откатываться на несколько уровней назад. Изменится ли набор метрик оценки результата? Если да, то как?\n",
    "\n",
    "---"
   ]
  },
  {
   "cell_type": "markdown",
   "metadata": {},
   "source": [
    "#### Пункт 1.\n",
    "\n",
    "Метрики, которые помогут оценить результаты прошедшего события:\n",
    "1. ATV (Average Transaction Value) - Поможет провести сегментирование игроков и выстроить ценообразование привелегий.\n",
    "2. Stickness Rate - Регулярность использования приложения в течение месяца.\n",
    "3. Churn Rate - Отток пользователей. Возможно, что уровни в событиях слишком трудные или же наоборот слишком легкие или же в событии какой-то баг. Эта метрика будет сигнализировать, что в игре что-то пошло не так.\n",
    "4. LTV (Lifetime Value) - Покажет общую сумму денег, которую покупатель тратит за всё время, пока пользуется продуктом. Эта метрика также может не за всё время, но и за конкретный промежуток времени (в нашем случае на время события).\n",
    "5. Conversion funnel (Воронка конверсий) - Сможет сигнализировать о проблемных уровнях, на которых могут отваливаться пользователи.\n",
    "\n",
    "---\n",
    "#### Пункт 2.\n",
    "\n",
    "Для этого потребуется провести новый A/B-тест который покажет результаты за период классического игрового ивента и за период тестового.\n",
    "\n",
    "Для получения точных результатов исследования понадобятся дополнительные логи:\n",
    "1. Скачивания приложения.\n",
    "2. Продолжительность сессии.\n",
    "3. Уровень пользователя в игре и в игровом событии и история его повышения.\n",
    "4. Неудачные попытки пользователя пройти уровень.\n",
    "\n",
    "Для определения успешности введения новой механики понадобятся те же метрики, что и в первом пункте плюс Retention Rate.\n"
   ]
  },
  {
   "cell_type": "markdown",
   "metadata": {},
   "source": [
    "---"
   ]
  }
 ],
 "metadata": {
  "kernelspec": {
   "display_name": "Python 3",
   "language": "python",
   "name": "python3"
  },
  "language_info": {
   "codemirror_mode": {
    "name": "ipython",
    "version": 3
   },
   "file_extension": ".py",
   "mimetype": "text/x-python",
   "name": "python",
   "nbconvert_exporter": "python",
   "pygments_lexer": "ipython3",
   "version": "3.7.3"
  }
 },
 "nbformat": 4,
 "nbformat_minor": 4
}
